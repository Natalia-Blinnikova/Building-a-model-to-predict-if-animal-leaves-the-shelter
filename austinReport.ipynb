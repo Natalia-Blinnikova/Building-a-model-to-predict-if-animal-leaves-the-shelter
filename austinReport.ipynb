{
 "cells": [
  {
   "cell_type": "markdown",
   "metadata": {
    "id": "MhfLt-KouUQd"
   },
   "source": [
    "# Analysis of data of animals outcomes of the Austin Animal Shelter \n",
    "September, 16th, 2022\n",
    "<br> Natalia Blinnikova\n",
    "\n",
    "## Aim: to find out what factors may influence the probability of an animal to leave the shelter to home and build a model that may predict if it leaves the shelter to home or to some other destination. \n",
    "\n",
    "### Source of data: \n",
    "Austin Animal Shelter \n",
    "1. [Austin Animal Center Shelter Outcomes](https://data.austintexas.gov/Health-and-Community-Services/Austin-Animal-Center-Outcomes/9t4d-g238)\n",
    "2. [Austin Animal Center Shelter Intakes](https://data.austintexas.gov/Health-and-Community-Services/Austin-Animal-Center-Intakes/wter-evkm)\n",
    "\n",
    "## Content\n",
    "<br> Cleaning and understanding the data for outcomes\n",
    "<br> Cleaning and understanding the data for intakes\n",
    "<br> Exploratory analysis of merged dataset with intakes and outcomes \n",
    "<br> Exploration of data for modeling\n",
    "<br> Building the models for predictions "
   ]
  },
  {
   "cell_type": "code",
   "execution_count": null,
   "metadata": {
    "id": "hXS7AnAguUQg"
   },
   "outputs": [],
   "source": [
    "import pandas as pd\n",
    "import numpy as np\n",
    "import seaborn as sns \n",
    "import sklearn as sk \n",
    "import traceback\n",
    "import re\n",
    "from datetime import datetime "
   ]
  },
  {
   "cell_type": "markdown",
   "metadata": {
    "id": "BKIepoe8uUQi"
   },
   "source": [
    "## Cleaning and understanding the data"
   ]
  },
  {
   "cell_type": "markdown",
   "metadata": {
    "id": "Nbwd1URNuUQj"
   },
   "source": [
    "### Checking data for outakes"
   ]
  },
  {
   "cell_type": "code",
   "execution_count": null,
   "metadata": {
    "id": "bhqnT-gLuUQk",
    "outputId": "51cc1b4a-bf6c-4dd1-989d-64827418622c",
    "scrolled": true
   },
   "outputs": [
    {
     "data": {
      "text/html": [
       "<div>\n",
       "<style scoped>\n",
       "    .dataframe tbody tr th:only-of-type {\n",
       "        vertical-align: middle;\n",
       "    }\n",
       "\n",
       "    .dataframe tbody tr th {\n",
       "        vertical-align: top;\n",
       "    }\n",
       "\n",
       "    .dataframe thead th {\n",
       "        text-align: right;\n",
       "    }\n",
       "</style>\n",
       "<table border=\"1\" class=\"dataframe\">\n",
       "  <thead>\n",
       "    <tr style=\"text-align: right;\">\n",
       "      <th></th>\n",
       "      <th>Animal ID</th>\n",
       "      <th>Name</th>\n",
       "      <th>DateTime</th>\n",
       "      <th>MonthYear</th>\n",
       "      <th>Date of Birth</th>\n",
       "      <th>Outcome Type</th>\n",
       "      <th>Outcome Subtype</th>\n",
       "      <th>Animal Type</th>\n",
       "      <th>Sex upon Outcome</th>\n",
       "      <th>Age upon Outcome</th>\n",
       "      <th>Breed</th>\n",
       "      <th>Color</th>\n",
       "    </tr>\n",
       "  </thead>\n",
       "  <tbody>\n",
       "    <tr>\n",
       "      <th>0</th>\n",
       "      <td>A794011</td>\n",
       "      <td>Chunk</td>\n",
       "      <td>05/08/2019 06:20:00 PM</td>\n",
       "      <td>May 2019</td>\n",
       "      <td>05/02/2017</td>\n",
       "      <td>Rto-Adopt</td>\n",
       "      <td>NaN</td>\n",
       "      <td>Cat</td>\n",
       "      <td>Neutered Male</td>\n",
       "      <td>2 years</td>\n",
       "      <td>Domestic Shorthair Mix</td>\n",
       "      <td>Brown Tabby/White</td>\n",
       "    </tr>\n",
       "    <tr>\n",
       "      <th>1</th>\n",
       "      <td>A776359</td>\n",
       "      <td>Gizmo</td>\n",
       "      <td>07/18/2018 04:02:00 PM</td>\n",
       "      <td>Jul 2018</td>\n",
       "      <td>07/12/2017</td>\n",
       "      <td>Adoption</td>\n",
       "      <td>NaN</td>\n",
       "      <td>Dog</td>\n",
       "      <td>Neutered Male</td>\n",
       "      <td>1 year</td>\n",
       "      <td>Chihuahua Shorthair Mix</td>\n",
       "      <td>White/Brown</td>\n",
       "    </tr>\n",
       "    <tr>\n",
       "      <th>2</th>\n",
       "      <td>A821648</td>\n",
       "      <td>NaN</td>\n",
       "      <td>08/16/2020 11:38:00 AM</td>\n",
       "      <td>Aug 2020</td>\n",
       "      <td>08/16/2019</td>\n",
       "      <td>Euthanasia</td>\n",
       "      <td>NaN</td>\n",
       "      <td>Other</td>\n",
       "      <td>Unknown</td>\n",
       "      <td>1 year</td>\n",
       "      <td>Raccoon</td>\n",
       "      <td>Gray</td>\n",
       "    </tr>\n",
       "    <tr>\n",
       "      <th>3</th>\n",
       "      <td>A720371</td>\n",
       "      <td>Moose</td>\n",
       "      <td>02/13/2016 05:59:00 PM</td>\n",
       "      <td>Feb 2016</td>\n",
       "      <td>10/08/2015</td>\n",
       "      <td>Adoption</td>\n",
       "      <td>NaN</td>\n",
       "      <td>Dog</td>\n",
       "      <td>Neutered Male</td>\n",
       "      <td>4 months</td>\n",
       "      <td>Anatol Shepherd/Labrador Retriever</td>\n",
       "      <td>Buff</td>\n",
       "    </tr>\n",
       "    <tr>\n",
       "      <th>4</th>\n",
       "      <td>A674754</td>\n",
       "      <td>NaN</td>\n",
       "      <td>03/18/2014 11:47:00 AM</td>\n",
       "      <td>Mar 2014</td>\n",
       "      <td>03/12/2014</td>\n",
       "      <td>Transfer</td>\n",
       "      <td>Partner</td>\n",
       "      <td>Cat</td>\n",
       "      <td>Intact Male</td>\n",
       "      <td>6 days</td>\n",
       "      <td>Domestic Shorthair Mix</td>\n",
       "      <td>Orange Tabby</td>\n",
       "    </tr>\n",
       "  </tbody>\n",
       "</table>\n",
       "</div>"
      ],
      "text/plain": [
       "  Animal ID   Name                DateTime MonthYear Date of Birth  \\\n",
       "0   A794011  Chunk  05/08/2019 06:20:00 PM  May 2019    05/02/2017   \n",
       "1   A776359  Gizmo  07/18/2018 04:02:00 PM  Jul 2018    07/12/2017   \n",
       "2   A821648    NaN  08/16/2020 11:38:00 AM  Aug 2020    08/16/2019   \n",
       "3   A720371  Moose  02/13/2016 05:59:00 PM  Feb 2016    10/08/2015   \n",
       "4   A674754    NaN  03/18/2014 11:47:00 AM  Mar 2014    03/12/2014   \n",
       "\n",
       "  Outcome Type Outcome Subtype Animal Type Sex upon Outcome Age upon Outcome  \\\n",
       "0    Rto-Adopt             NaN         Cat    Neutered Male          2 years   \n",
       "1     Adoption             NaN         Dog    Neutered Male           1 year   \n",
       "2   Euthanasia             NaN       Other          Unknown           1 year   \n",
       "3     Adoption             NaN         Dog    Neutered Male         4 months   \n",
       "4     Transfer         Partner         Cat      Intact Male           6 days   \n",
       "\n",
       "                                Breed              Color  \n",
       "0              Domestic Shorthair Mix  Brown Tabby/White  \n",
       "1             Chihuahua Shorthair Mix        White/Brown  \n",
       "2                             Raccoon               Gray  \n",
       "3  Anatol Shepherd/Labrador Retriever               Buff  \n",
       "4              Domestic Shorthair Mix       Orange Tabby  "
      ]
     },
     "execution_count": 57,
     "metadata": {},
     "output_type": "execute_result"
    }
   ],
   "source": [
    "data = pd.read_csv('Austin_Animal_Center_Outcomes.csv')\n",
    "data.head()"
   ]
  },
  {
   "cell_type": "code",
   "execution_count": null,
   "metadata": {
    "id": "4QMe6LPNuUQl",
    "outputId": "c7f00f5d-5e46-4e8f-fb17-dafcf5bdee3a"
   },
   "outputs": [
    {
     "data": {
      "text/html": [
       "<div>\n",
       "<style scoped>\n",
       "    .dataframe tbody tr th:only-of-type {\n",
       "        vertical-align: middle;\n",
       "    }\n",
       "\n",
       "    .dataframe tbody tr th {\n",
       "        vertical-align: top;\n",
       "    }\n",
       "\n",
       "    .dataframe thead th {\n",
       "        text-align: right;\n",
       "    }\n",
       "</style>\n",
       "<table border=\"1\" class=\"dataframe\">\n",
       "  <thead>\n",
       "    <tr style=\"text-align: right;\">\n",
       "      <th></th>\n",
       "      <th>Animal ID</th>\n",
       "      <th>Name</th>\n",
       "      <th>DateTime</th>\n",
       "      <th>MonthYear</th>\n",
       "      <th>Date of Birth</th>\n",
       "      <th>Outcome Type</th>\n",
       "      <th>Outcome Subtype</th>\n",
       "      <th>Animal Type</th>\n",
       "      <th>Sex upon Outcome</th>\n",
       "      <th>Age upon Outcome</th>\n",
       "      <th>Breed</th>\n",
       "      <th>Color</th>\n",
       "    </tr>\n",
       "  </thead>\n",
       "  <tbody>\n",
       "    <tr>\n",
       "      <th>7820</th>\n",
       "      <td>A846569</td>\n",
       "      <td>A846569</td>\n",
       "      <td>12/04/2021 10:34:00 AM</td>\n",
       "      <td>Dec 2021</td>\n",
       "      <td>06/15/2021</td>\n",
       "      <td>Adoption</td>\n",
       "      <td>NaN</td>\n",
       "      <td>Dog</td>\n",
       "      <td>Neutered Male</td>\n",
       "      <td>5 months</td>\n",
       "      <td>Australian Cattle Dog Mix</td>\n",
       "      <td>Red Tick</td>\n",
       "    </tr>\n",
       "    <tr>\n",
       "      <th>7821</th>\n",
       "      <td>A846569</td>\n",
       "      <td>A846569</td>\n",
       "      <td>12/04/2021 10:34:00 AM</td>\n",
       "      <td>Dec 2021</td>\n",
       "      <td>06/15/2021</td>\n",
       "      <td>Adoption</td>\n",
       "      <td>NaN</td>\n",
       "      <td>Dog</td>\n",
       "      <td>Neutered Male</td>\n",
       "      <td>5 months</td>\n",
       "      <td>Australian Cattle Dog Mix</td>\n",
       "      <td>Red Tick</td>\n",
       "    </tr>\n",
       "    <tr>\n",
       "      <th>9836</th>\n",
       "      <td>A815987</td>\n",
       "      <td>Princess</td>\n",
       "      <td>04/13/2020 04:56:00 PM</td>\n",
       "      <td>Apr 2020</td>\n",
       "      <td>04/02/2019</td>\n",
       "      <td>Return to Owner</td>\n",
       "      <td>NaN</td>\n",
       "      <td>Dog</td>\n",
       "      <td>Intact Female</td>\n",
       "      <td>1 year</td>\n",
       "      <td>Cairn Terrier</td>\n",
       "      <td>White/Brown</td>\n",
       "    </tr>\n",
       "    <tr>\n",
       "      <th>9837</th>\n",
       "      <td>A815987</td>\n",
       "      <td>Princess</td>\n",
       "      <td>04/13/2020 04:56:00 PM</td>\n",
       "      <td>Apr 2020</td>\n",
       "      <td>04/02/2019</td>\n",
       "      <td>Return to Owner</td>\n",
       "      <td>NaN</td>\n",
       "      <td>Dog</td>\n",
       "      <td>Intact Female</td>\n",
       "      <td>1 year</td>\n",
       "      <td>Cairn Terrier</td>\n",
       "      <td>White/Brown</td>\n",
       "    </tr>\n",
       "  </tbody>\n",
       "</table>\n",
       "</div>"
      ],
      "text/plain": [
       "     Animal ID      Name                DateTime MonthYear Date of Birth  \\\n",
       "7820   A846569   A846569  12/04/2021 10:34:00 AM  Dec 2021    06/15/2021   \n",
       "7821   A846569   A846569  12/04/2021 10:34:00 AM  Dec 2021    06/15/2021   \n",
       "9836   A815987  Princess  04/13/2020 04:56:00 PM  Apr 2020    04/02/2019   \n",
       "9837   A815987  Princess  04/13/2020 04:56:00 PM  Apr 2020    04/02/2019   \n",
       "\n",
       "         Outcome Type Outcome Subtype Animal Type Sex upon Outcome  \\\n",
       "7820         Adoption             NaN         Dog    Neutered Male   \n",
       "7821         Adoption             NaN         Dog    Neutered Male   \n",
       "9836  Return to Owner             NaN         Dog    Intact Female   \n",
       "9837  Return to Owner             NaN         Dog    Intact Female   \n",
       "\n",
       "     Age upon Outcome                      Breed        Color  \n",
       "7820         5 months  Australian Cattle Dog Mix     Red Tick  \n",
       "7821         5 months  Australian Cattle Dog Mix     Red Tick  \n",
       "9836           1 year              Cairn Terrier  White/Brown  \n",
       "9837           1 year              Cairn Terrier  White/Brown  "
      ]
     },
     "metadata": {},
     "output_type": "display_data"
    },
    {
     "data": {
      "text/plain": [
       "0"
      ]
     },
     "execution_count": 58,
     "metadata": {},
     "output_type": "execute_result"
    }
   ],
   "source": [
    "display(data.loc[data.duplicated(keep=False) == True].head(4))\n",
    "data.drop_duplicates(inplace=True)\n",
    "data.duplicated(keep=False).sum()\n",
    "#check for duplicates and later on drop of them"
   ]
  },
  {
   "cell_type": "code",
   "execution_count": null,
   "metadata": {
    "id": "flx7-NVjuUQm",
    "outputId": "3f5553a1-b74e-4360-efa5-a24b64f49af0"
   },
   "outputs": [
    {
     "data": {
      "text/plain": [
       "(143827, 12)"
      ]
     },
     "execution_count": 59,
     "metadata": {},
     "output_type": "execute_result"
    }
   ],
   "source": [
    "data.shape"
   ]
  },
  {
   "cell_type": "code",
   "execution_count": null,
   "metadata": {
    "id": "RL75kLQKuUQm",
    "outputId": "180359a8-a113-4700-a114-2f97a1a92546",
    "scrolled": false
   },
   "outputs": [
    {
     "data": {
      "text/plain": [
       "Animal ID           object\n",
       "Name                object\n",
       "DateTime            object\n",
       "MonthYear           object\n",
       "Date of Birth       object\n",
       "Outcome Type        object\n",
       "Outcome Subtype     object\n",
       "Animal Type         object\n",
       "Sex upon Outcome    object\n",
       "Age upon Outcome    object\n",
       "Breed               object\n",
       "Color               object\n",
       "dtype: object"
      ]
     },
     "execution_count": 60,
     "metadata": {},
     "output_type": "execute_result"
    }
   ],
   "source": [
    "data.dtypes"
   ]
  },
  {
   "cell_type": "code",
   "execution_count": null,
   "metadata": {
    "id": "JjI-IwOOuUQn",
    "scrolled": false
   },
   "outputs": [],
   "source": [
    "#convert datas into datetime object to make it easier to work with\n",
    "\n",
    "def convert_date(datik):\n",
    "    try: \n",
    "        return datetime.strptime(datik, '%m/%d/%Y')\n",
    "    except: \n",
    "        try: \n",
    "            return datetime.strptime(datik, '%m/%d/%Y %I:%M:%S %p')\n",
    "        except:\n",
    "            print(datik)\n",
    "            pass\n",
    "data['DateTime'] = data.DateTime.apply(convert_date)\n",
    "data['Date of Birth'] = data['Date of Birth'].apply(convert_date)"
   ]
  },
  {
   "cell_type": "code",
   "execution_count": null,
   "metadata": {
    "id": "eS5opO4GuUQo",
    "outputId": "d053e0e8-8d09-4a6a-c78b-e2c4bd1df7b8"
   },
   "outputs": [
    {
     "data": {
      "text/plain": [
       "Animal ID                   object\n",
       "Name                        object\n",
       "DateTime            datetime64[ns]\n",
       "MonthYear                   object\n",
       "Date of Birth       datetime64[ns]\n",
       "Outcome Type                object\n",
       "Outcome Subtype             object\n",
       "Animal Type                 object\n",
       "Sex upon Outcome            object\n",
       "Age upon Outcome            object\n",
       "Breed                       object\n",
       "Color                       object\n",
       "dtype: object"
      ]
     },
     "execution_count": 62,
     "metadata": {},
     "output_type": "execute_result"
    }
   ],
   "source": [
    "data.dtypes"
   ]
  },
  {
   "cell_type": "code",
   "execution_count": null,
   "metadata": {
    "id": "PUoV600xuUQo",
    "outputId": "164ba314-5a40-46b0-f7a0-09869296d1da"
   },
   "outputs": [
    {
     "name": "stdout",
     "output_type": "stream",
     "text": [
      "Outcome Type for this column there are values:\n",
      "['Rto-Adopt' 'Adoption' 'Euthanasia' 'Transfer' 'Return to Owner' 'Died'\n",
      " 'Disposal' 'Missing' 'Relocate' nan]\n",
      "Count of unique values: 11\n",
      "Outcome Subtype for this column there are values:\n",
      "[nan 'Partner' 'Foster' 'SCRP' 'Out State' 'Suffering' 'Underage' 'Snr'\n",
      " 'Rabies Risk' 'In Kennel']\n",
      "Count of unique values: 26\n",
      "Animal Type for this column there are values:\n",
      "['Cat' 'Dog' 'Other' 'Bird' 'Livestock']\n",
      "Count of unique values: 5\n",
      "Sex upon Outcome for this column there are values:\n",
      "['Neutered Male' 'Unknown' 'Intact Male' 'Spayed Female' 'Intact Female'\n",
      " nan]\n",
      "Count of unique values: 5\n",
      "Age upon Outcome for this column there are values:\n",
      "['2 years' '1 year' '4 months' '6 days' '7 years' '2 months' '2 days'\n",
      " '3 weeks' '11 years' '9 months']\n",
      "Count of unique values: 54\n",
      "Breed for this column there are values:\n",
      "['Domestic Shorthair Mix' 'Chihuahua Shorthair Mix' 'Raccoon'\n",
      " 'Anatol Shepherd/Labrador Retriever'\n",
      " 'American Foxhound/Labrador Retriever' 'Domestic Shorthair'\n",
      " 'Border Collie/Cardigan Welsh Corgi' 'Pit Bull' 'Labrador Retriever Mix'\n",
      " 'Domestic Medium Hair Mix']\n",
      "Count of unique values: 2781\n",
      "Color for this column there are values:\n",
      "['Brown Tabby/White' 'White/Brown' 'Gray' 'Buff' 'Orange Tabby' 'Brown'\n",
      " 'Brown Tabby' 'Black' 'White/Orange Tabby' 'Black/White']\n",
      "Count of unique values: 622\n"
     ]
    }
   ],
   "source": [
    "for column in list(data.columns)[5:]:\n",
    "    print(column + ' for this column there are values:')\n",
    "    print(data[column].unique()[:10])\n",
    "    print('Count of unique values: ' + str(data[column].nunique()))"
   ]
  },
  {
   "cell_type": "markdown",
   "metadata": {
    "id": "ByahSWGNuUQp"
   },
   "source": [
    "#### Some possible interpretations of outcomes \n",
    "\n",
    "* Adoption the animal was adopted to a home \n",
    "* Barn Adoption the animal was adopted to live in a barn\n",
    "* Offsite Missing the animal went missing for unknown reasons at an offsite partner location\n",
    "* In-Foster Missing the animal is missing after being placed in a foster home (передержка)\n",
    "* In-Kennel Missing the animal is missing after being transferred to a kennel facility (бридинговый центр?)\n",
    "* Possible Theft Although not confirmed, the animal went missing as a result of theft from the facility\n",
    "* Barn Transfer The animal was transferred to a facility for adoption into a barn environment\n",
    "* SNR SNR refers to the city of Austin's Shelter-Neuter-Release program. I believe the outcome is representative of the animal being released.\n",
    "#### Understanding meanings of some variables \n",
    "<br> I assume that date in the dataset - is a date of the outcome. \n",
    "<br> Livestock are the animals raised for agricultural reasons (cows, sheep, horse...)\n",
    "<br> Intact or Spayed mean that reproduction organs have been removed. \n",
    "<br> Rabies is бешенство\n",
    "#### Checking nan_values\n",
    "The dataset is very clean of nan. \n",
    "<br> I will not remove name from the dataset because there might be possbility that animal with (or without) names have more positive outcomes. \n",
    "<br> 50% of nans in outcomes subtype is understandable as not all outcomes have any subtype, I am not even sure if I need to keep this column.\n",
    "<br> there are 0,01% of nans in outcomes or 23 cases. As outcome is our target variable, I need this variable to be clean of nans, so I would just remove nans from this variable. \n",
    "<br> I will replace Nan in Age upon Outcome, as it might be important variable (replacement was a bit weird first replacing NaN with str, because all other values except NaN were strings)\n"
   ]
  },
  {
   "cell_type": "code",
   "execution_count": null,
   "metadata": {
    "id": "HCc38jBLuUQq",
    "outputId": "83c111fb-0b25-4bb1-bd3f-d5bf2dba88ec",
    "scrolled": false
   },
   "outputs": [
    {
     "data": {
      "text/plain": [
       "Animal ID           0.000000\n",
       "Name                0.292546\n",
       "DateTime            0.000000\n",
       "MonthYear           0.000000\n",
       "Date of Birth       0.000000\n",
       "Outcome Type        0.000160\n",
       "Outcome Subtype     0.541505\n",
       "Animal Type         0.000000\n",
       "Sex upon Outcome    0.000007\n",
       "Age upon Outcome    0.000229\n",
       "Breed               0.000000\n",
       "Color               0.000000\n",
       "dtype: float64"
      ]
     },
     "execution_count": 63,
     "metadata": {},
     "output_type": "execute_result"
    }
   ],
   "source": [
    "data.isna().mean()"
   ]
  },
  {
   "cell_type": "code",
   "execution_count": null,
   "metadata": {
    "id": "YWq6nu2UuUQq",
    "outputId": "a84da12e-6846-401c-abc6-9daf08fa6862",
    "scrolled": true
   },
   "outputs": [
    {
     "data": {
      "text/plain": [
       "Animal ID               0\n",
       "Name                42076\n",
       "DateTime                0\n",
       "MonthYear               0\n",
       "Date of Birth           0\n",
       "Outcome Type           23\n",
       "Outcome Subtype     77883\n",
       "Animal Type             0\n",
       "Sex upon Outcome        1\n",
       "Age upon Outcome       33\n",
       "Breed                   0\n",
       "Color                   0\n",
       "dtype: int64"
      ]
     },
     "execution_count": 64,
     "metadata": {},
     "output_type": "execute_result"
    }
   ],
   "source": [
    "data.isna().sum()"
   ]
  },
  {
   "cell_type": "code",
   "execution_count": null,
   "metadata": {
    "id": "-eN73DrhuUQr",
    "scrolled": true
   },
   "outputs": [],
   "source": [
    "data['Age upon Outcome'].fillna('some age', inplace=True)"
   ]
  },
  {
   "cell_type": "code",
   "execution_count": null,
   "metadata": {
    "id": "GTC1UCsMuUQr"
   },
   "outputs": [],
   "source": [
    "def age(row): \n",
    "    if row['Age upon Outcome'] == 'some age':\n",
    "        years = row['DateTime'].year - row['Date of Birth'].year\n",
    "        months = row['DateTime'].month - row['Date of Birth'].month\n",
    "        if years > 1 and months > 1: \n",
    "            to_return = str(years) + ' ' + 'years '+ str(months) + ' months'\n",
    "        elif years == 1 and months > 1: \n",
    "            to_return = str(years) + ' ' + 'year '+ str(months) + ' months'\n",
    "        elif years > 1 and months == 0: \n",
    "            to_return = str(years) + ' years'\n",
    "        elif years == 0 and months > 1: \n",
    "            to_return = str(months) + ' months'\n",
    "        elif years == 1 and months == 1: \n",
    "            to_return = str(years) + ' ' + 'year '+ str(months) + ' month'\n",
    "        elif years == 1 and months == 0: \n",
    "            to_return = '1 year'\n",
    "        elif years == 0 and months == 1: \n",
    "            to_return = '1 month'\n",
    "        else: \n",
    "            to_return = str(years) + ' ' + 'years '+ str(months) + ' months'\n",
    "    else:\n",
    "        to_return = row['Age upon Outcome']\n",
    "    return to_return \n",
    "    \n",
    "\n",
    "        \n"
   ]
  },
  {
   "cell_type": "code",
   "execution_count": null,
   "metadata": {
    "id": "JgX9luXouUQs",
    "outputId": "df7e6705-c3f8-451e-e662-183bda621f6d",
    "scrolled": true
   },
   "outputs": [
    {
     "data": {
      "text/plain": [
       "0          2 years\n",
       "1           1 year\n",
       "2           1 year\n",
       "3         4 months\n",
       "4           6 days\n",
       "            ...   \n",
       "143840     7 years\n",
       "143841     2 years\n",
       "143842      1 year\n",
       "143843     2 years\n",
       "143844    3 months\n",
       "Length: 143827, dtype: object"
      ]
     },
     "execution_count": 73,
     "metadata": {},
     "output_type": "execute_result"
    }
   ],
   "source": [
    "data.apply(lambda row: age(row), axis=1)"
   ]
  },
  {
   "cell_type": "code",
   "execution_count": null,
   "metadata": {
    "id": "-REDUW12uUQs"
   },
   "outputs": [],
   "source": [
    "data.dropna(subset = ['Outcome Type'], inplace=True)"
   ]
  },
  {
   "cell_type": "code",
   "execution_count": null,
   "metadata": {
    "id": "cirg1_kSuUQs",
    "outputId": "0836cbf7-5d08-46e9-d940-2071dc3003fe"
   },
   "outputs": [
    {
     "data": {
      "text/html": [
       "<div>\n",
       "<style scoped>\n",
       "    .dataframe tbody tr th:only-of-type {\n",
       "        vertical-align: middle;\n",
       "    }\n",
       "\n",
       "    .dataframe tbody tr th {\n",
       "        vertical-align: top;\n",
       "    }\n",
       "\n",
       "    .dataframe thead th {\n",
       "        text-align: right;\n",
       "    }\n",
       "</style>\n",
       "<table border=\"1\" class=\"dataframe\">\n",
       "  <thead>\n",
       "    <tr style=\"text-align: right;\">\n",
       "      <th></th>\n",
       "      <th>Animal ID</th>\n",
       "      <th>Name</th>\n",
       "      <th>DateTime</th>\n",
       "      <th>MonthYear</th>\n",
       "      <th>Date of Birth</th>\n",
       "      <th>Outcome Type</th>\n",
       "      <th>Outcome Subtype</th>\n",
       "      <th>Animal Type</th>\n",
       "      <th>Sex upon Outcome</th>\n",
       "      <th>Age upon Outcome</th>\n",
       "      <th>Breed</th>\n",
       "      <th>Color</th>\n",
       "    </tr>\n",
       "  </thead>\n",
       "  <tbody>\n",
       "    <tr>\n",
       "      <th>77531</th>\n",
       "      <td>A667395</td>\n",
       "      <td>Diego</td>\n",
       "      <td>2013-11-27 16:11:00</td>\n",
       "      <td>Nov 2013</td>\n",
       "      <td>2006-11-17</td>\n",
       "      <td>Return to Owner</td>\n",
       "      <td>NaN</td>\n",
       "      <td>Dog</td>\n",
       "      <td>NaN</td>\n",
       "      <td>7 years</td>\n",
       "      <td>Dachshund</td>\n",
       "      <td>Brown Merle</td>\n",
       "    </tr>\n",
       "  </tbody>\n",
       "</table>\n",
       "</div>"
      ],
      "text/plain": [
       "      Animal ID   Name            DateTime MonthYear Date of Birth  \\\n",
       "77531   A667395  Diego 2013-11-27 16:11:00  Nov 2013    2006-11-17   \n",
       "\n",
       "          Outcome Type Outcome Subtype Animal Type Sex upon Outcome  \\\n",
       "77531  Return to Owner             NaN         Dog              NaN   \n",
       "\n",
       "      Age upon Outcome      Breed        Color  \n",
       "77531          7 years  Dachshund  Brown Merle  "
      ]
     },
     "execution_count": 82,
     "metadata": {},
     "output_type": "execute_result"
    }
   ],
   "source": [
    "data.loc[data['Sex upon Outcome'].isna()]"
   ]
  },
  {
   "cell_type": "code",
   "execution_count": null,
   "metadata": {
    "id": "KZWXQIg_uUQt"
   },
   "outputs": [],
   "source": [
    "data['Sex upon Outcome'].fillna('Male', inplace=True)\n",
    "#because an animal with the name Diego must be a male"
   ]
  },
  {
   "cell_type": "code",
   "execution_count": null,
   "metadata": {
    "id": "jFEpsbrvuUQt"
   },
   "outputs": [],
   "source": [
    "data['Name'].fillna('NoName', inplace=True)\n",
    "#in order to perform groupings as the presence of absence of a name might be important. "
   ]
  },
  {
   "cell_type": "code",
   "execution_count": null,
   "metadata": {
    "id": "mnShClnNuUQt"
   },
   "outputs": [],
   "source": [
    "data['Outcome Subtype'].fillna('NoSubtype', inplace=True)"
   ]
  },
  {
   "cell_type": "code",
   "execution_count": null,
   "metadata": {
    "id": "fprrOSgAuUQu",
    "outputId": "5cea50c2-5e00-4948-86ef-6bb9b6816755",
    "scrolled": false
   },
   "outputs": [
    {
     "data": {
      "text/plain": [
       "Animal ID           0.0\n",
       "Name                0.0\n",
       "DateTime            0.0\n",
       "MonthYear           0.0\n",
       "Date of Birth       0.0\n",
       "Outcome Type        0.0\n",
       "Outcome Subtype     0.0\n",
       "Animal Type         0.0\n",
       "Sex upon Outcome    0.0\n",
       "Age upon Outcome    0.0\n",
       "Breed               0.0\n",
       "Color               0.0\n",
       "dtype: float64"
      ]
     },
     "execution_count": 90,
     "metadata": {},
     "output_type": "execute_result"
    }
   ],
   "source": [
    "data.isna().mean()"
   ]
  },
  {
   "cell_type": "markdown",
   "metadata": {
    "id": "zV-03iQeuUQu"
   },
   "source": [
    "I am going to add age in days in order to perform correlation matrix easier"
   ]
  },
  {
   "cell_type": "code",
   "execution_count": null,
   "metadata": {
    "id": "Oa68oP2guUQu"
   },
   "outputs": [],
   "source": [
    "def age_days(timedelt): \n",
    "    age_in_days = int(timedelt.days)\n",
    "    return age_in_days"
   ]
  },
  {
   "cell_type": "code",
   "execution_count": null,
   "metadata": {
    "id": "7PWelGMCuUQu"
   },
   "outputs": [],
   "source": [
    "data['ageInDays'] = data['DateTime'] - data['Date of Birth']"
   ]
  },
  {
   "cell_type": "code",
   "execution_count": null,
   "metadata": {
    "id": "YQKs47IjuUQv"
   },
   "outputs": [],
   "source": [
    "data['ageInDays'] = data['ageInDays'].apply(age_days)"
   ]
  },
  {
   "cell_type": "code",
   "execution_count": null,
   "metadata": {
    "id": "c9Vh3Ki0uUQv",
    "outputId": "68f76993-c68b-4bb9-cfe5-712841deebfc",
    "scrolled": false
   },
   "outputs": [
    {
     "data": {
      "text/html": [
       "<div>\n",
       "<style scoped>\n",
       "    .dataframe tbody tr th:only-of-type {\n",
       "        vertical-align: middle;\n",
       "    }\n",
       "\n",
       "    .dataframe tbody tr th {\n",
       "        vertical-align: top;\n",
       "    }\n",
       "\n",
       "    .dataframe thead th {\n",
       "        text-align: right;\n",
       "    }\n",
       "</style>\n",
       "<table border=\"1\" class=\"dataframe\">\n",
       "  <thead>\n",
       "    <tr style=\"text-align: right;\">\n",
       "      <th></th>\n",
       "      <th>Animal ID</th>\n",
       "      <th>Name</th>\n",
       "      <th>DateTime</th>\n",
       "      <th>MonthYear</th>\n",
       "      <th>Date of Birth</th>\n",
       "      <th>Outcome Type</th>\n",
       "      <th>Outcome Subtype</th>\n",
       "      <th>Animal Type</th>\n",
       "      <th>Sex upon Outcome</th>\n",
       "      <th>Age upon Outcome</th>\n",
       "      <th>Breed</th>\n",
       "      <th>Color</th>\n",
       "      <th>ageInDays</th>\n",
       "    </tr>\n",
       "  </thead>\n",
       "  <tbody>\n",
       "    <tr>\n",
       "      <th>0</th>\n",
       "      <td>A794011</td>\n",
       "      <td>Chunk</td>\n",
       "      <td>2019-05-08 18:20:00</td>\n",
       "      <td>May 2019</td>\n",
       "      <td>2017-05-02</td>\n",
       "      <td>Rto-Adopt</td>\n",
       "      <td>NoSubtype</td>\n",
       "      <td>Cat</td>\n",
       "      <td>Neutered Male</td>\n",
       "      <td>2 years</td>\n",
       "      <td>Domestic Shorthair Mix</td>\n",
       "      <td>Brown Tabby/White</td>\n",
       "      <td>736</td>\n",
       "    </tr>\n",
       "    <tr>\n",
       "      <th>1</th>\n",
       "      <td>A776359</td>\n",
       "      <td>Gizmo</td>\n",
       "      <td>2018-07-18 16:02:00</td>\n",
       "      <td>Jul 2018</td>\n",
       "      <td>2017-07-12</td>\n",
       "      <td>Adoption</td>\n",
       "      <td>NoSubtype</td>\n",
       "      <td>Dog</td>\n",
       "      <td>Neutered Male</td>\n",
       "      <td>1 year</td>\n",
       "      <td>Chihuahua Shorthair Mix</td>\n",
       "      <td>White/Brown</td>\n",
       "      <td>371</td>\n",
       "    </tr>\n",
       "    <tr>\n",
       "      <th>2</th>\n",
       "      <td>A821648</td>\n",
       "      <td>NoName</td>\n",
       "      <td>2020-08-16 11:38:00</td>\n",
       "      <td>Aug 2020</td>\n",
       "      <td>2019-08-16</td>\n",
       "      <td>Euthanasia</td>\n",
       "      <td>NoSubtype</td>\n",
       "      <td>Other</td>\n",
       "      <td>Unknown</td>\n",
       "      <td>1 year</td>\n",
       "      <td>Raccoon</td>\n",
       "      <td>Gray</td>\n",
       "      <td>366</td>\n",
       "    </tr>\n",
       "    <tr>\n",
       "      <th>3</th>\n",
       "      <td>A720371</td>\n",
       "      <td>Moose</td>\n",
       "      <td>2016-02-13 17:59:00</td>\n",
       "      <td>Feb 2016</td>\n",
       "      <td>2015-10-08</td>\n",
       "      <td>Adoption</td>\n",
       "      <td>NoSubtype</td>\n",
       "      <td>Dog</td>\n",
       "      <td>Neutered Male</td>\n",
       "      <td>4 months</td>\n",
       "      <td>Anatol Shepherd/Labrador Retriever</td>\n",
       "      <td>Buff</td>\n",
       "      <td>128</td>\n",
       "    </tr>\n",
       "    <tr>\n",
       "      <th>4</th>\n",
       "      <td>A674754</td>\n",
       "      <td>NoName</td>\n",
       "      <td>2014-03-18 11:47:00</td>\n",
       "      <td>Mar 2014</td>\n",
       "      <td>2014-03-12</td>\n",
       "      <td>Transfer</td>\n",
       "      <td>Partner</td>\n",
       "      <td>Cat</td>\n",
       "      <td>Intact Male</td>\n",
       "      <td>6 days</td>\n",
       "      <td>Domestic Shorthair Mix</td>\n",
       "      <td>Orange Tabby</td>\n",
       "      <td>6</td>\n",
       "    </tr>\n",
       "  </tbody>\n",
       "</table>\n",
       "</div>"
      ],
      "text/plain": [
       "  Animal ID    Name            DateTime MonthYear Date of Birth Outcome Type  \\\n",
       "0   A794011   Chunk 2019-05-08 18:20:00  May 2019    2017-05-02    Rto-Adopt   \n",
       "1   A776359   Gizmo 2018-07-18 16:02:00  Jul 2018    2017-07-12     Adoption   \n",
       "2   A821648  NoName 2020-08-16 11:38:00  Aug 2020    2019-08-16   Euthanasia   \n",
       "3   A720371   Moose 2016-02-13 17:59:00  Feb 2016    2015-10-08     Adoption   \n",
       "4   A674754  NoName 2014-03-18 11:47:00  Mar 2014    2014-03-12     Transfer   \n",
       "\n",
       "  Outcome Subtype Animal Type Sex upon Outcome Age upon Outcome  \\\n",
       "0       NoSubtype         Cat    Neutered Male          2 years   \n",
       "1       NoSubtype         Dog    Neutered Male           1 year   \n",
       "2       NoSubtype       Other          Unknown           1 year   \n",
       "3       NoSubtype         Dog    Neutered Male         4 months   \n",
       "4         Partner         Cat      Intact Male           6 days   \n",
       "\n",
       "                                Breed              Color  ageInDays  \n",
       "0              Domestic Shorthair Mix  Brown Tabby/White        736  \n",
       "1             Chihuahua Shorthair Mix        White/Brown        371  \n",
       "2                             Raccoon               Gray        366  \n",
       "3  Anatol Shepherd/Labrador Retriever               Buff        128  \n",
       "4              Domestic Shorthair Mix       Orange Tabby          6  "
      ]
     },
     "execution_count": 121,
     "metadata": {},
     "output_type": "execute_result"
    }
   ],
   "source": [
    "data.head()"
   ]
  },
  {
   "cell_type": "markdown",
   "metadata": {
    "id": "guWrhwN_uUQv"
   },
   "source": [
    "### Later in the analysis I have found that there are lots of duplicates in the data by animal id and it is not really clear, why. Perhaps, animals have been in the shelter for several times and I think these animals should be analysed separetely. Why they have returned to the shelter? Are there any patterns?"
   ]
  },
  {
   "cell_type": "code",
   "execution_count": null,
   "metadata": {
    "id": "1VQFyRTduUQv",
    "outputId": "214e8977-a2ab-46d7-9b22-13cc0060880f",
    "scrolled": true
   },
   "outputs": [
    {
     "data": {
      "text/plain": [
       "15047"
      ]
     },
     "execution_count": 136,
     "metadata": {},
     "output_type": "execute_result"
    }
   ],
   "source": [
    "data['Animal ID'].duplicated().sum()"
   ]
  },
  {
   "cell_type": "code",
   "execution_count": null,
   "metadata": {
    "id": "NH-db9gZuUQv",
    "outputId": "53eae4e2-c3ce-4bca-c06e-7268239419f8"
   },
   "outputs": [
    {
     "data": {
      "text/plain": [
       "128757"
      ]
     },
     "execution_count": 146,
     "metadata": {},
     "output_type": "execute_result"
    }
   ],
   "source": [
    "data['Animal ID'].nunique()"
   ]
  },
  {
   "cell_type": "code",
   "execution_count": null,
   "metadata": {
    "id": "1gt9kdsiuUQw",
    "outputId": "57f137c1-f995-4697-db5e-c521d8d4ce22",
    "scrolled": true
   },
   "outputs": [
    {
     "data": {
      "text/html": [
       "<div>\n",
       "<style scoped>\n",
       "    .dataframe tbody tr th:only-of-type {\n",
       "        vertical-align: middle;\n",
       "    }\n",
       "\n",
       "    .dataframe tbody tr th {\n",
       "        vertical-align: top;\n",
       "    }\n",
       "\n",
       "    .dataframe thead th {\n",
       "        text-align: right;\n",
       "    }\n",
       "</style>\n",
       "<table border=\"1\" class=\"dataframe\">\n",
       "  <thead>\n",
       "    <tr style=\"text-align: right;\">\n",
       "      <th></th>\n",
       "      <th>Animal ID</th>\n",
       "      <th>Name</th>\n",
       "      <th>DateTime</th>\n",
       "      <th>MonthYear</th>\n",
       "      <th>Date of Birth</th>\n",
       "      <th>Outcome Type</th>\n",
       "      <th>Outcome Subtype</th>\n",
       "      <th>Animal Type</th>\n",
       "      <th>Sex upon Outcome</th>\n",
       "      <th>Age upon Outcome</th>\n",
       "      <th>Breed</th>\n",
       "      <th>Color</th>\n",
       "      <th>ageInDays</th>\n",
       "    </tr>\n",
       "  </thead>\n",
       "  <tbody>\n",
       "    <tr>\n",
       "      <th>109859</th>\n",
       "      <td>A006100</td>\n",
       "      <td>Scamp</td>\n",
       "      <td>2017-12-07 00:00:00</td>\n",
       "      <td>Dec 2017</td>\n",
       "      <td>2007-07-09</td>\n",
       "      <td>Return to Owner</td>\n",
       "      <td>NoSubtype</td>\n",
       "      <td>Dog</td>\n",
       "      <td>Neutered Male</td>\n",
       "      <td>10 years</td>\n",
       "      <td>Spinone Italiano Mix</td>\n",
       "      <td>Yellow/White</td>\n",
       "      <td>3804</td>\n",
       "    </tr>\n",
       "    <tr>\n",
       "      <th>61410</th>\n",
       "      <td>A006100</td>\n",
       "      <td>Scamp</td>\n",
       "      <td>2014-12-20 16:35:00</td>\n",
       "      <td>Dec 2014</td>\n",
       "      <td>2007-07-09</td>\n",
       "      <td>Return to Owner</td>\n",
       "      <td>NoSubtype</td>\n",
       "      <td>Dog</td>\n",
       "      <td>Neutered Male</td>\n",
       "      <td>7 years</td>\n",
       "      <td>Spinone Italiano Mix</td>\n",
       "      <td>Yellow/White</td>\n",
       "      <td>2721</td>\n",
       "    </tr>\n",
       "    <tr>\n",
       "      <th>124724</th>\n",
       "      <td>A006100</td>\n",
       "      <td>Scamp</td>\n",
       "      <td>2014-03-08 17:10:00</td>\n",
       "      <td>Mar 2014</td>\n",
       "      <td>2007-07-09</td>\n",
       "      <td>Return to Owner</td>\n",
       "      <td>NoSubtype</td>\n",
       "      <td>Dog</td>\n",
       "      <td>Neutered Male</td>\n",
       "      <td>6 years</td>\n",
       "      <td>Spinone Italiano Mix</td>\n",
       "      <td>Yellow/White</td>\n",
       "      <td>2434</td>\n",
       "    </tr>\n",
       "    <tr>\n",
       "      <th>98181</th>\n",
       "      <td>A245945</td>\n",
       "      <td>Boomer</td>\n",
       "      <td>2014-07-04 15:26:00</td>\n",
       "      <td>Jul 2014</td>\n",
       "      <td>2000-05-23</td>\n",
       "      <td>Return to Owner</td>\n",
       "      <td>NoSubtype</td>\n",
       "      <td>Dog</td>\n",
       "      <td>Neutered Male</td>\n",
       "      <td>14 years</td>\n",
       "      <td>Labrador Retriever Mix</td>\n",
       "      <td>Tan</td>\n",
       "      <td>5155</td>\n",
       "    </tr>\n",
       "    <tr>\n",
       "      <th>75294</th>\n",
       "      <td>A245945</td>\n",
       "      <td>Boomer</td>\n",
       "      <td>2015-05-25 11:49:00</td>\n",
       "      <td>May 2015</td>\n",
       "      <td>2000-05-23</td>\n",
       "      <td>Transfer</td>\n",
       "      <td>Partner</td>\n",
       "      <td>Dog</td>\n",
       "      <td>Neutered Male</td>\n",
       "      <td>15 years</td>\n",
       "      <td>Labrador Retriever Mix</td>\n",
       "      <td>Tan</td>\n",
       "      <td>5480</td>\n",
       "    </tr>\n",
       "    <tr>\n",
       "      <th>...</th>\n",
       "      <td>...</td>\n",
       "      <td>...</td>\n",
       "      <td>...</td>\n",
       "      <td>...</td>\n",
       "      <td>...</td>\n",
       "      <td>...</td>\n",
       "      <td>...</td>\n",
       "      <td>...</td>\n",
       "      <td>...</td>\n",
       "      <td>...</td>\n",
       "      <td>...</td>\n",
       "      <td>...</td>\n",
       "      <td>...</td>\n",
       "    </tr>\n",
       "    <tr>\n",
       "      <th>59215</th>\n",
       "      <td>A863101</td>\n",
       "      <td>Penny</td>\n",
       "      <td>2022-08-10 16:38:00</td>\n",
       "      <td>Aug 2022</td>\n",
       "      <td>2019-08-06</td>\n",
       "      <td>Transfer</td>\n",
       "      <td>Partner</td>\n",
       "      <td>Dog</td>\n",
       "      <td>Intact Female</td>\n",
       "      <td>3 years</td>\n",
       "      <td>Staffordshire Mix</td>\n",
       "      <td>Blue/White</td>\n",
       "      <td>1100</td>\n",
       "    </tr>\n",
       "    <tr>\n",
       "      <th>104198</th>\n",
       "      <td>A863102</td>\n",
       "      <td>Star</td>\n",
       "      <td>2022-08-04 17:55:00</td>\n",
       "      <td>Aug 2022</td>\n",
       "      <td>2015-08-04</td>\n",
       "      <td>Return to Owner</td>\n",
       "      <td>NoSubtype</td>\n",
       "      <td>Dog</td>\n",
       "      <td>Spayed Female</td>\n",
       "      <td>7 years</td>\n",
       "      <td>Staffordshire Mix</td>\n",
       "      <td>Tan/White</td>\n",
       "      <td>2557</td>\n",
       "    </tr>\n",
       "    <tr>\n",
       "      <th>43000</th>\n",
       "      <td>A863102</td>\n",
       "      <td>Star</td>\n",
       "      <td>2022-08-10 16:38:00</td>\n",
       "      <td>Aug 2022</td>\n",
       "      <td>2015-08-04</td>\n",
       "      <td>Transfer</td>\n",
       "      <td>Partner</td>\n",
       "      <td>Dog</td>\n",
       "      <td>Spayed Female</td>\n",
       "      <td>7 years</td>\n",
       "      <td>Staffordshire Mix</td>\n",
       "      <td>Tan/White</td>\n",
       "      <td>2563</td>\n",
       "    </tr>\n",
       "    <tr>\n",
       "      <th>143766</th>\n",
       "      <td>A863304</td>\n",
       "      <td>*Apple Juice</td>\n",
       "      <td>2022-09-03 16:55:00</td>\n",
       "      <td>Sep 2022</td>\n",
       "      <td>2020-08-08</td>\n",
       "      <td>Adoption</td>\n",
       "      <td>NoSubtype</td>\n",
       "      <td>Other</td>\n",
       "      <td>Intact Female</td>\n",
       "      <td>2 years</td>\n",
       "      <td>Californian</td>\n",
       "      <td>White/Brown</td>\n",
       "      <td>756</td>\n",
       "    </tr>\n",
       "    <tr>\n",
       "      <th>143436</th>\n",
       "      <td>A863304</td>\n",
       "      <td>*Apple Juice</td>\n",
       "      <td>2022-08-27 16:12:00</td>\n",
       "      <td>Aug 2022</td>\n",
       "      <td>2020-08-08</td>\n",
       "      <td>Adoption</td>\n",
       "      <td>NoSubtype</td>\n",
       "      <td>Other</td>\n",
       "      <td>Intact Female</td>\n",
       "      <td>2 years</td>\n",
       "      <td>Californian</td>\n",
       "      <td>White/Brown</td>\n",
       "      <td>749</td>\n",
       "    </tr>\n",
       "  </tbody>\n",
       "</table>\n",
       "<p>26551 rows × 13 columns</p>\n",
       "</div>"
      ],
      "text/plain": [
       "       Animal ID          Name            DateTime MonthYear Date of Birth  \\\n",
       "109859   A006100         Scamp 2017-12-07 00:00:00  Dec 2017    2007-07-09   \n",
       "61410    A006100         Scamp 2014-12-20 16:35:00  Dec 2014    2007-07-09   \n",
       "124724   A006100         Scamp 2014-03-08 17:10:00  Mar 2014    2007-07-09   \n",
       "98181    A245945        Boomer 2014-07-04 15:26:00  Jul 2014    2000-05-23   \n",
       "75294    A245945        Boomer 2015-05-25 11:49:00  May 2015    2000-05-23   \n",
       "...          ...           ...                 ...       ...           ...   \n",
       "59215    A863101         Penny 2022-08-10 16:38:00  Aug 2022    2019-08-06   \n",
       "104198   A863102          Star 2022-08-04 17:55:00  Aug 2022    2015-08-04   \n",
       "43000    A863102          Star 2022-08-10 16:38:00  Aug 2022    2015-08-04   \n",
       "143766   A863304  *Apple Juice 2022-09-03 16:55:00  Sep 2022    2020-08-08   \n",
       "143436   A863304  *Apple Juice 2022-08-27 16:12:00  Aug 2022    2020-08-08   \n",
       "\n",
       "           Outcome Type Outcome Subtype Animal Type Sex upon Outcome  \\\n",
       "109859  Return to Owner       NoSubtype         Dog    Neutered Male   \n",
       "61410   Return to Owner       NoSubtype         Dog    Neutered Male   \n",
       "124724  Return to Owner       NoSubtype         Dog    Neutered Male   \n",
       "98181   Return to Owner       NoSubtype         Dog    Neutered Male   \n",
       "75294          Transfer         Partner         Dog    Neutered Male   \n",
       "...                 ...             ...         ...              ...   \n",
       "59215          Transfer         Partner         Dog    Intact Female   \n",
       "104198  Return to Owner       NoSubtype         Dog    Spayed Female   \n",
       "43000          Transfer         Partner         Dog    Spayed Female   \n",
       "143766         Adoption       NoSubtype       Other    Intact Female   \n",
       "143436         Adoption       NoSubtype       Other    Intact Female   \n",
       "\n",
       "       Age upon Outcome                   Breed         Color  ageInDays  \n",
       "109859         10 years    Spinone Italiano Mix  Yellow/White       3804  \n",
       "61410           7 years    Spinone Italiano Mix  Yellow/White       2721  \n",
       "124724          6 years    Spinone Italiano Mix  Yellow/White       2434  \n",
       "98181          14 years  Labrador Retriever Mix           Tan       5155  \n",
       "75294          15 years  Labrador Retriever Mix           Tan       5480  \n",
       "...                 ...                     ...           ...        ...  \n",
       "59215           3 years       Staffordshire Mix    Blue/White       1100  \n",
       "104198          7 years       Staffordshire Mix     Tan/White       2557  \n",
       "43000           7 years       Staffordshire Mix     Tan/White       2563  \n",
       "143766          2 years             Californian   White/Brown        756  \n",
       "143436          2 years             Californian   White/Brown        749  \n",
       "\n",
       "[26551 rows x 13 columns]"
      ]
     },
     "execution_count": 139,
     "metadata": {},
     "output_type": "execute_result"
    }
   ],
   "source": [
    "data.loc[data['Animal ID'].duplicated(keep=False)==True].sort_values('Animal ID')"
   ]
  },
  {
   "cell_type": "code",
   "execution_count": null,
   "metadata": {
    "id": "6TXFsABeuUQw",
    "outputId": "810f4151-600c-44b2-a3de-c0493e4254dc"
   },
   "outputs": [
    {
     "data": {
      "text/plain": [
       "(128757, 2)"
      ]
     },
     "execution_count": 144,
     "metadata": {},
     "output_type": "execute_result"
    }
   ],
   "source": [
    "last_time = data.groupby('Animal ID').agg({'DateTime': 'max'}).reset_index()\n",
    "last_time.shape"
   ]
  },
  {
   "cell_type": "code",
   "execution_count": null,
   "metadata": {
    "id": "xDnd1Jj2uUQw",
    "outputId": "aef1a5b4-f99a-49ca-dacf-eac2c27051fc"
   },
   "outputs": [
    {
     "data": {
      "text/plain": [
       "(128757, 13)"
      ]
     },
     "execution_count": 143,
     "metadata": {},
     "output_type": "execute_result"
    }
   ],
   "source": [
    "last_shelter = last_time.merge(data, how='left')\n",
    "last_shelter.shape"
   ]
  },
  {
   "cell_type": "code",
   "execution_count": null,
   "metadata": {
    "id": "unIncES0uUQw",
    "outputId": "e6a65ab5-9cc2-45aa-b064-57a0a4c95cb7"
   },
   "outputs": [
    {
     "data": {
      "text/html": [
       "<div>\n",
       "<style scoped>\n",
       "    .dataframe tbody tr th:only-of-type {\n",
       "        vertical-align: middle;\n",
       "    }\n",
       "\n",
       "    .dataframe tbody tr th {\n",
       "        vertical-align: top;\n",
       "    }\n",
       "\n",
       "    .dataframe thead th {\n",
       "        text-align: right;\n",
       "    }\n",
       "</style>\n",
       "<table border=\"1\" class=\"dataframe\">\n",
       "  <thead>\n",
       "    <tr style=\"text-align: right;\">\n",
       "      <th></th>\n",
       "      <th>Animal ID</th>\n",
       "      <th>DateTime</th>\n",
       "      <th>Name</th>\n",
       "      <th>MonthYear</th>\n",
       "      <th>Date of Birth</th>\n",
       "      <th>Outcome Type</th>\n",
       "      <th>Outcome Subtype</th>\n",
       "      <th>Animal Type</th>\n",
       "      <th>Sex upon Outcome</th>\n",
       "      <th>Age upon Outcome</th>\n",
       "      <th>Breed</th>\n",
       "      <th>Color</th>\n",
       "      <th>ageInDays</th>\n",
       "    </tr>\n",
       "  </thead>\n",
       "  <tbody>\n",
       "    <tr>\n",
       "      <th>0</th>\n",
       "      <td>A006100</td>\n",
       "      <td>2017-12-07 00:00:00</td>\n",
       "      <td>Scamp</td>\n",
       "      <td>Dec 2017</td>\n",
       "      <td>2007-07-09</td>\n",
       "      <td>Return to Owner</td>\n",
       "      <td>NoSubtype</td>\n",
       "      <td>Dog</td>\n",
       "      <td>Neutered Male</td>\n",
       "      <td>10 years</td>\n",
       "      <td>Spinone Italiano Mix</td>\n",
       "      <td>Yellow/White</td>\n",
       "      <td>3804</td>\n",
       "    </tr>\n",
       "    <tr>\n",
       "      <th>1</th>\n",
       "      <td>A047759</td>\n",
       "      <td>2014-04-07 15:12:00</td>\n",
       "      <td>Oreo</td>\n",
       "      <td>Apr 2014</td>\n",
       "      <td>2004-04-02</td>\n",
       "      <td>Transfer</td>\n",
       "      <td>Partner</td>\n",
       "      <td>Dog</td>\n",
       "      <td>Neutered Male</td>\n",
       "      <td>10 years</td>\n",
       "      <td>Dachshund</td>\n",
       "      <td>Tricolor</td>\n",
       "      <td>3657</td>\n",
       "    </tr>\n",
       "    <tr>\n",
       "      <th>2</th>\n",
       "      <td>A134067</td>\n",
       "      <td>2013-11-16 11:54:00</td>\n",
       "      <td>Bandit</td>\n",
       "      <td>Nov 2013</td>\n",
       "      <td>1997-10-16</td>\n",
       "      <td>Return to Owner</td>\n",
       "      <td>NoSubtype</td>\n",
       "      <td>Dog</td>\n",
       "      <td>Neutered Male</td>\n",
       "      <td>16 years</td>\n",
       "      <td>Shetland Sheepdog</td>\n",
       "      <td>Brown/White</td>\n",
       "      <td>5875</td>\n",
       "    </tr>\n",
       "    <tr>\n",
       "      <th>3</th>\n",
       "      <td>A141142</td>\n",
       "      <td>2013-11-17 11:40:00</td>\n",
       "      <td>Bettie</td>\n",
       "      <td>Nov 2013</td>\n",
       "      <td>1998-06-01</td>\n",
       "      <td>Return to Owner</td>\n",
       "      <td>NoSubtype</td>\n",
       "      <td>Dog</td>\n",
       "      <td>Spayed Female</td>\n",
       "      <td>15 years</td>\n",
       "      <td>Labrador Retriever/Pit Bull</td>\n",
       "      <td>Black/White</td>\n",
       "      <td>5648</td>\n",
       "    </tr>\n",
       "    <tr>\n",
       "      <th>4</th>\n",
       "      <td>A163459</td>\n",
       "      <td>2014-11-14 19:28:00</td>\n",
       "      <td>Sasha</td>\n",
       "      <td>Nov 2014</td>\n",
       "      <td>1999-10-19</td>\n",
       "      <td>Return to Owner</td>\n",
       "      <td>NoSubtype</td>\n",
       "      <td>Dog</td>\n",
       "      <td>Intact Female</td>\n",
       "      <td>15 years</td>\n",
       "      <td>Miniature Schnauzer Mix</td>\n",
       "      <td>Black/Gray</td>\n",
       "      <td>5505</td>\n",
       "    </tr>\n",
       "  </tbody>\n",
       "</table>\n",
       "</div>"
      ],
      "text/plain": [
       "  Animal ID            DateTime    Name MonthYear Date of Birth  \\\n",
       "0   A006100 2017-12-07 00:00:00   Scamp  Dec 2017    2007-07-09   \n",
       "1   A047759 2014-04-07 15:12:00    Oreo  Apr 2014    2004-04-02   \n",
       "2   A134067 2013-11-16 11:54:00  Bandit  Nov 2013    1997-10-16   \n",
       "3   A141142 2013-11-17 11:40:00  Bettie  Nov 2013    1998-06-01   \n",
       "4   A163459 2014-11-14 19:28:00   Sasha  Nov 2014    1999-10-19   \n",
       "\n",
       "      Outcome Type Outcome Subtype Animal Type Sex upon Outcome  \\\n",
       "0  Return to Owner       NoSubtype         Dog    Neutered Male   \n",
       "1         Transfer         Partner         Dog    Neutered Male   \n",
       "2  Return to Owner       NoSubtype         Dog    Neutered Male   \n",
       "3  Return to Owner       NoSubtype         Dog    Spayed Female   \n",
       "4  Return to Owner       NoSubtype         Dog    Intact Female   \n",
       "\n",
       "  Age upon Outcome                        Breed         Color  ageInDays  \n",
       "0         10 years         Spinone Italiano Mix  Yellow/White       3804  \n",
       "1         10 years                    Dachshund      Tricolor       3657  \n",
       "2         16 years            Shetland Sheepdog   Brown/White       5875  \n",
       "3         15 years  Labrador Retriever/Pit Bull   Black/White       5648  \n",
       "4         15 years      Miniature Schnauzer Mix    Black/Gray       5505  "
      ]
     },
     "execution_count": 145,
     "metadata": {},
     "output_type": "execute_result"
    }
   ],
   "source": [
    "last_shelter.head()"
   ]
  },
  {
   "cell_type": "code",
   "execution_count": null,
   "metadata": {
    "id": "VmvDozPfuUQw"
   },
   "outputs": [],
   "source": [
    "data.to_csv('austin_out_noNaN.csv', index=False)\n",
    "last_shelter.to_csv('austin_out_noNanDups.csv', index=False)"
   ]
  },
  {
   "cell_type": "code",
   "execution_count": null,
   "metadata": {
    "id": "3wtS81SSuUQx",
    "outputId": "388ce877-016c-4897-bc63-b6eee168b846",
    "scrolled": true
   },
   "outputs": [
    {
     "data": {
      "text/html": [
       "<div>\n",
       "<style scoped>\n",
       "    .dataframe tbody tr th:only-of-type {\n",
       "        vertical-align: middle;\n",
       "    }\n",
       "\n",
       "    .dataframe tbody tr th {\n",
       "        vertical-align: top;\n",
       "    }\n",
       "\n",
       "    .dataframe thead th {\n",
       "        text-align: right;\n",
       "    }\n",
       "</style>\n",
       "<table border=\"1\" class=\"dataframe\">\n",
       "  <thead>\n",
       "    <tr style=\"text-align: right;\">\n",
       "      <th></th>\n",
       "      <th>Animal ID</th>\n",
       "      <th>DateTime</th>\n",
       "      <th>Name</th>\n",
       "      <th>MonthYear</th>\n",
       "      <th>Date of Birth</th>\n",
       "      <th>Outcome Type</th>\n",
       "      <th>Outcome Subtype</th>\n",
       "      <th>Animal Type</th>\n",
       "      <th>Sex upon Outcome</th>\n",
       "      <th>Age upon Outcome</th>\n",
       "      <th>Breed</th>\n",
       "      <th>Color</th>\n",
       "      <th>ageInDays</th>\n",
       "    </tr>\n",
       "  </thead>\n",
       "  <tbody>\n",
       "    <tr>\n",
       "      <th>0</th>\n",
       "      <td>A006100</td>\n",
       "      <td>2017-12-07 00:00:00</td>\n",
       "      <td>Scamp</td>\n",
       "      <td>Dec 2017</td>\n",
       "      <td>2007-07-09</td>\n",
       "      <td>Return to Owner</td>\n",
       "      <td>NoSubtype</td>\n",
       "      <td>Dog</td>\n",
       "      <td>Neutered Male</td>\n",
       "      <td>10 years</td>\n",
       "      <td>Spinone Italiano Mix</td>\n",
       "      <td>Yellow/White</td>\n",
       "      <td>3804</td>\n",
       "    </tr>\n",
       "    <tr>\n",
       "      <th>1</th>\n",
       "      <td>A047759</td>\n",
       "      <td>2014-04-07 15:12:00</td>\n",
       "      <td>Oreo</td>\n",
       "      <td>Apr 2014</td>\n",
       "      <td>2004-04-02</td>\n",
       "      <td>Transfer</td>\n",
       "      <td>Partner</td>\n",
       "      <td>Dog</td>\n",
       "      <td>Neutered Male</td>\n",
       "      <td>10 years</td>\n",
       "      <td>Dachshund</td>\n",
       "      <td>Tricolor</td>\n",
       "      <td>3657</td>\n",
       "    </tr>\n",
       "    <tr>\n",
       "      <th>2</th>\n",
       "      <td>A134067</td>\n",
       "      <td>2013-11-16 11:54:00</td>\n",
       "      <td>Bandit</td>\n",
       "      <td>Nov 2013</td>\n",
       "      <td>1997-10-16</td>\n",
       "      <td>Return to Owner</td>\n",
       "      <td>NoSubtype</td>\n",
       "      <td>Dog</td>\n",
       "      <td>Neutered Male</td>\n",
       "      <td>16 years</td>\n",
       "      <td>Shetland Sheepdog</td>\n",
       "      <td>Brown/White</td>\n",
       "      <td>5875</td>\n",
       "    </tr>\n",
       "    <tr>\n",
       "      <th>3</th>\n",
       "      <td>A141142</td>\n",
       "      <td>2013-11-17 11:40:00</td>\n",
       "      <td>Bettie</td>\n",
       "      <td>Nov 2013</td>\n",
       "      <td>1998-06-01</td>\n",
       "      <td>Return to Owner</td>\n",
       "      <td>NoSubtype</td>\n",
       "      <td>Dog</td>\n",
       "      <td>Spayed Female</td>\n",
       "      <td>15 years</td>\n",
       "      <td>Labrador Retriever/Pit Bull</td>\n",
       "      <td>Black/White</td>\n",
       "      <td>5648</td>\n",
       "    </tr>\n",
       "    <tr>\n",
       "      <th>4</th>\n",
       "      <td>A163459</td>\n",
       "      <td>2014-11-14 19:28:00</td>\n",
       "      <td>Sasha</td>\n",
       "      <td>Nov 2014</td>\n",
       "      <td>1999-10-19</td>\n",
       "      <td>Return to Owner</td>\n",
       "      <td>NoSubtype</td>\n",
       "      <td>Dog</td>\n",
       "      <td>Intact Female</td>\n",
       "      <td>15 years</td>\n",
       "      <td>Miniature Schnauzer Mix</td>\n",
       "      <td>Black/Gray</td>\n",
       "      <td>5505</td>\n",
       "    </tr>\n",
       "  </tbody>\n",
       "</table>\n",
       "</div>"
      ],
      "text/plain": [
       "  Animal ID             DateTime    Name MonthYear Date of Birth  \\\n",
       "0   A006100  2017-12-07 00:00:00   Scamp  Dec 2017    2007-07-09   \n",
       "1   A047759  2014-04-07 15:12:00    Oreo  Apr 2014    2004-04-02   \n",
       "2   A134067  2013-11-16 11:54:00  Bandit  Nov 2013    1997-10-16   \n",
       "3   A141142  2013-11-17 11:40:00  Bettie  Nov 2013    1998-06-01   \n",
       "4   A163459  2014-11-14 19:28:00   Sasha  Nov 2014    1999-10-19   \n",
       "\n",
       "      Outcome Type Outcome Subtype Animal Type Sex upon Outcome  \\\n",
       "0  Return to Owner       NoSubtype         Dog    Neutered Male   \n",
       "1         Transfer         Partner         Dog    Neutered Male   \n",
       "2  Return to Owner       NoSubtype         Dog    Neutered Male   \n",
       "3  Return to Owner       NoSubtype         Dog    Spayed Female   \n",
       "4  Return to Owner       NoSubtype         Dog    Intact Female   \n",
       "\n",
       "  Age upon Outcome                        Breed         Color  ageInDays  \n",
       "0         10 years         Spinone Italiano Mix  Yellow/White       3804  \n",
       "1         10 years                    Dachshund      Tricolor       3657  \n",
       "2         16 years            Shetland Sheepdog   Brown/White       5875  \n",
       "3         15 years  Labrador Retriever/Pit Bull   Black/White       5648  \n",
       "4         15 years      Miniature Schnauzer Mix    Black/Gray       5505  "
      ]
     },
     "execution_count": 148,
     "metadata": {},
     "output_type": "execute_result"
    }
   ],
   "source": [
    "import pandas as pd\n",
    "import numpy as np\n",
    "import seaborn as sns \n",
    "import sklearn as sk \n",
    "import traceback\n",
    "import re\n",
    "from datetime import datetime \n",
    "df = pd.read_csv('austin_out_noNanDups.csv')\n",
    "df.head()"
   ]
  },
  {
   "cell_type": "markdown",
   "metadata": {
    "id": "uDxB2wMguUQx"
   },
   "source": [
    "### Checking data for intakes\n",
    "I will remove columns which are not useful in further analysis\n",
    "<br> I convert date to datetime \n",
    "<br> And them I will merge intakes data with dataset with outtakes "
   ]
  },
  {
   "cell_type": "code",
   "execution_count": null,
   "metadata": {
    "id": "kUIiR5lcuUQx",
    "outputId": "4ae634a1-1797-44a1-bb12-09a29a1d2cf4"
   },
   "outputs": [
    {
     "data": {
      "text/html": [
       "<div>\n",
       "<style scoped>\n",
       "    .dataframe tbody tr th:only-of-type {\n",
       "        vertical-align: middle;\n",
       "    }\n",
       "\n",
       "    .dataframe tbody tr th {\n",
       "        vertical-align: top;\n",
       "    }\n",
       "\n",
       "    .dataframe thead th {\n",
       "        text-align: right;\n",
       "    }\n",
       "</style>\n",
       "<table border=\"1\" class=\"dataframe\">\n",
       "  <thead>\n",
       "    <tr style=\"text-align: right;\">\n",
       "      <th></th>\n",
       "      <th>Animal ID</th>\n",
       "      <th>Name</th>\n",
       "      <th>DateTime</th>\n",
       "      <th>MonthYear</th>\n",
       "      <th>Found Location</th>\n",
       "      <th>Intake Type</th>\n",
       "      <th>Intake Condition</th>\n",
       "      <th>Animal Type</th>\n",
       "      <th>Sex upon Intake</th>\n",
       "      <th>Age upon Intake</th>\n",
       "      <th>Breed</th>\n",
       "      <th>Color</th>\n",
       "    </tr>\n",
       "  </thead>\n",
       "  <tbody>\n",
       "    <tr>\n",
       "      <th>0</th>\n",
       "      <td>A786884</td>\n",
       "      <td>*Brock</td>\n",
       "      <td>01/03/2019 04:19:00 PM</td>\n",
       "      <td>January 2019</td>\n",
       "      <td>2501 Magin Meadow Dr in Austin (TX)</td>\n",
       "      <td>Stray</td>\n",
       "      <td>Normal</td>\n",
       "      <td>Dog</td>\n",
       "      <td>Neutered Male</td>\n",
       "      <td>2 years</td>\n",
       "      <td>Beagle Mix</td>\n",
       "      <td>Tricolor</td>\n",
       "    </tr>\n",
       "    <tr>\n",
       "      <th>1</th>\n",
       "      <td>A706918</td>\n",
       "      <td>Belle</td>\n",
       "      <td>07/05/2015 12:59:00 PM</td>\n",
       "      <td>July 2015</td>\n",
       "      <td>9409 Bluegrass Dr in Austin (TX)</td>\n",
       "      <td>Stray</td>\n",
       "      <td>Normal</td>\n",
       "      <td>Dog</td>\n",
       "      <td>Spayed Female</td>\n",
       "      <td>8 years</td>\n",
       "      <td>English Springer Spaniel</td>\n",
       "      <td>White/Liver</td>\n",
       "    </tr>\n",
       "    <tr>\n",
       "      <th>2</th>\n",
       "      <td>A724273</td>\n",
       "      <td>Runster</td>\n",
       "      <td>04/14/2016 06:43:00 PM</td>\n",
       "      <td>April 2016</td>\n",
       "      <td>2818 Palomino Trail in Austin (TX)</td>\n",
       "      <td>Stray</td>\n",
       "      <td>Normal</td>\n",
       "      <td>Dog</td>\n",
       "      <td>Intact Male</td>\n",
       "      <td>11 months</td>\n",
       "      <td>Basenji Mix</td>\n",
       "      <td>Sable/White</td>\n",
       "    </tr>\n",
       "    <tr>\n",
       "      <th>3</th>\n",
       "      <td>A665644</td>\n",
       "      <td>NaN</td>\n",
       "      <td>10/21/2013 07:59:00 AM</td>\n",
       "      <td>October 2013</td>\n",
       "      <td>Austin (TX)</td>\n",
       "      <td>Stray</td>\n",
       "      <td>Sick</td>\n",
       "      <td>Cat</td>\n",
       "      <td>Intact Female</td>\n",
       "      <td>4 weeks</td>\n",
       "      <td>Domestic Shorthair Mix</td>\n",
       "      <td>Calico</td>\n",
       "    </tr>\n",
       "    <tr>\n",
       "      <th>4</th>\n",
       "      <td>A857105</td>\n",
       "      <td>Johnny Ringo</td>\n",
       "      <td>05/12/2022 12:23:00 AM</td>\n",
       "      <td>May 2022</td>\n",
       "      <td>4404 Sarasota Drive in Austin (TX)</td>\n",
       "      <td>Public Assist</td>\n",
       "      <td>Normal</td>\n",
       "      <td>Cat</td>\n",
       "      <td>Neutered Male</td>\n",
       "      <td>2 years</td>\n",
       "      <td>Domestic Shorthair</td>\n",
       "      <td>Orange Tabby</td>\n",
       "    </tr>\n",
       "  </tbody>\n",
       "</table>\n",
       "</div>"
      ],
      "text/plain": [
       "  Animal ID          Name                DateTime     MonthYear  \\\n",
       "0   A786884        *Brock  01/03/2019 04:19:00 PM  January 2019   \n",
       "1   A706918         Belle  07/05/2015 12:59:00 PM     July 2015   \n",
       "2   A724273       Runster  04/14/2016 06:43:00 PM    April 2016   \n",
       "3   A665644           NaN  10/21/2013 07:59:00 AM  October 2013   \n",
       "4   A857105  Johnny Ringo  05/12/2022 12:23:00 AM      May 2022   \n",
       "\n",
       "                        Found Location    Intake Type Intake Condition  \\\n",
       "0  2501 Magin Meadow Dr in Austin (TX)          Stray           Normal   \n",
       "1     9409 Bluegrass Dr in Austin (TX)          Stray           Normal   \n",
       "2   2818 Palomino Trail in Austin (TX)          Stray           Normal   \n",
       "3                          Austin (TX)          Stray             Sick   \n",
       "4   4404 Sarasota Drive in Austin (TX)  Public Assist           Normal   \n",
       "\n",
       "  Animal Type Sex upon Intake Age upon Intake                     Breed  \\\n",
       "0         Dog   Neutered Male         2 years                Beagle Mix   \n",
       "1         Dog   Spayed Female         8 years  English Springer Spaniel   \n",
       "2         Dog     Intact Male       11 months               Basenji Mix   \n",
       "3         Cat   Intact Female         4 weeks    Domestic Shorthair Mix   \n",
       "4         Cat   Neutered Male         2 years        Domestic Shorthair   \n",
       "\n",
       "          Color  \n",
       "0      Tricolor  \n",
       "1   White/Liver  \n",
       "2   Sable/White  \n",
       "3        Calico  \n",
       "4  Orange Tabby  "
      ]
     },
     "execution_count": 93,
     "metadata": {},
     "output_type": "execute_result"
    }
   ],
   "source": [
    "intakes = pd.read_csv('Austin_Animal_Center_Intakes.csv')\n",
    "intakes.head()"
   ]
  },
  {
   "cell_type": "code",
   "execution_count": null,
   "metadata": {
    "id": "DBg2DaosuUQx",
    "scrolled": true
   },
   "outputs": [],
   "source": [
    "intakes_left = intakes[['Animal ID', 'DateTime', 'Intake Type', 'Intake Condition']]\n",
    "intakes_left.rename(columns = {'DateTime' : 'Intake_date'}, inplace=True)\n"
   ]
  },
  {
   "cell_type": "code",
   "execution_count": null,
   "metadata": {
    "id": "m3XJatnXuUQx",
    "outputId": "0870d174-d5fb-4503-d089-d3a3c4831952",
    "scrolled": true
   },
   "outputs": [
    {
     "data": {
      "text/html": [
       "<div>\n",
       "<style scoped>\n",
       "    .dataframe tbody tr th:only-of-type {\n",
       "        vertical-align: middle;\n",
       "    }\n",
       "\n",
       "    .dataframe tbody tr th {\n",
       "        vertical-align: top;\n",
       "    }\n",
       "\n",
       "    .dataframe thead th {\n",
       "        text-align: right;\n",
       "    }\n",
       "</style>\n",
       "<table border=\"1\" class=\"dataframe\">\n",
       "  <thead>\n",
       "    <tr style=\"text-align: right;\">\n",
       "      <th></th>\n",
       "      <th>Animal ID</th>\n",
       "      <th>Intake_date</th>\n",
       "      <th>Intake Type</th>\n",
       "      <th>Intake Condition</th>\n",
       "    </tr>\n",
       "  </thead>\n",
       "  <tbody>\n",
       "    <tr>\n",
       "      <th>0</th>\n",
       "      <td>A786884</td>\n",
       "      <td>01/03/2019 04:19:00 PM</td>\n",
       "      <td>Stray</td>\n",
       "      <td>Normal</td>\n",
       "    </tr>\n",
       "    <tr>\n",
       "      <th>1</th>\n",
       "      <td>A706918</td>\n",
       "      <td>07/05/2015 12:59:00 PM</td>\n",
       "      <td>Stray</td>\n",
       "      <td>Normal</td>\n",
       "    </tr>\n",
       "    <tr>\n",
       "      <th>2</th>\n",
       "      <td>A724273</td>\n",
       "      <td>04/14/2016 06:43:00 PM</td>\n",
       "      <td>Stray</td>\n",
       "      <td>Normal</td>\n",
       "    </tr>\n",
       "    <tr>\n",
       "      <th>3</th>\n",
       "      <td>A665644</td>\n",
       "      <td>10/21/2013 07:59:00 AM</td>\n",
       "      <td>Stray</td>\n",
       "      <td>Sick</td>\n",
       "    </tr>\n",
       "    <tr>\n",
       "      <th>4</th>\n",
       "      <td>A857105</td>\n",
       "      <td>05/12/2022 12:23:00 AM</td>\n",
       "      <td>Public Assist</td>\n",
       "      <td>Normal</td>\n",
       "    </tr>\n",
       "  </tbody>\n",
       "</table>\n",
       "</div>"
      ],
      "text/plain": [
       "  Animal ID             Intake_date    Intake Type Intake Condition\n",
       "0   A786884  01/03/2019 04:19:00 PM          Stray           Normal\n",
       "1   A706918  07/05/2015 12:59:00 PM          Stray           Normal\n",
       "2   A724273  04/14/2016 06:43:00 PM          Stray           Normal\n",
       "3   A665644  10/21/2013 07:59:00 AM          Stray             Sick\n",
       "4   A857105  05/12/2022 12:23:00 AM  Public Assist           Normal"
      ]
     },
     "execution_count": 103,
     "metadata": {},
     "output_type": "execute_result"
    }
   ],
   "source": [
    "intakes_left.head()"
   ]
  },
  {
   "cell_type": "code",
   "execution_count": null,
   "metadata": {
    "id": "0-dN4awPuUQy",
    "outputId": "7476a37f-ac79-4b3d-c480-a71642d58310",
    "scrolled": true
   },
   "outputs": [
    {
     "name": "stderr",
     "output_type": "stream",
     "text": [
      "<ipython-input-105-82bab8286385>:1: SettingWithCopyWarning: \n",
      "A value is trying to be set on a copy of a slice from a DataFrame.\n",
      "Try using .loc[row_indexer,col_indexer] = value instead\n",
      "\n",
      "See the caveats in the documentation: https://pandas.pydata.org/pandas-docs/stable/user_guide/indexing.html#returning-a-view-versus-a-copy\n",
      "  intakes_left['Intake_date'] = intakes_left.Intake_date.apply(convert_date)\n"
     ]
    }
   ],
   "source": [
    "intakes_left['Intake_date'] = intakes_left.Intake_date.apply(convert_date)"
   ]
  },
  {
   "cell_type": "code",
   "execution_count": null,
   "metadata": {
    "id": "6ZyxmuDsuUQy",
    "outputId": "dcbcd558-913c-4681-e8b7-9adb9d102718"
   },
   "outputs": [
    {
     "data": {
      "text/plain": [
       "Animal ID                   object\n",
       "Intake_date         datetime64[ns]\n",
       "Intake Type                 object\n",
       "Intake Condition            object\n",
       "dtype: object"
      ]
     },
     "execution_count": 107,
     "metadata": {},
     "output_type": "execute_result"
    }
   ],
   "source": [
    "intakes_left.dtypes"
   ]
  },
  {
   "cell_type": "code",
   "execution_count": null,
   "metadata": {
    "id": "pR0UaemmuUQy",
    "outputId": "9d13f2fe-2dfc-4c86-fd7d-7c2eab317a72",
    "scrolled": true
   },
   "outputs": [
    {
     "data": {
      "text/plain": [
       "Animal ID           0.0\n",
       "Intake_date         0.0\n",
       "Intake Type         0.0\n",
       "Intake Condition    0.0\n",
       "dtype: float64"
      ]
     },
     "execution_count": 108,
     "metadata": {},
     "output_type": "execute_result"
    }
   ],
   "source": [
    "intakes_left.isna().mean()"
   ]
  },
  {
   "cell_type": "code",
   "execution_count": null,
   "metadata": {
    "id": "_23wm7qRuUQy",
    "outputId": "6768e91f-f08f-4471-b77d-db19de158735"
   },
   "outputs": [
    {
     "data": {
      "text/plain": [
       "24"
      ]
     },
     "execution_count": 130,
     "metadata": {},
     "output_type": "execute_result"
    }
   ],
   "source": [
    "intakes_left.duplicated().sum()"
   ]
  },
  {
   "cell_type": "code",
   "execution_count": null,
   "metadata": {
    "id": "z7Zw59XhuUQz",
    "outputId": "d0f6d591-0c1a-4ae9-c5c1-58996b7fb783"
   },
   "outputs": [
    {
     "name": "stderr",
     "output_type": "stream",
     "text": [
      "<ipython-input-131-5f08d499c709>:1: SettingWithCopyWarning: \n",
      "A value is trying to be set on a copy of a slice from a DataFrame\n",
      "\n",
      "See the caveats in the documentation: https://pandas.pydata.org/pandas-docs/stable/user_guide/indexing.html#returning-a-view-versus-a-copy\n",
      "  intakes_left.drop_duplicates(inplace=True)\n"
     ]
    },
    {
     "data": {
      "text/plain": [
       "0"
      ]
     },
     "execution_count": 131,
     "metadata": {},
     "output_type": "execute_result"
    }
   ],
   "source": [
    "intakes_left.drop_duplicates(inplace=True)\n",
    "intakes_left.duplicated().sum()"
   ]
  },
  {
   "cell_type": "code",
   "execution_count": null,
   "metadata": {
    "id": "2lx0wUbNuUQz",
    "outputId": "6d411a9d-a02f-4046-f6d7-752ee0f7b39c"
   },
   "outputs": [
    {
     "data": {
      "text/plain": [
       "(143964, 4)"
      ]
     },
     "metadata": {},
     "output_type": "display_data"
    },
    {
     "data": {
      "text/html": [
       "<div>\n",
       "<style scoped>\n",
       "    .dataframe tbody tr th:only-of-type {\n",
       "        vertical-align: middle;\n",
       "    }\n",
       "\n",
       "    .dataframe tbody tr th {\n",
       "        vertical-align: top;\n",
       "    }\n",
       "\n",
       "    .dataframe thead th {\n",
       "        text-align: right;\n",
       "    }\n",
       "</style>\n",
       "<table border=\"1\" class=\"dataframe\">\n",
       "  <thead>\n",
       "    <tr style=\"text-align: right;\">\n",
       "      <th></th>\n",
       "      <th>Animal ID</th>\n",
       "      <th>Intake_date</th>\n",
       "      <th>Intake Type</th>\n",
       "      <th>Intake Condition</th>\n",
       "    </tr>\n",
       "  </thead>\n",
       "  <tbody>\n",
       "    <tr>\n",
       "      <th>4714</th>\n",
       "      <td>A006100</td>\n",
       "      <td>2014-12-19 10:21:00</td>\n",
       "      <td>Public Assist</td>\n",
       "      <td>Normal</td>\n",
       "    </tr>\n",
       "    <tr>\n",
       "      <th>99066</th>\n",
       "      <td>A006100</td>\n",
       "      <td>2014-03-07 14:26:00</td>\n",
       "      <td>Public Assist</td>\n",
       "      <td>Normal</td>\n",
       "    </tr>\n",
       "    <tr>\n",
       "      <th>21956</th>\n",
       "      <td>A006100</td>\n",
       "      <td>2017-12-07 14:07:00</td>\n",
       "      <td>Stray</td>\n",
       "      <td>Normal</td>\n",
       "    </tr>\n",
       "    <tr>\n",
       "      <th>107802</th>\n",
       "      <td>A245945</td>\n",
       "      <td>2014-07-03 17:55:00</td>\n",
       "      <td>Stray</td>\n",
       "      <td>Normal</td>\n",
       "    </tr>\n",
       "    <tr>\n",
       "      <th>133055</th>\n",
       "      <td>A245945</td>\n",
       "      <td>2015-05-20 22:34:00</td>\n",
       "      <td>Stray</td>\n",
       "      <td>Normal</td>\n",
       "    </tr>\n",
       "    <tr>\n",
       "      <th>...</th>\n",
       "      <td>...</td>\n",
       "      <td>...</td>\n",
       "      <td>...</td>\n",
       "      <td>...</td>\n",
       "    </tr>\n",
       "    <tr>\n",
       "      <th>28110</th>\n",
       "      <td>A863973</td>\n",
       "      <td>2022-08-18 13:12:00</td>\n",
       "      <td>Owner Surrender</td>\n",
       "      <td>Normal</td>\n",
       "    </tr>\n",
       "    <tr>\n",
       "      <th>46670</th>\n",
       "      <td>A864131</td>\n",
       "      <td>2022-08-21 11:22:00</td>\n",
       "      <td>Stray</td>\n",
       "      <td>Normal</td>\n",
       "    </tr>\n",
       "    <tr>\n",
       "      <th>143589</th>\n",
       "      <td>A864131</td>\n",
       "      <td>2022-08-31 12:08:00</td>\n",
       "      <td>Owner Surrender</td>\n",
       "      <td>Normal</td>\n",
       "    </tr>\n",
       "    <tr>\n",
       "      <th>143869</th>\n",
       "      <td>A864189</td>\n",
       "      <td>2022-09-02 12:02:00</td>\n",
       "      <td>Owner Surrender</td>\n",
       "      <td>Normal</td>\n",
       "    </tr>\n",
       "    <tr>\n",
       "      <th>143349</th>\n",
       "      <td>A864189</td>\n",
       "      <td>2022-08-22 13:25:00</td>\n",
       "      <td>Stray</td>\n",
       "      <td>Normal</td>\n",
       "    </tr>\n",
       "  </tbody>\n",
       "</table>\n",
       "<p>26570 rows × 4 columns</p>\n",
       "</div>"
      ],
      "text/plain": [
       "       Animal ID         Intake_date      Intake Type Intake Condition\n",
       "4714     A006100 2014-12-19 10:21:00    Public Assist           Normal\n",
       "99066    A006100 2014-03-07 14:26:00    Public Assist           Normal\n",
       "21956    A006100 2017-12-07 14:07:00            Stray           Normal\n",
       "107802   A245945 2014-07-03 17:55:00            Stray           Normal\n",
       "133055   A245945 2015-05-20 22:34:00            Stray           Normal\n",
       "...          ...                 ...              ...              ...\n",
       "28110    A863973 2022-08-18 13:12:00  Owner Surrender           Normal\n",
       "46670    A864131 2022-08-21 11:22:00            Stray           Normal\n",
       "143589   A864131 2022-08-31 12:08:00  Owner Surrender           Normal\n",
       "143869   A864189 2022-09-02 12:02:00  Owner Surrender           Normal\n",
       "143349   A864189 2022-08-22 13:25:00            Stray           Normal\n",
       "\n",
       "[26570 rows x 4 columns]"
      ]
     },
     "execution_count": 151,
     "metadata": {},
     "output_type": "execute_result"
    }
   ],
   "source": [
    "display(intakes_left.shape)\n",
    "intakes_left.loc[intakes_left['Animal ID'].duplicated(keep=False)==True].sort_values('Animal ID')"
   ]
  },
  {
   "cell_type": "code",
   "execution_count": null,
   "metadata": {
    "id": "IF32nWx4uUQz"
   },
   "outputs": [],
   "source": [
    "intakes_maxd = intakes_left.groupby('Animal ID').agg({'Intake_date':'max'}).reset_index()"
   ]
  },
  {
   "cell_type": "code",
   "execution_count": null,
   "metadata": {
    "id": "z_KZZa-ZuUQz",
    "outputId": "ac749d80-7e3c-4be6-db96-7ffe9cd0ddb8",
    "scrolled": true
   },
   "outputs": [
    {
     "data": {
      "text/plain": [
       "(128905, 4)"
      ]
     },
     "metadata": {},
     "output_type": "display_data"
    },
    {
     "data": {
      "text/html": [
       "<div>\n",
       "<style scoped>\n",
       "    .dataframe tbody tr th:only-of-type {\n",
       "        vertical-align: middle;\n",
       "    }\n",
       "\n",
       "    .dataframe tbody tr th {\n",
       "        vertical-align: top;\n",
       "    }\n",
       "\n",
       "    .dataframe thead th {\n",
       "        text-align: right;\n",
       "    }\n",
       "</style>\n",
       "<table border=\"1\" class=\"dataframe\">\n",
       "  <thead>\n",
       "    <tr style=\"text-align: right;\">\n",
       "      <th></th>\n",
       "      <th>Animal ID</th>\n",
       "      <th>Intake_date</th>\n",
       "      <th>Intake Type</th>\n",
       "      <th>Intake Condition</th>\n",
       "    </tr>\n",
       "  </thead>\n",
       "  <tbody>\n",
       "    <tr>\n",
       "      <th>0</th>\n",
       "      <td>A006100</td>\n",
       "      <td>2017-12-07 14:07:00</td>\n",
       "      <td>Stray</td>\n",
       "      <td>Normal</td>\n",
       "    </tr>\n",
       "    <tr>\n",
       "      <th>1</th>\n",
       "      <td>A047759</td>\n",
       "      <td>2014-04-02 15:55:00</td>\n",
       "      <td>Owner Surrender</td>\n",
       "      <td>Normal</td>\n",
       "    </tr>\n",
       "    <tr>\n",
       "      <th>2</th>\n",
       "      <td>A134067</td>\n",
       "      <td>2013-11-16 09:02:00</td>\n",
       "      <td>Public Assist</td>\n",
       "      <td>Injured</td>\n",
       "    </tr>\n",
       "    <tr>\n",
       "      <th>3</th>\n",
       "      <td>A141142</td>\n",
       "      <td>2013-11-16 14:46:00</td>\n",
       "      <td>Stray</td>\n",
       "      <td>Aged</td>\n",
       "    </tr>\n",
       "    <tr>\n",
       "      <th>4</th>\n",
       "      <td>A163459</td>\n",
       "      <td>2014-11-14 15:11:00</td>\n",
       "      <td>Stray</td>\n",
       "      <td>Normal</td>\n",
       "    </tr>\n",
       "  </tbody>\n",
       "</table>\n",
       "</div>"
      ],
      "text/plain": [
       "  Animal ID         Intake_date      Intake Type Intake Condition\n",
       "0   A006100 2017-12-07 14:07:00            Stray           Normal\n",
       "1   A047759 2014-04-02 15:55:00  Owner Surrender           Normal\n",
       "2   A134067 2013-11-16 09:02:00    Public Assist          Injured\n",
       "3   A141142 2013-11-16 14:46:00            Stray             Aged\n",
       "4   A163459 2014-11-14 15:11:00            Stray           Normal"
      ]
     },
     "execution_count": 150,
     "metadata": {},
     "output_type": "execute_result"
    }
   ],
   "source": [
    "intakes = intakes_maxd.merge(intakes_left, how='left')\n",
    "display(intakes.shape)\n",
    "intakes.head()"
   ]
  },
  {
   "cell_type": "code",
   "execution_count": null,
   "metadata": {
    "id": "-bhEr0lPuUQz",
    "outputId": "65d6cbe6-be94-4016-d0a7-08240e7c98e4"
   },
   "outputs": [
    {
     "data": {
      "text/plain": [
       "Animal ID           0.0\n",
       "Intake_date         0.0\n",
       "Intake Type         0.0\n",
       "Intake Condition    0.0\n",
       "dtype: float64"
      ]
     },
     "execution_count": 158,
     "metadata": {},
     "output_type": "execute_result"
    }
   ],
   "source": [
    "intakes.isna().mean()"
   ]
  },
  {
   "cell_type": "code",
   "execution_count": null,
   "metadata": {
    "id": "6esQ_QLKuUQ0"
   },
   "outputs": [],
   "source": []
  },
  {
   "cell_type": "code",
   "execution_count": null,
   "metadata": {
    "id": "Fw3YJ5uZuUQ0"
   },
   "outputs": [],
   "source": []
  },
  {
   "cell_type": "code",
   "execution_count": null,
   "metadata": {
    "id": "nk552_EjuUQ0"
   },
   "outputs": [],
   "source": [
    "intakes_left.to_csv('intakes_noNan.csv', index=False)\n",
    "intakes.to_csv('intakes_noNanDups.csv', index=False)"
   ]
  },
  {
   "cell_type": "markdown",
   "metadata": {
    "id": "OjAEiWr1uUQ0"
   },
   "source": [
    "I think it is optimal to make left-join based of the data with outtakes as it is shorter that with intakes perhaps because I have dropped some data from it."
   ]
  },
  {
   "cell_type": "code",
   "execution_count": null,
   "metadata": {
    "id": "mzBB1YzGuUQ0"
   },
   "outputs": [],
   "source": [
    "full_data = df.merge(intakes, how='left', on='Animal ID')"
   ]
  },
  {
   "cell_type": "code",
   "execution_count": null,
   "metadata": {
    "id": "V-kL4udquUQ0",
    "outputId": "f748f334-e99b-42a3-92b5-35a29202f20b"
   },
   "outputs": [
    {
     "data": {
      "text/html": [
       "<div>\n",
       "<style scoped>\n",
       "    .dataframe tbody tr th:only-of-type {\n",
       "        vertical-align: middle;\n",
       "    }\n",
       "\n",
       "    .dataframe tbody tr th {\n",
       "        vertical-align: top;\n",
       "    }\n",
       "\n",
       "    .dataframe thead th {\n",
       "        text-align: right;\n",
       "    }\n",
       "</style>\n",
       "<table border=\"1\" class=\"dataframe\">\n",
       "  <thead>\n",
       "    <tr style=\"text-align: right;\">\n",
       "      <th></th>\n",
       "      <th>Animal ID</th>\n",
       "      <th>DateTime</th>\n",
       "      <th>Name</th>\n",
       "      <th>MonthYear</th>\n",
       "      <th>Date of Birth</th>\n",
       "      <th>Outcome Type</th>\n",
       "      <th>Outcome Subtype</th>\n",
       "      <th>Animal Type</th>\n",
       "      <th>Sex upon Outcome</th>\n",
       "      <th>Age upon Outcome</th>\n",
       "      <th>Breed</th>\n",
       "      <th>Color</th>\n",
       "      <th>ageInDays</th>\n",
       "      <th>Intake_date</th>\n",
       "      <th>Intake Type</th>\n",
       "      <th>Intake Condition</th>\n",
       "    </tr>\n",
       "  </thead>\n",
       "  <tbody>\n",
       "    <tr>\n",
       "      <th>0</th>\n",
       "      <td>A006100</td>\n",
       "      <td>2017-12-07 00:00:00</td>\n",
       "      <td>Scamp</td>\n",
       "      <td>Dec 2017</td>\n",
       "      <td>2007-07-09</td>\n",
       "      <td>Return to Owner</td>\n",
       "      <td>NoSubtype</td>\n",
       "      <td>Dog</td>\n",
       "      <td>Neutered Male</td>\n",
       "      <td>10 years</td>\n",
       "      <td>Spinone Italiano Mix</td>\n",
       "      <td>Yellow/White</td>\n",
       "      <td>3804</td>\n",
       "      <td>2017-12-07 14:07:00</td>\n",
       "      <td>Stray</td>\n",
       "      <td>Normal</td>\n",
       "    </tr>\n",
       "    <tr>\n",
       "      <th>1</th>\n",
       "      <td>A047759</td>\n",
       "      <td>2014-04-07 15:12:00</td>\n",
       "      <td>Oreo</td>\n",
       "      <td>Apr 2014</td>\n",
       "      <td>2004-04-02</td>\n",
       "      <td>Transfer</td>\n",
       "      <td>Partner</td>\n",
       "      <td>Dog</td>\n",
       "      <td>Neutered Male</td>\n",
       "      <td>10 years</td>\n",
       "      <td>Dachshund</td>\n",
       "      <td>Tricolor</td>\n",
       "      <td>3657</td>\n",
       "      <td>2014-04-02 15:55:00</td>\n",
       "      <td>Owner Surrender</td>\n",
       "      <td>Normal</td>\n",
       "    </tr>\n",
       "    <tr>\n",
       "      <th>2</th>\n",
       "      <td>A134067</td>\n",
       "      <td>2013-11-16 11:54:00</td>\n",
       "      <td>Bandit</td>\n",
       "      <td>Nov 2013</td>\n",
       "      <td>1997-10-16</td>\n",
       "      <td>Return to Owner</td>\n",
       "      <td>NoSubtype</td>\n",
       "      <td>Dog</td>\n",
       "      <td>Neutered Male</td>\n",
       "      <td>16 years</td>\n",
       "      <td>Shetland Sheepdog</td>\n",
       "      <td>Brown/White</td>\n",
       "      <td>5875</td>\n",
       "      <td>2013-11-16 09:02:00</td>\n",
       "      <td>Public Assist</td>\n",
       "      <td>Injured</td>\n",
       "    </tr>\n",
       "    <tr>\n",
       "      <th>3</th>\n",
       "      <td>A141142</td>\n",
       "      <td>2013-11-17 11:40:00</td>\n",
       "      <td>Bettie</td>\n",
       "      <td>Nov 2013</td>\n",
       "      <td>1998-06-01</td>\n",
       "      <td>Return to Owner</td>\n",
       "      <td>NoSubtype</td>\n",
       "      <td>Dog</td>\n",
       "      <td>Spayed Female</td>\n",
       "      <td>15 years</td>\n",
       "      <td>Labrador Retriever/Pit Bull</td>\n",
       "      <td>Black/White</td>\n",
       "      <td>5648</td>\n",
       "      <td>2013-11-16 14:46:00</td>\n",
       "      <td>Stray</td>\n",
       "      <td>Aged</td>\n",
       "    </tr>\n",
       "    <tr>\n",
       "      <th>4</th>\n",
       "      <td>A163459</td>\n",
       "      <td>2014-11-14 19:28:00</td>\n",
       "      <td>Sasha</td>\n",
       "      <td>Nov 2014</td>\n",
       "      <td>1999-10-19</td>\n",
       "      <td>Return to Owner</td>\n",
       "      <td>NoSubtype</td>\n",
       "      <td>Dog</td>\n",
       "      <td>Intact Female</td>\n",
       "      <td>15 years</td>\n",
       "      <td>Miniature Schnauzer Mix</td>\n",
       "      <td>Black/Gray</td>\n",
       "      <td>5505</td>\n",
       "      <td>2014-11-14 15:11:00</td>\n",
       "      <td>Stray</td>\n",
       "      <td>Normal</td>\n",
       "    </tr>\n",
       "  </tbody>\n",
       "</table>\n",
       "</div>"
      ],
      "text/plain": [
       "  Animal ID             DateTime    Name MonthYear Date of Birth  \\\n",
       "0   A006100  2017-12-07 00:00:00   Scamp  Dec 2017    2007-07-09   \n",
       "1   A047759  2014-04-07 15:12:00    Oreo  Apr 2014    2004-04-02   \n",
       "2   A134067  2013-11-16 11:54:00  Bandit  Nov 2013    1997-10-16   \n",
       "3   A141142  2013-11-17 11:40:00  Bettie  Nov 2013    1998-06-01   \n",
       "4   A163459  2014-11-14 19:28:00   Sasha  Nov 2014    1999-10-19   \n",
       "\n",
       "      Outcome Type Outcome Subtype Animal Type Sex upon Outcome  \\\n",
       "0  Return to Owner       NoSubtype         Dog    Neutered Male   \n",
       "1         Transfer         Partner         Dog    Neutered Male   \n",
       "2  Return to Owner       NoSubtype         Dog    Neutered Male   \n",
       "3  Return to Owner       NoSubtype         Dog    Spayed Female   \n",
       "4  Return to Owner       NoSubtype         Dog    Intact Female   \n",
       "\n",
       "  Age upon Outcome                        Breed         Color  ageInDays  \\\n",
       "0         10 years         Spinone Italiano Mix  Yellow/White       3804   \n",
       "1         10 years                    Dachshund      Tricolor       3657   \n",
       "2         16 years            Shetland Sheepdog   Brown/White       5875   \n",
       "3         15 years  Labrador Retriever/Pit Bull   Black/White       5648   \n",
       "4         15 years      Miniature Schnauzer Mix    Black/Gray       5505   \n",
       "\n",
       "          Intake_date      Intake Type Intake Condition  \n",
       "0 2017-12-07 14:07:00            Stray           Normal  \n",
       "1 2014-04-02 15:55:00  Owner Surrender           Normal  \n",
       "2 2013-11-16 09:02:00    Public Assist          Injured  \n",
       "3 2013-11-16 14:46:00            Stray             Aged  \n",
       "4 2014-11-14 15:11:00            Stray           Normal  "
      ]
     },
     "execution_count": 154,
     "metadata": {},
     "output_type": "execute_result"
    }
   ],
   "source": [
    "full_data.head()"
   ]
  },
  {
   "cell_type": "code",
   "execution_count": null,
   "metadata": {
    "id": "WdSAdUvWuUQ0",
    "outputId": "f1117dfa-4be5-422f-d644-6da35ad106e3",
    "scrolled": true
   },
   "outputs": [
    {
     "data": {
      "text/plain": [
       "Animal ID           0.000000\n",
       "DateTime            0.000000\n",
       "Name                0.000000\n",
       "MonthYear           0.000000\n",
       "Date of Birth       0.000000\n",
       "Outcome Type        0.000000\n",
       "Outcome Subtype     0.000000\n",
       "Animal Type         0.000000\n",
       "Sex upon Outcome    0.000000\n",
       "Age upon Outcome    0.000000\n",
       "Breed               0.000000\n",
       "Color               0.000000\n",
       "ageInDays           0.000000\n",
       "Intake_date         0.006322\n",
       "Intake Type         0.006322\n",
       "Intake Condition    0.006322\n",
       "dtype: float64"
      ]
     },
     "metadata": {},
     "output_type": "display_data"
    },
    {
     "data": {
      "text/plain": [
       "(128759, 16)"
      ]
     },
     "execution_count": 157,
     "metadata": {},
     "output_type": "execute_result"
    }
   ],
   "source": [
    "display(full_data.isna().mean())\n",
    "full_data.shape"
   ]
  },
  {
   "cell_type": "markdown",
   "metadata": {
    "id": "IZdvMeoluUQ1"
   },
   "source": [
    "### ok, I see missing values in columns merged from intakes, this are animals who are in the outtake dataset but those who are not in the intakes dataset. I think I am not going to do anything with this as these columns might not be necessary all the time in the analysis and if I need them I will remove the nans."
   ]
  },
  {
   "cell_type": "code",
   "execution_count": null,
   "metadata": {
    "id": "JcVyc7qiuUQ1"
   },
   "outputs": [],
   "source": [
    "full_data.to_csv('inout_austin_nodups_nans.csv', index=False)"
   ]
  },
  {
   "cell_type": "markdown",
   "metadata": {
    "id": "IYQi91SzuUQ1"
   },
   "source": [
    "### Exploratory data analysis \n",
    "Lets build some grahts just to think about correlations and dependances. "
   ]
  },
  {
   "cell_type": "code",
   "execution_count": null,
   "metadata": {
    "id": "xgETj-aiuUQ1"
   },
   "outputs": [],
   "source": [
    "import pandas as pd\n",
    "import numpy as np\n",
    "import seaborn as sns \n",
    "import sklearn as sk \n",
    "import traceback\n",
    "import re\n",
    "from datetime import datetime \n",
    "import matplotlib.pyplot as plt"
   ]
  },
  {
   "cell_type": "code",
   "execution_count": null,
   "metadata": {
    "id": "Q-aX3Tx3uUQ1",
    "outputId": "6916212c-5cd6-4b10-f835-c09dc05d3d5d",
    "scrolled": false
   },
   "outputs": [
    {
     "data": {
      "text/plain": [
       "Index(['Animal ID', 'DateTime', 'Name', 'MonthYear', 'Date of Birth',\n",
       "       'Outcome Type', 'Outcome Subtype', 'Animal Type', 'Sex upon Outcome',\n",
       "       'Age upon Outcome', 'Breed', 'Color', 'ageInDays', 'Intake_date',\n",
       "       'Intake Type', 'Intake Condition'],\n",
       "      dtype='object')"
      ]
     },
     "metadata": {},
     "output_type": "display_data"
    },
    {
     "data": {
      "text/html": [
       "<div>\n",
       "<style scoped>\n",
       "    .dataframe tbody tr th:only-of-type {\n",
       "        vertical-align: middle;\n",
       "    }\n",
       "\n",
       "    .dataframe tbody tr th {\n",
       "        vertical-align: top;\n",
       "    }\n",
       "\n",
       "    .dataframe thead th {\n",
       "        text-align: right;\n",
       "    }\n",
       "</style>\n",
       "<table border=\"1\" class=\"dataframe\">\n",
       "  <thead>\n",
       "    <tr style=\"text-align: right;\">\n",
       "      <th></th>\n",
       "      <th>Animal ID</th>\n",
       "      <th>DateTime</th>\n",
       "      <th>Name</th>\n",
       "      <th>MonthYear</th>\n",
       "      <th>Date of Birth</th>\n",
       "      <th>Outcome Type</th>\n",
       "      <th>Outcome Subtype</th>\n",
       "      <th>Animal Type</th>\n",
       "      <th>Sex upon Outcome</th>\n",
       "      <th>Age upon Outcome</th>\n",
       "      <th>Breed</th>\n",
       "      <th>Color</th>\n",
       "      <th>ageInDays</th>\n",
       "      <th>Intake_date</th>\n",
       "      <th>Intake Type</th>\n",
       "      <th>Intake Condition</th>\n",
       "    </tr>\n",
       "  </thead>\n",
       "  <tbody>\n",
       "    <tr>\n",
       "      <th>0</th>\n",
       "      <td>A006100</td>\n",
       "      <td>2017-12-07 00:00:00</td>\n",
       "      <td>Scamp</td>\n",
       "      <td>Dec 2017</td>\n",
       "      <td>2007-07-09</td>\n",
       "      <td>Return to Owner</td>\n",
       "      <td>NoSubtype</td>\n",
       "      <td>Dog</td>\n",
       "      <td>Neutered Male</td>\n",
       "      <td>10 years</td>\n",
       "      <td>Spinone Italiano Mix</td>\n",
       "      <td>Yellow/White</td>\n",
       "      <td>3804</td>\n",
       "      <td>2017-12-07 14:07:00</td>\n",
       "      <td>Stray</td>\n",
       "      <td>Normal</td>\n",
       "    </tr>\n",
       "    <tr>\n",
       "      <th>1</th>\n",
       "      <td>A047759</td>\n",
       "      <td>2014-04-07 15:12:00</td>\n",
       "      <td>Oreo</td>\n",
       "      <td>Apr 2014</td>\n",
       "      <td>2004-04-02</td>\n",
       "      <td>Transfer</td>\n",
       "      <td>Partner</td>\n",
       "      <td>Dog</td>\n",
       "      <td>Neutered Male</td>\n",
       "      <td>10 years</td>\n",
       "      <td>Dachshund</td>\n",
       "      <td>Tricolor</td>\n",
       "      <td>3657</td>\n",
       "      <td>2014-04-02 15:55:00</td>\n",
       "      <td>Owner Surrender</td>\n",
       "      <td>Normal</td>\n",
       "    </tr>\n",
       "    <tr>\n",
       "      <th>2</th>\n",
       "      <td>A134067</td>\n",
       "      <td>2013-11-16 11:54:00</td>\n",
       "      <td>Bandit</td>\n",
       "      <td>Nov 2013</td>\n",
       "      <td>1997-10-16</td>\n",
       "      <td>Return to Owner</td>\n",
       "      <td>NoSubtype</td>\n",
       "      <td>Dog</td>\n",
       "      <td>Neutered Male</td>\n",
       "      <td>16 years</td>\n",
       "      <td>Shetland Sheepdog</td>\n",
       "      <td>Brown/White</td>\n",
       "      <td>5875</td>\n",
       "      <td>2013-11-16 09:02:00</td>\n",
       "      <td>Public Assist</td>\n",
       "      <td>Injured</td>\n",
       "    </tr>\n",
       "    <tr>\n",
       "      <th>3</th>\n",
       "      <td>A141142</td>\n",
       "      <td>2013-11-17 11:40:00</td>\n",
       "      <td>Bettie</td>\n",
       "      <td>Nov 2013</td>\n",
       "      <td>1998-06-01</td>\n",
       "      <td>Return to Owner</td>\n",
       "      <td>NoSubtype</td>\n",
       "      <td>Dog</td>\n",
       "      <td>Spayed Female</td>\n",
       "      <td>15 years</td>\n",
       "      <td>Labrador Retriever/Pit Bull</td>\n",
       "      <td>Black/White</td>\n",
       "      <td>5648</td>\n",
       "      <td>2013-11-16 14:46:00</td>\n",
       "      <td>Stray</td>\n",
       "      <td>Aged</td>\n",
       "    </tr>\n",
       "    <tr>\n",
       "      <th>4</th>\n",
       "      <td>A163459</td>\n",
       "      <td>2014-11-14 19:28:00</td>\n",
       "      <td>Sasha</td>\n",
       "      <td>Nov 2014</td>\n",
       "      <td>1999-10-19</td>\n",
       "      <td>Return to Owner</td>\n",
       "      <td>NoSubtype</td>\n",
       "      <td>Dog</td>\n",
       "      <td>Intact Female</td>\n",
       "      <td>15 years</td>\n",
       "      <td>Miniature Schnauzer Mix</td>\n",
       "      <td>Black/Gray</td>\n",
       "      <td>5505</td>\n",
       "      <td>2014-11-14 15:11:00</td>\n",
       "      <td>Stray</td>\n",
       "      <td>Normal</td>\n",
       "    </tr>\n",
       "  </tbody>\n",
       "</table>\n",
       "</div>"
      ],
      "text/plain": [
       "  Animal ID             DateTime    Name MonthYear Date of Birth  \\\n",
       "0   A006100  2017-12-07 00:00:00   Scamp  Dec 2017    2007-07-09   \n",
       "1   A047759  2014-04-07 15:12:00    Oreo  Apr 2014    2004-04-02   \n",
       "2   A134067  2013-11-16 11:54:00  Bandit  Nov 2013    1997-10-16   \n",
       "3   A141142  2013-11-17 11:40:00  Bettie  Nov 2013    1998-06-01   \n",
       "4   A163459  2014-11-14 19:28:00   Sasha  Nov 2014    1999-10-19   \n",
       "\n",
       "      Outcome Type Outcome Subtype Animal Type Sex upon Outcome  \\\n",
       "0  Return to Owner       NoSubtype         Dog    Neutered Male   \n",
       "1         Transfer         Partner         Dog    Neutered Male   \n",
       "2  Return to Owner       NoSubtype         Dog    Neutered Male   \n",
       "3  Return to Owner       NoSubtype         Dog    Spayed Female   \n",
       "4  Return to Owner       NoSubtype         Dog    Intact Female   \n",
       "\n",
       "  Age upon Outcome                        Breed         Color  ageInDays  \\\n",
       "0         10 years         Spinone Italiano Mix  Yellow/White       3804   \n",
       "1         10 years                    Dachshund      Tricolor       3657   \n",
       "2         16 years            Shetland Sheepdog   Brown/White       5875   \n",
       "3         15 years  Labrador Retriever/Pit Bull   Black/White       5648   \n",
       "4         15 years      Miniature Schnauzer Mix    Black/Gray       5505   \n",
       "\n",
       "           Intake_date      Intake Type Intake Condition  \n",
       "0  2017-12-07 14:07:00            Stray           Normal  \n",
       "1  2014-04-02 15:55:00  Owner Surrender           Normal  \n",
       "2  2013-11-16 09:02:00    Public Assist          Injured  \n",
       "3  2013-11-16 14:46:00            Stray             Aged  \n",
       "4  2014-11-14 15:11:00            Stray           Normal  "
      ]
     },
     "execution_count": 2,
     "metadata": {},
     "output_type": "execute_result"
    }
   ],
   "source": [
    "fdata = pd.read_csv('inout_austin_nodups_nans.csv')\n",
    "display(fdata.columns)\n",
    "fdata.head()"
   ]
  },
  {
   "cell_type": "code",
   "execution_count": null,
   "metadata": {
    "id": "dwxoKUuquUQ2"
   },
   "outputs": [],
   "source": [
    "def fruction_age(days): \n",
    "    months = days/30 \n",
    "    if months <= 1.0: \n",
    "        tr = 'up to month'\n",
    "    elif months > 1.0 and months <=6.0:\n",
    "        tr = '1-6 months'\n",
    "    elif months > 6.0 and months <=12.0:\n",
    "        tr = '6-12 months'\n",
    "    elif months > 12.0 and months <=24.0:\n",
    "        tr = '1-2 years'\n",
    "    elif months > 24 and months <=60:\n",
    "        tr = '2-5 years'\n",
    "    elif months > 60 and months <=120:\n",
    "        tr = '5-10 years'\n",
    "    elif months > 120 and months <=180:\n",
    "        tr = '10-15 years'\n",
    "    else:\n",
    "        tr = 'more than 15 years'\n",
    "    return tr\n",
    "\n",
    "fdata['age_fruction'] = fdata.ageInDays.apply(fruction_age)"
   ]
  },
  {
   "cell_type": "code",
   "execution_count": null,
   "metadata": {
    "id": "dRgr16LKuUQ2",
    "outputId": "583a7e48-7e76-4e5f-e9db-164c45b57ccd",
    "scrolled": false
   },
   "outputs": [
    {
     "data": {
      "text/plain": [
       "array(['10-15 years', 'more than 15 years', '5-10 years', '2-5 years',\n",
       "       '1-2 years', '6-12 months', '1-6 months', 'up to month'],\n",
       "      dtype=object)"
      ]
     },
     "execution_count": 4,
     "metadata": {},
     "output_type": "execute_result"
    }
   ],
   "source": [
    "fdata.age_fruction.unique()"
   ]
  },
  {
   "cell_type": "code",
   "execution_count": null,
   "metadata": {
    "id": "kSZ7KR4puUQ2",
    "outputId": "6a331c85-b8dd-4133-f844-d34352f22804"
   },
   "outputs": [
    {
     "data": {
      "text/plain": [
       "['Neurologic',\n",
       " 'Agonal',\n",
       " 'Med Attn',\n",
       " 'Med Urgent',\n",
       " 'Panleuk',\n",
       " 'Space',\n",
       " 'Neonatal',\n",
       " 'Behavior',\n",
       " 'Nursing',\n",
       " 'Pregnant',\n",
       " 'Feral',\n",
       " 'Medical',\n",
       " 'Other',\n",
       " nan,\n",
       " 'Sick',\n",
       " 'Aged',\n",
       " 'Injured',\n",
       " 'Normal']"
      ]
     },
     "execution_count": 5,
     "metadata": {},
     "output_type": "execute_result"
    }
   ],
   "source": [
    "intakes = list(fdata['Intake Condition'].unique())[::-1]\n",
    "intakes"
   ]
  },
  {
   "cell_type": "code",
   "execution_count": null,
   "metadata": {
    "id": "yFl3eKYyuUQ2",
    "outputId": "de8be6ed-29b1-4efd-a31f-3cdce76fb094",
    "scrolled": false
   },
   "outputs": [
    {
     "data": {
      "text/plain": [
       "<function matplotlib.pyplot.show(close=None, block=None)>"
      ]
     },
     "execution_count": 6,
     "metadata": {},
     "output_type": "execute_result"
    },
    {
     "data": {
      "image/png": "[encoded data removed]",
      "text/plain": [
       "<Figure size 1152x432 with 1 Axes>"
      ]
     },
     "metadata": {
      "needs_background": "light"
     },
     "output_type": "display_data"
    }
   ],
   "source": [
    "fig, ax = plt.subplots(figsize=(16, 6))\n",
    "sns.histplot(data=fdata, y='age_fruction', hue='Intake Condition', ax=ax, palette='prism', hue_order = intakes)\n",
    "plt.xticks(rotation=90)\n",
    "plt.xlabel('Count of animals')\n",
    "plt.ylabel('Age of animals')\n",
    "fig.suptitle('Intake condition and age of animals in the shelter', fontsize=18, color='Green')\n",
    "plt.show"
   ]
  },
  {
   "cell_type": "markdown",
   "metadata": {
    "id": "xvPECoFFuUQ2"
   },
   "source": [
    "## Animals in what condition and in what age are coming to the shelter? \n",
    "Dominant amount of animals are coming to the shelter in normal condition, babies up to month are coming in nursing condition too (and this is expected). Some visible part of animals of 2-5 years are coming injured. \n",
    "<br> the dominant age of coming animals is from a month to 6 months, then 2-5 years and then 1-2 years (so from 0.5 to 5 years is the dominant age of coming animals)"
   ]
  },
  {
   "cell_type": "code",
   "execution_count": null,
   "metadata": {
    "id": "mGsYN6s2uUQ3"
   },
   "outputs": [],
   "source": [
    "fdata['Intake Type'].fillna('Unknown', inplace=True)"
   ]
  },
  {
   "cell_type": "code",
   "execution_count": null,
   "metadata": {
    "id": "cg2Z8n6wuUQ3",
    "outputId": "95a3dc6e-1e48-4d6b-b5b8-6f0c121a35f3"
   },
   "outputs": [
    {
     "data": {
      "text/plain": [
       "<function matplotlib.pyplot.show(close=None, block=None)>"
      ]
     },
     "execution_count": 8,
     "metadata": {},
     "output_type": "execute_result"
    },
    {
     "data": {
      "image/png": "[encoded data removed]",
      "text/plain": [
       "<Figure size 432x288 with 1 Axes>"
      ]
     },
     "metadata": {
      "needs_background": "light"
     },
     "output_type": "display_data"
    }
   ],
   "source": [
    "fig, ax = plt.subplots(figsize=(6, 4))\n",
    "sns.histplot(data=fdata, x='Intake Type', ax=ax, color='Lightblue')\n",
    "plt.xticks(rotation=90)\n",
    "plt.xlabel('Intake')\n",
    "plt.ylabel('Count of animals')\n",
    "fig.suptitle('Count of intake types', fontsize=18, color='Blue')\n",
    "plt.show"
   ]
  },
  {
   "cell_type": "markdown",
   "metadata": {
    "id": "fPh1ExcGuUQ3"
   },
   "source": [
    "## Animals from which sources are coming to the shelter? \n",
    "\n",
    "Stray animal adoption - is a not-profit organisation to help animals. \n",
    "<br> Owner surrender means that owner of the animal has brought an animal to the shelter"
   ]
  },
  {
   "cell_type": "code",
   "execution_count": null,
   "metadata": {
    "id": "6VL0JyG9uUQ3",
    "outputId": "f501a3f9-1ab3-4cbf-c504-3b91e37bdff2",
    "scrolled": true
   },
   "outputs": [
    {
     "data": {
      "text/plain": [
       "array(['Return to Owner', 'Transfer', 'Relocate', 'Adoption',\n",
       "       'Euthanasia', 'Died', 'Rto-Adopt', 'Missing', 'Disposal', 'Stolen',\n",
       "       'Lost'], dtype=object)"
      ]
     },
     "execution_count": 9,
     "metadata": {},
     "output_type": "execute_result"
    }
   ],
   "source": [
    "fdata['Outcome Type'].unique()"
   ]
  },
  {
   "cell_type": "code",
   "execution_count": null,
   "metadata": {
    "id": "2yPN7rvluUQ3"
   },
   "outputs": [],
   "source": [
    "fdata['DateTime'] = pd.to_datetime(fdata['DateTime'])"
   ]
  },
  {
   "cell_type": "code",
   "execution_count": null,
   "metadata": {
    "id": "oinvhpFduUQ4",
    "outputId": "da287c8a-be47-48f6-8078-055915622640"
   },
   "outputs": [
    {
     "data": {
      "text/plain": [
       "Animal ID                   object\n",
       "DateTime            datetime64[ns]\n",
       "Name                        object\n",
       "MonthYear                   object\n",
       "Date of Birth               object\n",
       "Outcome Type                object\n",
       "Outcome Subtype             object\n",
       "Animal Type                 object\n",
       "Sex upon Outcome            object\n",
       "Age upon Outcome            object\n",
       "Breed                       object\n",
       "Color                       object\n",
       "ageInDays                    int64\n",
       "Intake_date                 object\n",
       "Intake Type                 object\n",
       "Intake Condition            object\n",
       "age_fruction                object\n",
       "dtype: object"
      ]
     },
     "execution_count": 11,
     "metadata": {},
     "output_type": "execute_result"
    }
   ],
   "source": [
    "fdata.dtypes"
   ]
  },
  {
   "cell_type": "code",
   "execution_count": null,
   "metadata": {
    "id": "w_XRgtu8uUQ4"
   },
   "outputs": [],
   "source": [
    "fdata['month_year'] = fdata['DateTime'].dt.to_period('M')"
   ]
  },
  {
   "cell_type": "code",
   "execution_count": null,
   "metadata": {
    "id": "fkCUXPW0uUQ4",
    "outputId": "6e3b574c-6be9-4d38-b5f1-847054d3eb48"
   },
   "outputs": [
    {
     "data": {
      "text/plain": [
       "month_year      object\n",
       "Outcome Type    object\n",
       "Animal ID        int64\n",
       "dtype: object"
      ]
     },
     "execution_count": 13,
     "metadata": {},
     "output_type": "execute_result"
    }
   ],
   "source": [
    "pandemic = fdata.groupby(['month_year', 'Outcome Type'])['Animal ID'].count().reset_index()\n",
    "pandemic['month_year'] = pandemic['month_year'].astype(str)\n",
    "pandemic.dtypes"
   ]
  },
  {
   "cell_type": "code",
   "execution_count": null,
   "metadata": {
    "id": "X6y6Wct9uUQ4",
    "outputId": "01ff48b7-f833-44c2-9cff-96fe1932643a"
   },
   "outputs": [
    {
     "data": {
      "text/plain": [
       "<function matplotlib.pyplot.show(close=None, block=None)>"
      ]
     },
     "execution_count": 14,
     "metadata": {},
     "output_type": "execute_result"
    },
    {
     "data": {
      "image/png": "[encoded data removed]",
      "text/plain": [
       "<Figure size 1728x432 with 1 Axes>"
      ]
     },
     "metadata": {
      "needs_background": "light"
     },
     "output_type": "display_data"
    }
   ],
   "source": [
    "fig, ax = plt.subplots(figsize=(24, 6))\n",
    "sns.lineplot(data=pandemic, x='month_year', y='Animal ID', hue='Outcome Type', ax=ax)\n",
    "plt.xticks(rotation=90)\n",
    "plt.xlabel('month and year')\n",
    "plt.ylabel('count of animals left the shelter')\n",
    "fig.suptitle('Count of animals left the shelter at monthly periods with outcomes', fontsize=18, color='Green')\n",
    "plt.show"
   ]
  },
  {
   "cell_type": "markdown",
   "metadata": {
    "id": "zzXOPF9muUQ4"
   },
   "source": [
    "## has pandemic influenced the animals' outcomes? \n",
    "Yes, it did, in March, 2020 there is visible drop in the counts of outcome what is back to high by summer 2021.\n",
    "<br> Also there are observable drops in outtakes in winters in general. So people are more wiilling to adopt in summer."
   ]
  },
  {
   "cell_type": "code",
   "execution_count": null,
   "metadata": {
    "id": "zeF_iDRBuUQ5",
    "outputId": "0c81836d-b686-4e85-d1f8-dc295816376e",
    "scrolled": false
   },
   "outputs": [
    {
     "data": {
      "text/plain": [
       "Dog          68097\n",
       "Cat          52373\n",
       "Other         7575\n",
       "Bird           688\n",
       "Livestock       26\n",
       "Name: Animal Type, dtype: int64"
      ]
     },
     "execution_count": 15,
     "metadata": {},
     "output_type": "execute_result"
    }
   ],
   "source": [
    "fdata['Animal Type'].value_counts()"
   ]
  },
  {
   "cell_type": "code",
   "execution_count": null,
   "metadata": {
    "id": "zstaXZPzuUQ5",
    "outputId": "b59f6f8c-2b31-40ae-d8ad-8539dbe22248"
   },
   "outputs": [
    {
     "data": {
      "text/html": [
       "<div>\n",
       "<style scoped>\n",
       "    .dataframe tbody tr th:only-of-type {\n",
       "        vertical-align: middle;\n",
       "    }\n",
       "\n",
       "    .dataframe tbody tr th {\n",
       "        vertical-align: top;\n",
       "    }\n",
       "\n",
       "    .dataframe thead th {\n",
       "        text-align: right;\n",
       "    }\n",
       "</style>\n",
       "<table border=\"1\" class=\"dataframe\">\n",
       "  <thead>\n",
       "    <tr style=\"text-align: right;\">\n",
       "      <th></th>\n",
       "      <th>Animal Type</th>\n",
       "      <th>Outcome Type</th>\n",
       "      <th>Animal ID</th>\n",
       "      <th>percent</th>\n",
       "    </tr>\n",
       "  </thead>\n",
       "  <tbody>\n",
       "    <tr>\n",
       "      <th>8</th>\n",
       "      <td>Cat</td>\n",
       "      <td>Adoption</td>\n",
       "      <td>24666</td>\n",
       "      <td>47.096787</td>\n",
       "    </tr>\n",
       "    <tr>\n",
       "      <th>9</th>\n",
       "      <td>Cat</td>\n",
       "      <td>Died</td>\n",
       "      <td>799</td>\n",
       "      <td>1.525595</td>\n",
       "    </tr>\n",
       "    <tr>\n",
       "      <th>10</th>\n",
       "      <td>Cat</td>\n",
       "      <td>Disposal</td>\n",
       "      <td>95</td>\n",
       "      <td>0.181391</td>\n",
       "    </tr>\n",
       "    <tr>\n",
       "      <th>11</th>\n",
       "      <td>Cat</td>\n",
       "      <td>Euthanasia</td>\n",
       "      <td>2207</td>\n",
       "      <td>4.214003</td>\n",
       "    </tr>\n",
       "    <tr>\n",
       "      <th>12</th>\n",
       "      <td>Cat</td>\n",
       "      <td>Missing</td>\n",
       "      <td>33</td>\n",
       "      <td>0.063010</td>\n",
       "    </tr>\n",
       "    <tr>\n",
       "      <th>13</th>\n",
       "      <td>Cat</td>\n",
       "      <td>Relocate</td>\n",
       "      <td>5</td>\n",
       "      <td>0.009547</td>\n",
       "    </tr>\n",
       "    <tr>\n",
       "      <th>14</th>\n",
       "      <td>Cat</td>\n",
       "      <td>Return to Owner</td>\n",
       "      <td>2263</td>\n",
       "      <td>4.320929</td>\n",
       "    </tr>\n",
       "    <tr>\n",
       "      <th>15</th>\n",
       "      <td>Cat</td>\n",
       "      <td>Rto-Adopt</td>\n",
       "      <td>188</td>\n",
       "      <td>0.358964</td>\n",
       "    </tr>\n",
       "    <tr>\n",
       "      <th>16</th>\n",
       "      <td>Cat</td>\n",
       "      <td>Transfer</td>\n",
       "      <td>22117</td>\n",
       "      <td>42.229775</td>\n",
       "    </tr>\n",
       "    <tr>\n",
       "      <th>17</th>\n",
       "      <td>Dog</td>\n",
       "      <td>Adoption</td>\n",
       "      <td>31914</td>\n",
       "      <td>46.865501</td>\n",
       "    </tr>\n",
       "    <tr>\n",
       "      <th>18</th>\n",
       "      <td>Dog</td>\n",
       "      <td>Died</td>\n",
       "      <td>314</td>\n",
       "      <td>0.461107</td>\n",
       "    </tr>\n",
       "    <tr>\n",
       "      <th>19</th>\n",
       "      <td>Dog</td>\n",
       "      <td>Disposal</td>\n",
       "      <td>56</td>\n",
       "      <td>0.082236</td>\n",
       "    </tr>\n",
       "    <tr>\n",
       "      <th>20</th>\n",
       "      <td>Dog</td>\n",
       "      <td>Euthanasia</td>\n",
       "      <td>1948</td>\n",
       "      <td>2.860625</td>\n",
       "    </tr>\n",
       "    <tr>\n",
       "      <th>21</th>\n",
       "      <td>Dog</td>\n",
       "      <td>Lost</td>\n",
       "      <td>1</td>\n",
       "      <td>0.001468</td>\n",
       "    </tr>\n",
       "    <tr>\n",
       "      <th>22</th>\n",
       "      <td>Dog</td>\n",
       "      <td>Missing</td>\n",
       "      <td>20</td>\n",
       "      <td>0.029370</td>\n",
       "    </tr>\n",
       "    <tr>\n",
       "      <th>23</th>\n",
       "      <td>Dog</td>\n",
       "      <td>Return to Owner</td>\n",
       "      <td>15902</td>\n",
       "      <td>23.351983</td>\n",
       "    </tr>\n",
       "    <tr>\n",
       "      <th>24</th>\n",
       "      <td>Dog</td>\n",
       "      <td>Rto-Adopt</td>\n",
       "      <td>502</td>\n",
       "      <td>0.737184</td>\n",
       "    </tr>\n",
       "    <tr>\n",
       "      <th>25</th>\n",
       "      <td>Dog</td>\n",
       "      <td>Stolen</td>\n",
       "      <td>2</td>\n",
       "      <td>0.002937</td>\n",
       "    </tr>\n",
       "    <tr>\n",
       "      <th>26</th>\n",
       "      <td>Dog</td>\n",
       "      <td>Transfer</td>\n",
       "      <td>17438</td>\n",
       "      <td>25.607589</td>\n",
       "    </tr>\n",
       "  </tbody>\n",
       "</table>\n",
       "</div>"
      ],
      "text/plain": [
       "   Animal Type     Outcome Type  Animal ID    percent\n",
       "8          Cat         Adoption      24666  47.096787\n",
       "9          Cat             Died        799   1.525595\n",
       "10         Cat         Disposal         95   0.181391\n",
       "11         Cat       Euthanasia       2207   4.214003\n",
       "12         Cat          Missing         33   0.063010\n",
       "13         Cat         Relocate          5   0.009547\n",
       "14         Cat  Return to Owner       2263   4.320929\n",
       "15         Cat        Rto-Adopt        188   0.358964\n",
       "16         Cat         Transfer      22117  42.229775\n",
       "17         Dog         Adoption      31914  46.865501\n",
       "18         Dog             Died        314   0.461107\n",
       "19         Dog         Disposal         56   0.082236\n",
       "20         Dog       Euthanasia       1948   2.860625\n",
       "21         Dog             Lost          1   0.001468\n",
       "22         Dog          Missing         20   0.029370\n",
       "23         Dog  Return to Owner      15902  23.351983\n",
       "24         Dog        Rto-Adopt        502   0.737184\n",
       "25         Dog           Stolen          2   0.002937\n",
       "26         Dog         Transfer      17438  25.607589"
      ]
     },
     "execution_count": 16,
     "metadata": {},
     "output_type": "execute_result"
    }
   ],
   "source": [
    "typesOut = fdata.groupby(['Animal Type', 'Outcome Type'])['Animal ID'].count().reset_index()\n",
    "typesOut['percent'] = typesOut.groupby(['Animal Type'])['Animal ID'].transform(lambda x: x/x.sum()*100)\n",
    "typesOut.loc[typesOut['Animal Type'].isin(['Dog', 'Cat'])]"
   ]
  },
  {
   "cell_type": "code",
   "execution_count": null,
   "metadata": {
    "id": "uM-YHFXvuUQ5",
    "outputId": "6e65427e-6249-455f-84a7-054d805b3141"
   },
   "outputs": [
    {
     "data": {
      "text/plain": [
       "<function matplotlib.pyplot.show(close=None, block=None)>"
      ]
     },
     "execution_count": 17,
     "metadata": {},
     "output_type": "execute_result"
    },
    {
     "data": {
      "image/png": "[encoded data removed]",
      "text/plain": [
       "<Figure size 864x432 with 1 Axes>"
      ]
     },
     "metadata": {
      "needs_background": "light"
     },
     "output_type": "display_data"
    }
   ],
   "source": [
    "fig, ax = plt.subplots(figsize=(12, 6))\n",
    "sns.barplot(data=typesOut, x='Animal Type', y='percent', hue='Outcome Type', ax=ax, palette='prism')\n",
    "plt.xticks(rotation=90)\n",
    "plt.xlabel('Type of animals')\n",
    "plt.ylabel('Percentage of animals out of shelter')\n",
    "fig.suptitle('Outcomes of animals of various types', fontsize=18, color='Blue')\n",
    "plt.legend(bbox_to_anchor=(1.2, 1.0), loc='upper right')\n",
    "plt.show"
   ]
  },
  {
   "cell_type": "markdown",
   "metadata": {
    "id": "qM0WbSlNuUQ5"
   },
   "source": [
    "## Is there difference between the outcome types of dogs and cats? \n",
    "Both types of animals are adopted equaly, but cats are twice more transfered than dogs and very little being returned to owner (4.3%) while dogs are equaly transfered or returned to owner (around 23-25%). Also both types are euthanasied equally. Also they have the same rate of RTO-adopt. What is this? Is it return-to-owner adopt? So what is the difference with just Return-to-Owner outcome? \n",
    "<br><br> The highest rates of euthanasia have birds and other animals. All other types of animals besides dogs and cats are equally lost (around 4%), birds are commonly transfered or RTO - aroun 30%, livestock is mostly RTO - close to 50%. "
   ]
  },
  {
   "cell_type": "markdown",
   "metadata": {
    "id": "AYlKM1g1uUQ5"
   },
   "source": [
    "### Exploration of data for modeling"
   ]
  },
  {
   "cell_type": "code",
   "execution_count": null,
   "metadata": {
    "id": "i9KgxU62uUQ5",
    "outputId": "fdbb99a6-d599-4178-f72d-f81d9287ff14"
   },
   "outputs": [
    {
     "data": {
      "text/plain": [
       "Index(['Animal ID', 'DateTime', 'Name', 'MonthYear', 'Date of Birth',\n",
       "       'Outcome Type', 'Outcome Subtype', 'Animal Type', 'Sex upon Outcome',\n",
       "       'Age upon Outcome', 'Breed', 'Color', 'ageInDays', 'Intake_date',\n",
       "       'Intake Type', 'Intake Condition', 'age_fruction'],\n",
       "      dtype='object')"
      ]
     },
     "execution_count": 1,
     "metadata": {},
     "output_type": "execute_result"
    }
   ],
   "source": [
    "import pandas as pd\n",
    "import numpy as np\n",
    "import seaborn as sns \n",
    "import sklearn as sk \n",
    "import traceback\n",
    "import re\n",
    "from datetime import datetime \n",
    "import matplotlib.pyplot as plt\n",
    "fdata = pd.read_csv('inout_austin_nodups_nans.csv')\n",
    "fdata['DateTime'] = pd.to_datetime(fdata['DateTime'])\n",
    "\n",
    "def fruction_age(days): \n",
    "    months = days/30 \n",
    "    if months <= 1.0: \n",
    "        tr = 'up to month'\n",
    "    elif months > 1.0 and months <=6.0:\n",
    "        tr = '1-6 months'\n",
    "    elif months > 6.0 and months <=12.0:\n",
    "        tr = '6-12 months'\n",
    "    elif months > 12.0 and months <=24.0:\n",
    "        tr = '1-2 years'\n",
    "    elif months > 24 and months <=60:\n",
    "        tr = '2-5 years'\n",
    "    elif months > 60 and months <=120:\n",
    "        tr = '5-10 years'\n",
    "    elif months > 120 and months <=180:\n",
    "        tr = '10-15 years'\n",
    "    else:\n",
    "        tr = 'more than 15 years'\n",
    "    return tr\n",
    "\n",
    "fdata['age_fruction'] = fdata.ageInDays.apply(fruction_age)\n",
    "\n",
    "fdata.columns"
   ]
  },
  {
   "cell_type": "code",
   "execution_count": null,
   "metadata": {
    "id": "dhMQ_DiwuUQ6",
    "outputId": "fa8c48d3-5b3e-4af7-eba0-79b6a5a6351a",
    "scrolled": false
   },
   "outputs": [
    {
     "data": {
      "text/plain": [
       "Adoption      0.446835\n",
       "Transfer      0.316692\n",
       "Rto-Adopt     0.147322\n",
       "Euthanasia    0.072974\n",
       "Died          0.015502\n",
       "Missing       0.000676\n",
       "Name: Outcome Type, dtype: float64"
      ]
     },
     "metadata": {},
     "output_type": "display_data"
    }
   ],
   "source": [
    "#I will combine the variables values which are very close in their meaning\n",
    "fdata.replace(['Relocate', 'Stolen', 'Lost'], 'Missing', inplace=True)\n",
    "fdata.replace('Disposal', 'Died', inplace=True)\n",
    "fdata.replace('Return to Owner', 'Rto-Adopt', inplace=True)\n",
    "display(fdata['Outcome Type'].value_counts(normalize=True))"
   ]
  },
  {
   "cell_type": "markdown",
   "metadata": {
    "id": "EzzQ-bQ_uUQ6"
   },
   "source": [
    "#### I am going to decide what models to use.  \n",
    "<br>I may probably use logistic regression because I can classify outcomes by 2 types: Adoption&RTO-Adoption (animal went to a human) and all other outcomes which mean that animal didn't find home. \n",
    "<br><br>Decision tree - also possible and I can work with various targets.\n",
    "<br><br> Clusterization - also possible as I know the number of clusters but they are not equal in size.\n",
    "<br><br> <b>I will start with logistic</b>\n",
    "* aren't variables multicolinear? \n",
    "* the size of the set is fairly large. "
   ]
  },
  {
   "cell_type": "code",
   "execution_count": null,
   "metadata": {
    "id": "evByXbxSuUQ6",
    "outputId": "c76b1923-528a-4f9b-f6cf-0d2518c4ffdc"
   },
   "outputs": [
    {
     "data": {
      "text/plain": [
       "Animal ID           0\n",
       "DateTime            0\n",
       "Name                0\n",
       "MonthYear           0\n",
       "Date of Birth       0\n",
       "Outcome Type        0\n",
       "Outcome Subtype     0\n",
       "Animal Type         0\n",
       "Sex upon Outcome    0\n",
       "Age upon Outcome    0\n",
       "Breed               0\n",
       "Color               0\n",
       "ageInDays           0\n",
       "Intake_date         0\n",
       "Intake Type         0\n",
       "Intake Condition    0\n",
       "age_fruction        0\n",
       "dtype: int64"
      ]
     },
     "metadata": {},
     "output_type": "display_data"
    }
   ],
   "source": [
    "#I will need to drop na from columns with intakes as I need to perform analysis. \n",
    "fdata.dropna(inplace=True)\n",
    "display(fdata.isna().sum())"
   ]
  },
  {
   "cell_type": "code",
   "execution_count": null,
   "metadata": {
    "id": "C2lVu7sOuUQ6",
    "outputId": "d41279d4-0650-45b8-a3ff-148cf14376b5",
    "scrolled": true
   },
   "outputs": [
    {
     "data": {
      "text/html": [
       "<div>\n",
       "<style scoped>\n",
       "    .dataframe tbody tr th:only-of-type {\n",
       "        vertical-align: middle;\n",
       "    }\n",
       "\n",
       "    .dataframe tbody tr th {\n",
       "        vertical-align: top;\n",
       "    }\n",
       "\n",
       "    .dataframe thead th {\n",
       "        text-align: right;\n",
       "    }\n",
       "</style>\n",
       "<table border=\"1\" class=\"dataframe\">\n",
       "  <thead>\n",
       "    <tr style=\"text-align: right;\">\n",
       "      <th></th>\n",
       "      <th>Animal ID</th>\n",
       "      <th>DateTime</th>\n",
       "      <th>Name</th>\n",
       "      <th>MonthYear</th>\n",
       "      <th>Date of Birth</th>\n",
       "      <th>Outcome Type</th>\n",
       "      <th>Outcome Subtype</th>\n",
       "      <th>Animal Type</th>\n",
       "      <th>Sex upon Outcome</th>\n",
       "      <th>Age upon Outcome</th>\n",
       "      <th>Breed</th>\n",
       "      <th>Color</th>\n",
       "      <th>ageInDays</th>\n",
       "      <th>Intake_date</th>\n",
       "      <th>Intake Type</th>\n",
       "      <th>Intake Condition</th>\n",
       "      <th>age_fruction</th>\n",
       "      <th>shelterDays</th>\n",
       "    </tr>\n",
       "  </thead>\n",
       "  <tbody>\n",
       "    <tr>\n",
       "      <th>0</th>\n",
       "      <td>A006100</td>\n",
       "      <td>2017-12-07 00:00:00</td>\n",
       "      <td>Scamp</td>\n",
       "      <td>Dec 2017</td>\n",
       "      <td>2007-07-09</td>\n",
       "      <td>Rto-Adopt</td>\n",
       "      <td>NoSubtype</td>\n",
       "      <td>Dog</td>\n",
       "      <td>Neutered Male</td>\n",
       "      <td>10 years</td>\n",
       "      <td>Spinone Italiano Mix</td>\n",
       "      <td>Yellow/White</td>\n",
       "      <td>3804</td>\n",
       "      <td>2017-12-07 14:07:00</td>\n",
       "      <td>Stray</td>\n",
       "      <td>Normal</td>\n",
       "      <td>10-15 years</td>\n",
       "      <td>-1</td>\n",
       "    </tr>\n",
       "    <tr>\n",
       "      <th>1</th>\n",
       "      <td>A047759</td>\n",
       "      <td>2014-04-07 15:12:00</td>\n",
       "      <td>Oreo</td>\n",
       "      <td>Apr 2014</td>\n",
       "      <td>2004-04-02</td>\n",
       "      <td>Transfer</td>\n",
       "      <td>Partner</td>\n",
       "      <td>Dog</td>\n",
       "      <td>Neutered Male</td>\n",
       "      <td>10 years</td>\n",
       "      <td>Dachshund</td>\n",
       "      <td>Tricolor</td>\n",
       "      <td>3657</td>\n",
       "      <td>2014-04-02 15:55:00</td>\n",
       "      <td>Owner Surrender</td>\n",
       "      <td>Normal</td>\n",
       "      <td>10-15 years</td>\n",
       "      <td>4</td>\n",
       "    </tr>\n",
       "    <tr>\n",
       "      <th>2</th>\n",
       "      <td>A134067</td>\n",
       "      <td>2013-11-16 11:54:00</td>\n",
       "      <td>Bandit</td>\n",
       "      <td>Nov 2013</td>\n",
       "      <td>1997-10-16</td>\n",
       "      <td>Rto-Adopt</td>\n",
       "      <td>NoSubtype</td>\n",
       "      <td>Dog</td>\n",
       "      <td>Neutered Male</td>\n",
       "      <td>16 years</td>\n",
       "      <td>Shetland Sheepdog</td>\n",
       "      <td>Brown/White</td>\n",
       "      <td>5875</td>\n",
       "      <td>2013-11-16 09:02:00</td>\n",
       "      <td>Public Assist</td>\n",
       "      <td>Injured</td>\n",
       "      <td>more than 15 years</td>\n",
       "      <td>0</td>\n",
       "    </tr>\n",
       "    <tr>\n",
       "      <th>3</th>\n",
       "      <td>A141142</td>\n",
       "      <td>2013-11-17 11:40:00</td>\n",
       "      <td>Bettie</td>\n",
       "      <td>Nov 2013</td>\n",
       "      <td>1998-06-01</td>\n",
       "      <td>Rto-Adopt</td>\n",
       "      <td>NoSubtype</td>\n",
       "      <td>Dog</td>\n",
       "      <td>Spayed Female</td>\n",
       "      <td>15 years</td>\n",
       "      <td>Labrador Retriever/Pit Bull</td>\n",
       "      <td>Black/White</td>\n",
       "      <td>5648</td>\n",
       "      <td>2013-11-16 14:46:00</td>\n",
       "      <td>Stray</td>\n",
       "      <td>Aged</td>\n",
       "      <td>more than 15 years</td>\n",
       "      <td>0</td>\n",
       "    </tr>\n",
       "    <tr>\n",
       "      <th>4</th>\n",
       "      <td>A163459</td>\n",
       "      <td>2014-11-14 19:28:00</td>\n",
       "      <td>Sasha</td>\n",
       "      <td>Nov 2014</td>\n",
       "      <td>1999-10-19</td>\n",
       "      <td>Rto-Adopt</td>\n",
       "      <td>NoSubtype</td>\n",
       "      <td>Dog</td>\n",
       "      <td>Intact Female</td>\n",
       "      <td>15 years</td>\n",
       "      <td>Miniature Schnauzer Mix</td>\n",
       "      <td>Black/Gray</td>\n",
       "      <td>5505</td>\n",
       "      <td>2014-11-14 15:11:00</td>\n",
       "      <td>Stray</td>\n",
       "      <td>Normal</td>\n",
       "      <td>more than 15 years</td>\n",
       "      <td>0</td>\n",
       "    </tr>\n",
       "  </tbody>\n",
       "</table>\n",
       "</div>"
      ],
      "text/plain": [
       "  Animal ID            DateTime    Name MonthYear Date of Birth Outcome Type  \\\n",
       "0   A006100 2017-12-07 00:00:00   Scamp  Dec 2017    2007-07-09    Rto-Adopt   \n",
       "1   A047759 2014-04-07 15:12:00    Oreo  Apr 2014    2004-04-02     Transfer   \n",
       "2   A134067 2013-11-16 11:54:00  Bandit  Nov 2013    1997-10-16    Rto-Adopt   \n",
       "3   A141142 2013-11-17 11:40:00  Bettie  Nov 2013    1998-06-01    Rto-Adopt   \n",
       "4   A163459 2014-11-14 19:28:00   Sasha  Nov 2014    1999-10-19    Rto-Adopt   \n",
       "\n",
       "  Outcome Subtype Animal Type Sex upon Outcome Age upon Outcome  \\\n",
       "0       NoSubtype         Dog    Neutered Male         10 years   \n",
       "1         Partner         Dog    Neutered Male         10 years   \n",
       "2       NoSubtype         Dog    Neutered Male         16 years   \n",
       "3       NoSubtype         Dog    Spayed Female         15 years   \n",
       "4       NoSubtype         Dog    Intact Female         15 years   \n",
       "\n",
       "                         Breed         Color  ageInDays         Intake_date  \\\n",
       "0         Spinone Italiano Mix  Yellow/White       3804 2017-12-07 14:07:00   \n",
       "1                    Dachshund      Tricolor       3657 2014-04-02 15:55:00   \n",
       "2            Shetland Sheepdog   Brown/White       5875 2013-11-16 09:02:00   \n",
       "3  Labrador Retriever/Pit Bull   Black/White       5648 2013-11-16 14:46:00   \n",
       "4      Miniature Schnauzer Mix    Black/Gray       5505 2014-11-14 15:11:00   \n",
       "\n",
       "       Intake Type Intake Condition        age_fruction  shelterDays  \n",
       "0            Stray           Normal         10-15 years           -1  \n",
       "1  Owner Surrender           Normal         10-15 years            4  \n",
       "2    Public Assist          Injured  more than 15 years            0  \n",
       "3            Stray             Aged  more than 15 years            0  \n",
       "4            Stray           Normal  more than 15 years            0  "
      ]
     },
     "execution_count": 4,
     "metadata": {},
     "output_type": "execute_result"
    }
   ],
   "source": [
    "#I want to create another variable for days in shelter as I belive it might be important\n",
    "def age_days(timedelt): \n",
    "    age_in_days = int(timedelt.days)\n",
    "    return age_in_days\n",
    "\n",
    "fdata['Intake_date'] = pd.to_datetime(fdata['Intake_date'])\n",
    "fdata['shelterDays'] = fdata['DateTime'] - fdata['Intake_date']\n",
    "fdata['shelterDays'] = fdata['shelterDays'].apply(age_days)\n",
    "fdata.head()"
   ]
  },
  {
   "cell_type": "markdown",
   "metadata": {
    "id": "2hKOqMRluUQ7"
   },
   "source": [
    "I am going to drop all weird data, where age or days in shelter are with minus values except for -1, as it might mean, that the animal is just 1 day old."
   ]
  },
  {
   "cell_type": "code",
   "execution_count": null,
   "metadata": {
    "id": "iJgtU5T4uUQ7"
   },
   "outputs": [],
   "source": [
    "fdata.drop(fdata.loc[fdata['ageInDays'] < -1].index, inplace=True)\n",
    "fdata.drop(fdata.loc[fdata['shelterDays'] < -1].index, inplace=True)"
   ]
  },
  {
   "cell_type": "code",
   "execution_count": null,
   "metadata": {
    "id": "IBS9K-uTuUQ7"
   },
   "outputs": [],
   "source": [
    "fdata['shelterDays'] = fdata['shelterDays'].replace(-1, 1)\n",
    "fdata['ageInDays'] = fdata['ageInDays'].replace(-1, 1)"
   ]
  },
  {
   "cell_type": "code",
   "execution_count": null,
   "metadata": {
    "id": "v3HJPIqmuUQ7",
    "outputId": "8d33b7e8-f057-4d93-aafd-92bbb8a018e6",
    "scrolled": false
   },
   "outputs": [
    {
     "data": {
      "text/plain": [
       "Animal ID           0\n",
       "DateTime            0\n",
       "Name                0\n",
       "MonthYear           0\n",
       "Date of Birth       0\n",
       "Outcome Type        0\n",
       "Outcome Subtype     0\n",
       "Animal Type         0\n",
       "Sex upon Outcome    0\n",
       "Age upon Outcome    0\n",
       "Breed               0\n",
       "Color               0\n",
       "ageInDays           0\n",
       "Intake_date         0\n",
       "Intake Type         0\n",
       "Intake Condition    0\n",
       "age_fruction        0\n",
       "shelterDays         0\n",
       "dtype: int64"
      ]
     },
     "metadata": {},
     "output_type": "display_data"
    },
    {
     "data": {
      "text/plain": [
       "0"
      ]
     },
     "metadata": {},
     "output_type": "display_data"
    },
    {
     "data": {
      "text/plain": [
       "(127812, 18)"
      ]
     },
     "execution_count": 7,
     "metadata": {},
     "output_type": "execute_result"
    }
   ],
   "source": [
    "display(fdata.isna().sum())\n",
    "display(fdata.duplicated().sum())\n",
    "fdata.shape\n",
    "#after all the manipulations there are still almost 128 000 of instances of hopefully clean data. This is good. \n",
    "#as I have around 145000 but there were duplicates and missing values"
   ]
  },
  {
   "cell_type": "code",
   "execution_count": null,
   "metadata": {
    "id": "U7MnR4K8uUQ7"
   },
   "outputs": [],
   "source": [
    "import pandas as pd\n",
    "import numpy as np\n",
    "import seaborn as sns \n",
    "import sklearn as sk \n",
    "import traceback\n",
    "import re\n",
    "from datetime import datetime \n",
    "import matplotlib.pyplot as plt"
   ]
  },
  {
   "cell_type": "code",
   "execution_count": null,
   "metadata": {
    "id": "2yswiiOruUQ7"
   },
   "outputs": [],
   "source": [
    "fdata.to_csv('nominal_vars_austin_ML.csv')"
   ]
  },
  {
   "cell_type": "code",
   "execution_count": null,
   "metadata": {
    "id": "iRK3mZFHuUQ8"
   },
   "outputs": [],
   "source": [
    "df = pd.read_csv('nominal_vars_austin_ML.csv')"
   ]
  },
  {
   "cell_type": "code",
   "execution_count": null,
   "metadata": {
    "id": "ARCuhGzguUQ8",
    "outputId": "0d257788-1138-436d-e46d-b6fcf3c7691a"
   },
   "outputs": [
    {
     "data": {
      "text/plain": [
       "619"
      ]
     },
     "metadata": {},
     "output_type": "display_data"
    }
   ],
   "source": [
    "display(df.Color.nunique())"
   ]
  },
  {
   "cell_type": "code",
   "execution_count": null,
   "metadata": {
    "id": "lsMPKzm7uUQ8",
    "outputId": "f2f4a535-7a05-486d-bb18-32b3b27998d3"
   },
   "outputs": [
    {
     "data": {
      "text/plain": [
       "array(['BrownSome', 'Tricolor', 'BlackGreySome', 'WhiteSome', 'Redsome',\n",
       "       'Othersome'], dtype=object)"
      ]
     },
     "metadata": {},
     "output_type": "display_data"
    },
    {
     "data": {
      "text/plain": [
       "6"
      ]
     },
     "execution_count": 45,
     "metadata": {},
     "output_type": "execute_result"
    }
   ],
   "source": [
    "def def_color(color):    \n",
    "    for item in ['Yellow', 'Brown', 'Gold', 'Tan']:\n",
    "        if item in color: \n",
    "            return 'BrownSome'\n",
    "    for item in ['Black', 'Grey', 'Smoke', 'Chocolate']:\n",
    "        if item in color: \n",
    "            return 'BlackGreySome'\n",
    "    for item in ['White', 'Silver', 'Cream', 'Blue']:\n",
    "        if item in color: \n",
    "            return 'WhiteSome'\n",
    "    for item in ['Tricolor', 'Tiger', 'Tortie']:\n",
    "        if item in color: \n",
    "            return 'Tricolor'\n",
    "    for item in ['Red', 'Orange', 'Apricot']:\n",
    "        if item in color: \n",
    "            return 'Redsome'\n",
    "    return 'Othersome'   \n",
    "\n",
    "\n",
    "colorsdf = df['Color']\n",
    "less_clrs = colorsdf.apply(def_color)\n",
    "display(less_clrs.unique())\n",
    "less_clrs.nunique()"
   ]
  },
  {
   "cell_type": "code",
   "execution_count": null,
   "metadata": {
    "id": "8fAO7iCUuUQ9",
    "outputId": "a19b67eb-6873-4d2c-c7a6-8d041345166a"
   },
   "outputs": [
    {
     "data": {
      "text/plain": [
       "BrownSome        0.389909\n",
       "BlackGreySome    0.257300\n",
       "WhiteSome        0.199191\n",
       "Othersome        0.065330\n",
       "Redsome          0.045497\n",
       "Tricolor         0.042774\n",
       "Name: Less_color, dtype: float64"
      ]
     },
     "execution_count": 46,
     "metadata": {},
     "output_type": "execute_result"
    }
   ],
   "source": [
    "df['Less_color'] = df['Color'].apply(def_color)\n",
    "df.Less_color.value_counts(normalize=True)"
   ]
  },
  {
   "cell_type": "code",
   "execution_count": null,
   "metadata": {
    "id": "Hjgz_F5KuUQ9",
    "outputId": "452f1137-983e-45be-8015-51e82038dfa0"
   },
   "outputs": [
    {
     "data": {
      "text/html": [
       "<div>\n",
       "<style scoped>\n",
       "    .dataframe tbody tr th:only-of-type {\n",
       "        vertical-align: middle;\n",
       "    }\n",
       "\n",
       "    .dataframe tbody tr th {\n",
       "        vertical-align: top;\n",
       "    }\n",
       "\n",
       "    .dataframe thead th {\n",
       "        text-align: right;\n",
       "    }\n",
       "</style>\n",
       "<table border=\"1\" class=\"dataframe\">\n",
       "  <thead>\n",
       "    <tr style=\"text-align: right;\">\n",
       "      <th></th>\n",
       "      <th>Unnamed: 0</th>\n",
       "      <th>Animal ID</th>\n",
       "      <th>DateTime</th>\n",
       "      <th>Name</th>\n",
       "      <th>MonthYear</th>\n",
       "      <th>Date of Birth</th>\n",
       "      <th>Outcome Type</th>\n",
       "      <th>Outcome Subtype</th>\n",
       "      <th>Animal Type</th>\n",
       "      <th>Sex upon Outcome</th>\n",
       "      <th>Age upon Outcome</th>\n",
       "      <th>Breed</th>\n",
       "      <th>Color</th>\n",
       "      <th>ageInDays</th>\n",
       "      <th>Intake_date</th>\n",
       "      <th>Intake Type</th>\n",
       "      <th>Intake Condition</th>\n",
       "      <th>age_fruction</th>\n",
       "      <th>shelterDays</th>\n",
       "      <th>Less_color</th>\n",
       "    </tr>\n",
       "  </thead>\n",
       "  <tbody>\n",
       "    <tr>\n",
       "      <th>0</th>\n",
       "      <td>0</td>\n",
       "      <td>A006100</td>\n",
       "      <td>2017-12-07 00:00:00</td>\n",
       "      <td>1</td>\n",
       "      <td>Dec 2017</td>\n",
       "      <td>2007-07-09</td>\n",
       "      <td>Rto-Adopt</td>\n",
       "      <td>NoSubtype</td>\n",
       "      <td>Dog</td>\n",
       "      <td>Neutered Male</td>\n",
       "      <td>10 years</td>\n",
       "      <td>Spinone Italiano Mix</td>\n",
       "      <td>Yellow/White</td>\n",
       "      <td>3804</td>\n",
       "      <td>2017-12-07 14:07:00</td>\n",
       "      <td>Stray</td>\n",
       "      <td>Normal</td>\n",
       "      <td>10-15 years</td>\n",
       "      <td>1</td>\n",
       "      <td>BrownSome</td>\n",
       "    </tr>\n",
       "    <tr>\n",
       "      <th>1</th>\n",
       "      <td>1</td>\n",
       "      <td>A047759</td>\n",
       "      <td>2014-04-07 15:12:00</td>\n",
       "      <td>1</td>\n",
       "      <td>Apr 2014</td>\n",
       "      <td>2004-04-02</td>\n",
       "      <td>Transfer</td>\n",
       "      <td>Partner</td>\n",
       "      <td>Dog</td>\n",
       "      <td>Neutered Male</td>\n",
       "      <td>10 years</td>\n",
       "      <td>Dachshund</td>\n",
       "      <td>Tricolor</td>\n",
       "      <td>3657</td>\n",
       "      <td>2014-04-02 15:55:00</td>\n",
       "      <td>Owner Surrender</td>\n",
       "      <td>Normal</td>\n",
       "      <td>10-15 years</td>\n",
       "      <td>4</td>\n",
       "      <td>Tricolor</td>\n",
       "    </tr>\n",
       "    <tr>\n",
       "      <th>2</th>\n",
       "      <td>2</td>\n",
       "      <td>A134067</td>\n",
       "      <td>2013-11-16 11:54:00</td>\n",
       "      <td>1</td>\n",
       "      <td>Nov 2013</td>\n",
       "      <td>1997-10-16</td>\n",
       "      <td>Rto-Adopt</td>\n",
       "      <td>NoSubtype</td>\n",
       "      <td>Dog</td>\n",
       "      <td>Neutered Male</td>\n",
       "      <td>16 years</td>\n",
       "      <td>Shetland Sheepdog</td>\n",
       "      <td>Brown/White</td>\n",
       "      <td>5875</td>\n",
       "      <td>2013-11-16 09:02:00</td>\n",
       "      <td>Public Assist</td>\n",
       "      <td>Injured</td>\n",
       "      <td>more than 15 years</td>\n",
       "      <td>0</td>\n",
       "      <td>BrownSome</td>\n",
       "    </tr>\n",
       "    <tr>\n",
       "      <th>3</th>\n",
       "      <td>3</td>\n",
       "      <td>A141142</td>\n",
       "      <td>2013-11-17 11:40:00</td>\n",
       "      <td>1</td>\n",
       "      <td>Nov 2013</td>\n",
       "      <td>1998-06-01</td>\n",
       "      <td>Rto-Adopt</td>\n",
       "      <td>NoSubtype</td>\n",
       "      <td>Dog</td>\n",
       "      <td>Spayed Female</td>\n",
       "      <td>15 years</td>\n",
       "      <td>Labrador Retriever/Pit Bull</td>\n",
       "      <td>Black/White</td>\n",
       "      <td>5648</td>\n",
       "      <td>2013-11-16 14:46:00</td>\n",
       "      <td>Stray</td>\n",
       "      <td>Aged</td>\n",
       "      <td>more than 15 years</td>\n",
       "      <td>0</td>\n",
       "      <td>BlackGreySome</td>\n",
       "    </tr>\n",
       "    <tr>\n",
       "      <th>4</th>\n",
       "      <td>4</td>\n",
       "      <td>A163459</td>\n",
       "      <td>2014-11-14 19:28:00</td>\n",
       "      <td>1</td>\n",
       "      <td>Nov 2014</td>\n",
       "      <td>1999-10-19</td>\n",
       "      <td>Rto-Adopt</td>\n",
       "      <td>NoSubtype</td>\n",
       "      <td>Dog</td>\n",
       "      <td>Intact Female</td>\n",
       "      <td>15 years</td>\n",
       "      <td>Miniature Schnauzer Mix</td>\n",
       "      <td>Black/Gray</td>\n",
       "      <td>5505</td>\n",
       "      <td>2014-11-14 15:11:00</td>\n",
       "      <td>Stray</td>\n",
       "      <td>Normal</td>\n",
       "      <td>more than 15 years</td>\n",
       "      <td>0</td>\n",
       "      <td>BlackGreySome</td>\n",
       "    </tr>\n",
       "  </tbody>\n",
       "</table>\n",
       "</div>"
      ],
      "text/plain": [
       "   Unnamed: 0 Animal ID             DateTime Name MonthYear Date of Birth  \\\n",
       "0           0   A006100  2017-12-07 00:00:00    1  Dec 2017    2007-07-09   \n",
       "1           1   A047759  2014-04-07 15:12:00    1  Apr 2014    2004-04-02   \n",
       "2           2   A134067  2013-11-16 11:54:00    1  Nov 2013    1997-10-16   \n",
       "3           3   A141142  2013-11-17 11:40:00    1  Nov 2013    1998-06-01   \n",
       "4           4   A163459  2014-11-14 19:28:00    1  Nov 2014    1999-10-19   \n",
       "\n",
       "  Outcome Type Outcome Subtype Animal Type Sex upon Outcome Age upon Outcome  \\\n",
       "0    Rto-Adopt       NoSubtype         Dog    Neutered Male         10 years   \n",
       "1     Transfer         Partner         Dog    Neutered Male         10 years   \n",
       "2    Rto-Adopt       NoSubtype         Dog    Neutered Male         16 years   \n",
       "3    Rto-Adopt       NoSubtype         Dog    Spayed Female         15 years   \n",
       "4    Rto-Adopt       NoSubtype         Dog    Intact Female         15 years   \n",
       "\n",
       "                         Breed         Color  ageInDays          Intake_date  \\\n",
       "0         Spinone Italiano Mix  Yellow/White       3804  2017-12-07 14:07:00   \n",
       "1                    Dachshund      Tricolor       3657  2014-04-02 15:55:00   \n",
       "2            Shetland Sheepdog   Brown/White       5875  2013-11-16 09:02:00   \n",
       "3  Labrador Retriever/Pit Bull   Black/White       5648  2013-11-16 14:46:00   \n",
       "4      Miniature Schnauzer Mix    Black/Gray       5505  2014-11-14 15:11:00   \n",
       "\n",
       "       Intake Type Intake Condition        age_fruction  shelterDays  \\\n",
       "0            Stray           Normal         10-15 years            1   \n",
       "1  Owner Surrender           Normal         10-15 years            4   \n",
       "2    Public Assist          Injured  more than 15 years            0   \n",
       "3            Stray             Aged  more than 15 years            0   \n",
       "4            Stray           Normal  more than 15 years            0   \n",
       "\n",
       "      Less_color  \n",
       "0      BrownSome  \n",
       "1       Tricolor  \n",
       "2      BrownSome  \n",
       "3  BlackGreySome  \n",
       "4  BlackGreySome  "
      ]
     },
     "execution_count": 47,
     "metadata": {},
     "output_type": "execute_result"
    }
   ],
   "source": [
    "df.loc[df['Name'].isin(['NoName']) == False, 'Name'] = 1\n",
    "df.loc[df['Name'].isin(['NoName']) == True, 'Name'] = 0\n",
    "df.head()"
   ]
  },
  {
   "cell_type": "code",
   "execution_count": null,
   "metadata": {
    "id": "JKN_W_oSuUQ9",
    "outputId": "5b7b2f18-b5a7-427f-9bde-dcb434e73512",
    "scrolled": true
   },
   "outputs": [
    {
     "data": {
      "text/plain": [
       "array(['Neutered Male', 'Spayed Female', 'Intact Female', 'Unknown',\n",
       "       'Intact Male', 'Male'], dtype=object)"
      ]
     },
     "metadata": {},
     "output_type": "display_data"
    },
    {
     "data": {
      "text/html": [
       "<div>\n",
       "<style scoped>\n",
       "    .dataframe tbody tr th:only-of-type {\n",
       "        vertical-align: middle;\n",
       "    }\n",
       "\n",
       "    .dataframe tbody tr th {\n",
       "        vertical-align: top;\n",
       "    }\n",
       "\n",
       "    .dataframe thead th {\n",
       "        text-align: right;\n",
       "    }\n",
       "</style>\n",
       "<table border=\"1\" class=\"dataframe\">\n",
       "  <thead>\n",
       "    <tr style=\"text-align: right;\">\n",
       "      <th></th>\n",
       "      <th>Unnamed: 0</th>\n",
       "      <th>Animal ID</th>\n",
       "      <th>DateTime</th>\n",
       "      <th>Name</th>\n",
       "      <th>MonthYear</th>\n",
       "      <th>Date of Birth</th>\n",
       "      <th>Outcome Type</th>\n",
       "      <th>Outcome Subtype</th>\n",
       "      <th>Animal Type</th>\n",
       "      <th>Sex upon Outcome</th>\n",
       "      <th>Age upon Outcome</th>\n",
       "      <th>Breed</th>\n",
       "      <th>Color</th>\n",
       "      <th>ageInDays</th>\n",
       "      <th>Intake_date</th>\n",
       "      <th>Intake Type</th>\n",
       "      <th>Intake Condition</th>\n",
       "      <th>age_fruction</th>\n",
       "      <th>shelterDays</th>\n",
       "      <th>Less_color</th>\n",
       "    </tr>\n",
       "  </thead>\n",
       "  <tbody>\n",
       "    <tr>\n",
       "      <th>0</th>\n",
       "      <td>0</td>\n",
       "      <td>A006100</td>\n",
       "      <td>2017-12-07 00:00:00</td>\n",
       "      <td>1</td>\n",
       "      <td>Dec 2017</td>\n",
       "      <td>2007-07-09</td>\n",
       "      <td>Rto-Adopt</td>\n",
       "      <td>NoSubtype</td>\n",
       "      <td>Dog</td>\n",
       "      <td>1</td>\n",
       "      <td>10 years</td>\n",
       "      <td>Spinone Italiano Mix</td>\n",
       "      <td>Yellow/White</td>\n",
       "      <td>3804</td>\n",
       "      <td>2017-12-07 14:07:00</td>\n",
       "      <td>Stray</td>\n",
       "      <td>Normal</td>\n",
       "      <td>10-15 years</td>\n",
       "      <td>1</td>\n",
       "      <td>BrownSome</td>\n",
       "    </tr>\n",
       "    <tr>\n",
       "      <th>1</th>\n",
       "      <td>1</td>\n",
       "      <td>A047759</td>\n",
       "      <td>2014-04-07 15:12:00</td>\n",
       "      <td>1</td>\n",
       "      <td>Apr 2014</td>\n",
       "      <td>2004-04-02</td>\n",
       "      <td>Transfer</td>\n",
       "      <td>Partner</td>\n",
       "      <td>Dog</td>\n",
       "      <td>1</td>\n",
       "      <td>10 years</td>\n",
       "      <td>Dachshund</td>\n",
       "      <td>Tricolor</td>\n",
       "      <td>3657</td>\n",
       "      <td>2014-04-02 15:55:00</td>\n",
       "      <td>Owner Surrender</td>\n",
       "      <td>Normal</td>\n",
       "      <td>10-15 years</td>\n",
       "      <td>4</td>\n",
       "      <td>Tricolor</td>\n",
       "    </tr>\n",
       "    <tr>\n",
       "      <th>2</th>\n",
       "      <td>2</td>\n",
       "      <td>A134067</td>\n",
       "      <td>2013-11-16 11:54:00</td>\n",
       "      <td>1</td>\n",
       "      <td>Nov 2013</td>\n",
       "      <td>1997-10-16</td>\n",
       "      <td>Rto-Adopt</td>\n",
       "      <td>NoSubtype</td>\n",
       "      <td>Dog</td>\n",
       "      <td>1</td>\n",
       "      <td>16 years</td>\n",
       "      <td>Shetland Sheepdog</td>\n",
       "      <td>Brown/White</td>\n",
       "      <td>5875</td>\n",
       "      <td>2013-11-16 09:02:00</td>\n",
       "      <td>Public Assist</td>\n",
       "      <td>Injured</td>\n",
       "      <td>more than 15 years</td>\n",
       "      <td>0</td>\n",
       "      <td>BrownSome</td>\n",
       "    </tr>\n",
       "    <tr>\n",
       "      <th>3</th>\n",
       "      <td>3</td>\n",
       "      <td>A141142</td>\n",
       "      <td>2013-11-17 11:40:00</td>\n",
       "      <td>1</td>\n",
       "      <td>Nov 2013</td>\n",
       "      <td>1998-06-01</td>\n",
       "      <td>Rto-Adopt</td>\n",
       "      <td>NoSubtype</td>\n",
       "      <td>Dog</td>\n",
       "      <td>2</td>\n",
       "      <td>15 years</td>\n",
       "      <td>Labrador Retriever/Pit Bull</td>\n",
       "      <td>Black/White</td>\n",
       "      <td>5648</td>\n",
       "      <td>2013-11-16 14:46:00</td>\n",
       "      <td>Stray</td>\n",
       "      <td>Aged</td>\n",
       "      <td>more than 15 years</td>\n",
       "      <td>0</td>\n",
       "      <td>BlackGreySome</td>\n",
       "    </tr>\n",
       "    <tr>\n",
       "      <th>4</th>\n",
       "      <td>4</td>\n",
       "      <td>A163459</td>\n",
       "      <td>2014-11-14 19:28:00</td>\n",
       "      <td>1</td>\n",
       "      <td>Nov 2014</td>\n",
       "      <td>1999-10-19</td>\n",
       "      <td>Rto-Adopt</td>\n",
       "      <td>NoSubtype</td>\n",
       "      <td>Dog</td>\n",
       "      <td>2</td>\n",
       "      <td>15 years</td>\n",
       "      <td>Miniature Schnauzer Mix</td>\n",
       "      <td>Black/Gray</td>\n",
       "      <td>5505</td>\n",
       "      <td>2014-11-14 15:11:00</td>\n",
       "      <td>Stray</td>\n",
       "      <td>Normal</td>\n",
       "      <td>more than 15 years</td>\n",
       "      <td>0</td>\n",
       "      <td>BlackGreySome</td>\n",
       "    </tr>\n",
       "  </tbody>\n",
       "</table>\n",
       "</div>"
      ],
      "text/plain": [
       "   Unnamed: 0 Animal ID             DateTime Name MonthYear Date of Birth  \\\n",
       "0           0   A006100  2017-12-07 00:00:00    1  Dec 2017    2007-07-09   \n",
       "1           1   A047759  2014-04-07 15:12:00    1  Apr 2014    2004-04-02   \n",
       "2           2   A134067  2013-11-16 11:54:00    1  Nov 2013    1997-10-16   \n",
       "3           3   A141142  2013-11-17 11:40:00    1  Nov 2013    1998-06-01   \n",
       "4           4   A163459  2014-11-14 19:28:00    1  Nov 2014    1999-10-19   \n",
       "\n",
       "  Outcome Type Outcome Subtype Animal Type Sex upon Outcome Age upon Outcome  \\\n",
       "0    Rto-Adopt       NoSubtype         Dog                1         10 years   \n",
       "1     Transfer         Partner         Dog                1         10 years   \n",
       "2    Rto-Adopt       NoSubtype         Dog                1         16 years   \n",
       "3    Rto-Adopt       NoSubtype         Dog                2         15 years   \n",
       "4    Rto-Adopt       NoSubtype         Dog                2         15 years   \n",
       "\n",
       "                         Breed         Color  ageInDays          Intake_date  \\\n",
       "0         Spinone Italiano Mix  Yellow/White       3804  2017-12-07 14:07:00   \n",
       "1                    Dachshund      Tricolor       3657  2014-04-02 15:55:00   \n",
       "2            Shetland Sheepdog   Brown/White       5875  2013-11-16 09:02:00   \n",
       "3  Labrador Retriever/Pit Bull   Black/White       5648  2013-11-16 14:46:00   \n",
       "4      Miniature Schnauzer Mix    Black/Gray       5505  2014-11-14 15:11:00   \n",
       "\n",
       "       Intake Type Intake Condition        age_fruction  shelterDays  \\\n",
       "0            Stray           Normal         10-15 years            1   \n",
       "1  Owner Surrender           Normal         10-15 years            4   \n",
       "2    Public Assist          Injured  more than 15 years            0   \n",
       "3            Stray             Aged  more than 15 years            0   \n",
       "4            Stray           Normal  more than 15 years            0   \n",
       "\n",
       "      Less_color  \n",
       "0      BrownSome  \n",
       "1       Tricolor  \n",
       "2      BrownSome  \n",
       "3  BlackGreySome  \n",
       "4  BlackGreySome  "
      ]
     },
     "execution_count": 48,
     "metadata": {},
     "output_type": "execute_result"
    }
   ],
   "source": [
    "display(df['Sex upon Outcome'].unique())\n",
    "df.loc[df['Sex upon Outcome'].isin(['Spayed Female', 'Intact Female']) == True, 'Sex upon Outcome'] = 2\n",
    "df.loc[df['Sex upon Outcome'].isin(['Neutered Male', 'Intact Male', 'Male']) == True, 'Sex upon Outcome'] = 1\n",
    "df.loc[df['Sex upon Outcome'] == 'Unknown', 'Sex upon Outcome'] = 0\n",
    "df.head()"
   ]
  },
  {
   "cell_type": "code",
   "execution_count": null,
   "metadata": {
    "id": "mTBUMeEVuUQ9"
   },
   "outputs": [],
   "source": [
    "#what if I categorize days in shelter? \n",
    "df.loc[df['shelterDays'] <=5, 'shelterDays'] = 1\n",
    "df.loc[(df['shelterDays'] > 5) & (df['shelterDays'] <= 10), 'shelterDays'] = 2\n",
    "df.loc[(df['shelterDays'] > 10) & (df['shelterDays'] <= 15), 'shelterDays'] = 3\n",
    "df.loc[(df['shelterDays'] > 15) & (df['shelterDays'] <= 50), 'shelterDays'] = 4\n",
    "df.loc[df['shelterDays'] > 50, 'shelterDays'] = 5"
   ]
  },
  {
   "cell_type": "code",
   "execution_count": null,
   "metadata": {
    "id": "jvVB_dVBuUQ9",
    "outputId": "a96b0ad7-a36a-42a4-ed6e-b6b044d3f717"
   },
   "outputs": [
    {
     "data": {
      "text/plain": [
       "array(['10-15 years', 'more than 15 years', '5-10 years', '2-5 years',\n",
       "       '1-2 years', '6-12 months', '1-6 months', 'up to month'],\n",
       "      dtype=object)"
      ]
     },
     "execution_count": 50,
     "metadata": {},
     "output_type": "execute_result"
    }
   ],
   "source": [
    "df.age_fruction.unique()"
   ]
  },
  {
   "cell_type": "code",
   "execution_count": null,
   "metadata": {
    "id": "z5Q_JCDduUQ-"
   },
   "outputs": [],
   "source": [
    "agesW = list(df.age_fruction.unique())\n",
    "ages = [7, 8, 6, 5, 4, 3, 2, 1]\n",
    "for w, n in zip(agesW, ages): \n",
    "    df.loc[df['age_fruction'] == w, 'age_fruction'] = n"
   ]
  },
  {
   "cell_type": "code",
   "execution_count": null,
   "metadata": {
    "id": "4qVcrTUHuUQ-",
    "outputId": "c5744b20-5ffa-4e61-e2ff-7f194c4d325c",
    "scrolled": true
   },
   "outputs": [
    {
     "data": {
      "text/plain": [
       "Index(['Unnamed: 0', 'Animal ID', 'DateTime', 'Name', 'MonthYear',\n",
       "       'Date of Birth', 'Outcome Type', 'Outcome Subtype', 'Animal Type',\n",
       "       'Sex upon Outcome', 'Age upon Outcome', 'Breed', 'Color', 'ageInDays',\n",
       "       'Intake_date', 'Intake Type', 'Intake Condition', 'age_fruction',\n",
       "       'shelterDays', 'Less_color'],\n",
       "      dtype='object')"
      ]
     },
     "execution_count": 52,
     "metadata": {},
     "output_type": "execute_result"
    }
   ],
   "source": [
    "df.columns"
   ]
  },
  {
   "cell_type": "code",
   "execution_count": null,
   "metadata": {
    "id": "AE7X6zMxuUQ-",
    "outputId": "065430f0-5e4c-4c57-f96a-5182d0073f56"
   },
   "outputs": [
    {
     "data": {
      "text/html": [
       "<div>\n",
       "<style scoped>\n",
       "    .dataframe tbody tr th:only-of-type {\n",
       "        vertical-align: middle;\n",
       "    }\n",
       "\n",
       "    .dataframe tbody tr th {\n",
       "        vertical-align: top;\n",
       "    }\n",
       "\n",
       "    .dataframe thead th {\n",
       "        text-align: right;\n",
       "    }\n",
       "</style>\n",
       "<table border=\"1\" class=\"dataframe\">\n",
       "  <thead>\n",
       "    <tr style=\"text-align: right;\">\n",
       "      <th></th>\n",
       "      <th>Name</th>\n",
       "      <th>Intake Type</th>\n",
       "      <th>Outcome Type</th>\n",
       "      <th>Animal Type</th>\n",
       "      <th>Sex upon Outcome</th>\n",
       "      <th>age_fruction</th>\n",
       "      <th>shelterDays</th>\n",
       "      <th>Less_color</th>\n",
       "    </tr>\n",
       "  </thead>\n",
       "  <tbody>\n",
       "    <tr>\n",
       "      <th>0</th>\n",
       "      <td>1</td>\n",
       "      <td>Stray</td>\n",
       "      <td>Rto-Adopt</td>\n",
       "      <td>Dog</td>\n",
       "      <td>1</td>\n",
       "      <td>7</td>\n",
       "      <td>1</td>\n",
       "      <td>BrownSome</td>\n",
       "    </tr>\n",
       "    <tr>\n",
       "      <th>1</th>\n",
       "      <td>1</td>\n",
       "      <td>Owner Surrender</td>\n",
       "      <td>Transfer</td>\n",
       "      <td>Dog</td>\n",
       "      <td>1</td>\n",
       "      <td>7</td>\n",
       "      <td>1</td>\n",
       "      <td>Tricolor</td>\n",
       "    </tr>\n",
       "    <tr>\n",
       "      <th>2</th>\n",
       "      <td>1</td>\n",
       "      <td>Public Assist</td>\n",
       "      <td>Rto-Adopt</td>\n",
       "      <td>Dog</td>\n",
       "      <td>1</td>\n",
       "      <td>8</td>\n",
       "      <td>1</td>\n",
       "      <td>BrownSome</td>\n",
       "    </tr>\n",
       "    <tr>\n",
       "      <th>3</th>\n",
       "      <td>1</td>\n",
       "      <td>Stray</td>\n",
       "      <td>Rto-Adopt</td>\n",
       "      <td>Dog</td>\n",
       "      <td>2</td>\n",
       "      <td>8</td>\n",
       "      <td>1</td>\n",
       "      <td>BlackGreySome</td>\n",
       "    </tr>\n",
       "    <tr>\n",
       "      <th>4</th>\n",
       "      <td>1</td>\n",
       "      <td>Stray</td>\n",
       "      <td>Rto-Adopt</td>\n",
       "      <td>Dog</td>\n",
       "      <td>2</td>\n",
       "      <td>8</td>\n",
       "      <td>1</td>\n",
       "      <td>BlackGreySome</td>\n",
       "    </tr>\n",
       "  </tbody>\n",
       "</table>\n",
       "</div>"
      ],
      "text/plain": [
       "  Name      Intake Type Outcome Type Animal Type Sex upon Outcome  \\\n",
       "0    1            Stray    Rto-Adopt         Dog                1   \n",
       "1    1  Owner Surrender     Transfer         Dog                1   \n",
       "2    1    Public Assist    Rto-Adopt         Dog                1   \n",
       "3    1            Stray    Rto-Adopt         Dog                2   \n",
       "4    1            Stray    Rto-Adopt         Dog                2   \n",
       "\n",
       "  age_fruction  shelterDays     Less_color  \n",
       "0            7            1      BrownSome  \n",
       "1            7            1       Tricolor  \n",
       "2            8            1      BrownSome  \n",
       "3            8            1  BlackGreySome  \n",
       "4            8            1  BlackGreySome  "
      ]
     },
     "execution_count": 53,
     "metadata": {},
     "output_type": "execute_result"
    }
   ],
   "source": [
    "dfN = df[['Name', 'Intake Type', 'Outcome Type', 'Animal Type', 'Sex upon Outcome', 'age_fruction', 'shelterDays','Less_color']]\n",
    "dfN.head()"
   ]
  },
  {
   "cell_type": "code",
   "execution_count": null,
   "metadata": {
    "id": "z1jNJ2jpuUQ-",
    "outputId": "0deb27e1-167a-481a-de4d-55df14ae6d90",
    "scrolled": true
   },
   "outputs": [
    {
     "name": "stderr",
     "output_type": "stream",
     "text": [
      "C:\\Users\\ns.blinnikova\\Anaconda3\\lib\\site-packages\\pandas\\core\\frame.py:4163: SettingWithCopyWarning: \n",
      "A value is trying to be set on a copy of a slice from a DataFrame\n",
      "\n",
      "See the caveats in the documentation: https://pandas.pydata.org/pandas-docs/stable/user_guide/indexing.html#returning-a-view-versus-a-copy\n",
      "  return super().drop(\n"
     ]
    }
   ],
   "source": [
    "#I droped the data of animals being euthanasied under request as it is obvious correlation\n",
    "index_euthanasia = dfN.loc[(dfN['Intake Type'] == 'Euthanasia Request') & (dfN['Outcome Type'] == 'Euthanasia')].index\n",
    "dfN.drop(index_euthanasia, inplace=True)"
   ]
  },
  {
   "cell_type": "code",
   "execution_count": null,
   "metadata": {
    "id": "OdHnalF_uUQ_"
   },
   "outputs": [],
   "source": []
  },
  {
   "cell_type": "code",
   "execution_count": null,
   "metadata": {
    "id": "YywdHBIKuUQ_",
    "outputId": "90534a7a-e61b-4163-a4b4-70a2c5fe524b",
    "scrolled": true
   },
   "outputs": [
    {
     "name": "stderr",
     "output_type": "stream",
     "text": [
      "C:\\Users\\ns.blinnikova\\Anaconda3\\lib\\site-packages\\pandas\\core\\indexing.py:1765: SettingWithCopyWarning: \n",
      "A value is trying to be set on a copy of a slice from a DataFrame.\n",
      "Try using .loc[row_indexer,col_indexer] = value instead\n",
      "\n",
      "See the caveats in the documentation: https://pandas.pydata.org/pandas-docs/stable/user_guide/indexing.html#returning-a-view-versus-a-copy\n",
      "  isetter(loc, value)\n"
     ]
    },
    {
     "data": {
      "text/html": [
       "<div>\n",
       "<style scoped>\n",
       "    .dataframe tbody tr th:only-of-type {\n",
       "        vertical-align: middle;\n",
       "    }\n",
       "\n",
       "    .dataframe tbody tr th {\n",
       "        vertical-align: top;\n",
       "    }\n",
       "\n",
       "    .dataframe thead th {\n",
       "        text-align: right;\n",
       "    }\n",
       "</style>\n",
       "<table border=\"1\" class=\"dataframe\">\n",
       "  <thead>\n",
       "    <tr style=\"text-align: right;\">\n",
       "      <th></th>\n",
       "      <th>Name</th>\n",
       "      <th>Intake Type</th>\n",
       "      <th>Outcome Type</th>\n",
       "      <th>Animal Type</th>\n",
       "      <th>Sex upon Outcome</th>\n",
       "      <th>age_fruction</th>\n",
       "      <th>shelterDays</th>\n",
       "      <th>Less_color</th>\n",
       "    </tr>\n",
       "  </thead>\n",
       "  <tbody>\n",
       "    <tr>\n",
       "      <th>0</th>\n",
       "      <td>1</td>\n",
       "      <td>1</td>\n",
       "      <td>Rto-Adopt</td>\n",
       "      <td>Dog</td>\n",
       "      <td>1</td>\n",
       "      <td>7</td>\n",
       "      <td>1</td>\n",
       "      <td>BrownSome</td>\n",
       "    </tr>\n",
       "    <tr>\n",
       "      <th>1</th>\n",
       "      <td>1</td>\n",
       "      <td>2</td>\n",
       "      <td>Transfer</td>\n",
       "      <td>Dog</td>\n",
       "      <td>1</td>\n",
       "      <td>7</td>\n",
       "      <td>1</td>\n",
       "      <td>Tricolor</td>\n",
       "    </tr>\n",
       "    <tr>\n",
       "      <th>2</th>\n",
       "      <td>1</td>\n",
       "      <td>3</td>\n",
       "      <td>Rto-Adopt</td>\n",
       "      <td>Dog</td>\n",
       "      <td>1</td>\n",
       "      <td>8</td>\n",
       "      <td>1</td>\n",
       "      <td>BrownSome</td>\n",
       "    </tr>\n",
       "    <tr>\n",
       "      <th>3</th>\n",
       "      <td>1</td>\n",
       "      <td>1</td>\n",
       "      <td>Rto-Adopt</td>\n",
       "      <td>Dog</td>\n",
       "      <td>2</td>\n",
       "      <td>8</td>\n",
       "      <td>1</td>\n",
       "      <td>BlackGreySome</td>\n",
       "    </tr>\n",
       "    <tr>\n",
       "      <th>4</th>\n",
       "      <td>1</td>\n",
       "      <td>1</td>\n",
       "      <td>Rto-Adopt</td>\n",
       "      <td>Dog</td>\n",
       "      <td>2</td>\n",
       "      <td>8</td>\n",
       "      <td>1</td>\n",
       "      <td>BlackGreySome</td>\n",
       "    </tr>\n",
       "    <tr>\n",
       "      <th>5</th>\n",
       "      <td>1</td>\n",
       "      <td>1</td>\n",
       "      <td>Rto-Adopt</td>\n",
       "      <td>Dog</td>\n",
       "      <td>1</td>\n",
       "      <td>8</td>\n",
       "      <td>1</td>\n",
       "      <td>BrownSome</td>\n",
       "    </tr>\n",
       "    <tr>\n",
       "      <th>6</th>\n",
       "      <td>0</td>\n",
       "      <td>1</td>\n",
       "      <td>Missing</td>\n",
       "      <td>Bird</td>\n",
       "      <td>0</td>\n",
       "      <td>8</td>\n",
       "      <td>1</td>\n",
       "      <td>WhiteSome</td>\n",
       "    </tr>\n",
       "    <tr>\n",
       "      <th>7</th>\n",
       "      <td>1</td>\n",
       "      <td>3</td>\n",
       "      <td>Rto-Adopt</td>\n",
       "      <td>Dog</td>\n",
       "      <td>1</td>\n",
       "      <td>8</td>\n",
       "      <td>2</td>\n",
       "      <td>BlackGreySome</td>\n",
       "    </tr>\n",
       "    <tr>\n",
       "      <th>8</th>\n",
       "      <td>1</td>\n",
       "      <td>1</td>\n",
       "      <td>Rto-Adopt</td>\n",
       "      <td>Dog</td>\n",
       "      <td>2</td>\n",
       "      <td>8</td>\n",
       "      <td>1</td>\n",
       "      <td>BrownSome</td>\n",
       "    </tr>\n",
       "    <tr>\n",
       "      <th>9</th>\n",
       "      <td>1</td>\n",
       "      <td>1</td>\n",
       "      <td>Rto-Adopt</td>\n",
       "      <td>Cat</td>\n",
       "      <td>2</td>\n",
       "      <td>8</td>\n",
       "      <td>1</td>\n",
       "      <td>BlackGreySome</td>\n",
       "    </tr>\n",
       "  </tbody>\n",
       "</table>\n",
       "</div>"
      ],
      "text/plain": [
       "  Name Intake Type Outcome Type Animal Type Sex upon Outcome age_fruction  \\\n",
       "0    1           1    Rto-Adopt         Dog                1            7   \n",
       "1    1           2     Transfer         Dog                1            7   \n",
       "2    1           3    Rto-Adopt         Dog                1            8   \n",
       "3    1           1    Rto-Adopt         Dog                2            8   \n",
       "4    1           1    Rto-Adopt         Dog                2            8   \n",
       "5    1           1    Rto-Adopt         Dog                1            8   \n",
       "6    0           1      Missing        Bird                0            8   \n",
       "7    1           3    Rto-Adopt         Dog                1            8   \n",
       "8    1           1    Rto-Adopt         Dog                2            8   \n",
       "9    1           1    Rto-Adopt         Cat                2            8   \n",
       "\n",
       "   shelterDays     Less_color  \n",
       "0            1      BrownSome  \n",
       "1            1       Tricolor  \n",
       "2            1      BrownSome  \n",
       "3            1  BlackGreySome  \n",
       "4            1  BlackGreySome  \n",
       "5            1      BrownSome  \n",
       "6            1      WhiteSome  \n",
       "7            2  BlackGreySome  \n",
       "8            1      BrownSome  \n",
       "9            1  BlackGreySome  "
      ]
     },
     "execution_count": 55,
     "metadata": {},
     "output_type": "execute_result"
    }
   ],
   "source": [
    "intakesLst = list(dfN['Intake Type'].unique())\n",
    "intakes_codes = [1, 2, 3, 4, 5, 6]\n",
    "for intake_type, code in zip(intakesLst, intakes_codes): \n",
    "    dfN.loc[dfN['Intake Type'] == intake_type, 'Intake Type'] = code \n",
    "dfN.head(10)"
   ]
  },
  {
   "cell_type": "code",
   "execution_count": null,
   "metadata": {
    "id": "l907ysVZuUQ_",
    "outputId": "e456f480-68d2-4d6a-9d17-0fc105146033"
   },
   "outputs": [
    {
     "name": "stderr",
     "output_type": "stream",
     "text": [
      "C:\\Users\\ns.blinnikova\\Anaconda3\\lib\\site-packages\\pandas\\core\\indexing.py:1765: SettingWithCopyWarning: \n",
      "A value is trying to be set on a copy of a slice from a DataFrame.\n",
      "Try using .loc[row_indexer,col_indexer] = value instead\n",
      "\n",
      "See the caveats in the documentation: https://pandas.pydata.org/pandas-docs/stable/user_guide/indexing.html#returning-a-view-versus-a-copy\n",
      "  isetter(loc, value)\n"
     ]
    },
    {
     "data": {
      "text/html": [
       "<div>\n",
       "<style scoped>\n",
       "    .dataframe tbody tr th:only-of-type {\n",
       "        vertical-align: middle;\n",
       "    }\n",
       "\n",
       "    .dataframe tbody tr th {\n",
       "        vertical-align: top;\n",
       "    }\n",
       "\n",
       "    .dataframe thead th {\n",
       "        text-align: right;\n",
       "    }\n",
       "</style>\n",
       "<table border=\"1\" class=\"dataframe\">\n",
       "  <thead>\n",
       "    <tr style=\"text-align: right;\">\n",
       "      <th></th>\n",
       "      <th>Name</th>\n",
       "      <th>Intake Type</th>\n",
       "      <th>Outcome Type</th>\n",
       "      <th>Animal Type</th>\n",
       "      <th>Sex upon Outcome</th>\n",
       "      <th>age_fruction</th>\n",
       "      <th>shelterDays</th>\n",
       "      <th>Less_color</th>\n",
       "    </tr>\n",
       "  </thead>\n",
       "  <tbody>\n",
       "    <tr>\n",
       "      <th>0</th>\n",
       "      <td>1</td>\n",
       "      <td>1</td>\n",
       "      <td>1</td>\n",
       "      <td>Dog</td>\n",
       "      <td>1</td>\n",
       "      <td>7</td>\n",
       "      <td>1</td>\n",
       "      <td>BrownSome</td>\n",
       "    </tr>\n",
       "    <tr>\n",
       "      <th>1</th>\n",
       "      <td>1</td>\n",
       "      <td>2</td>\n",
       "      <td>2</td>\n",
       "      <td>Dog</td>\n",
       "      <td>1</td>\n",
       "      <td>7</td>\n",
       "      <td>1</td>\n",
       "      <td>Tricolor</td>\n",
       "    </tr>\n",
       "    <tr>\n",
       "      <th>2</th>\n",
       "      <td>1</td>\n",
       "      <td>3</td>\n",
       "      <td>1</td>\n",
       "      <td>Dog</td>\n",
       "      <td>1</td>\n",
       "      <td>8</td>\n",
       "      <td>1</td>\n",
       "      <td>BrownSome</td>\n",
       "    </tr>\n",
       "    <tr>\n",
       "      <th>3</th>\n",
       "      <td>1</td>\n",
       "      <td>1</td>\n",
       "      <td>1</td>\n",
       "      <td>Dog</td>\n",
       "      <td>2</td>\n",
       "      <td>8</td>\n",
       "      <td>1</td>\n",
       "      <td>BlackGreySome</td>\n",
       "    </tr>\n",
       "    <tr>\n",
       "      <th>4</th>\n",
       "      <td>1</td>\n",
       "      <td>1</td>\n",
       "      <td>1</td>\n",
       "      <td>Dog</td>\n",
       "      <td>2</td>\n",
       "      <td>8</td>\n",
       "      <td>1</td>\n",
       "      <td>BlackGreySome</td>\n",
       "    </tr>\n",
       "    <tr>\n",
       "      <th>5</th>\n",
       "      <td>1</td>\n",
       "      <td>1</td>\n",
       "      <td>1</td>\n",
       "      <td>Dog</td>\n",
       "      <td>1</td>\n",
       "      <td>8</td>\n",
       "      <td>1</td>\n",
       "      <td>BrownSome</td>\n",
       "    </tr>\n",
       "    <tr>\n",
       "      <th>6</th>\n",
       "      <td>0</td>\n",
       "      <td>1</td>\n",
       "      <td>3</td>\n",
       "      <td>Bird</td>\n",
       "      <td>0</td>\n",
       "      <td>8</td>\n",
       "      <td>1</td>\n",
       "      <td>WhiteSome</td>\n",
       "    </tr>\n",
       "    <tr>\n",
       "      <th>7</th>\n",
       "      <td>1</td>\n",
       "      <td>3</td>\n",
       "      <td>1</td>\n",
       "      <td>Dog</td>\n",
       "      <td>1</td>\n",
       "      <td>8</td>\n",
       "      <td>2</td>\n",
       "      <td>BlackGreySome</td>\n",
       "    </tr>\n",
       "    <tr>\n",
       "      <th>8</th>\n",
       "      <td>1</td>\n",
       "      <td>1</td>\n",
       "      <td>1</td>\n",
       "      <td>Dog</td>\n",
       "      <td>2</td>\n",
       "      <td>8</td>\n",
       "      <td>1</td>\n",
       "      <td>BrownSome</td>\n",
       "    </tr>\n",
       "    <tr>\n",
       "      <th>9</th>\n",
       "      <td>1</td>\n",
       "      <td>1</td>\n",
       "      <td>1</td>\n",
       "      <td>Cat</td>\n",
       "      <td>2</td>\n",
       "      <td>8</td>\n",
       "      <td>1</td>\n",
       "      <td>BlackGreySome</td>\n",
       "    </tr>\n",
       "  </tbody>\n",
       "</table>\n",
       "</div>"
      ],
      "text/plain": [
       "  Name Intake Type Outcome Type Animal Type Sex upon Outcome age_fruction  \\\n",
       "0    1           1            1         Dog                1            7   \n",
       "1    1           2            2         Dog                1            7   \n",
       "2    1           3            1         Dog                1            8   \n",
       "3    1           1            1         Dog                2            8   \n",
       "4    1           1            1         Dog                2            8   \n",
       "5    1           1            1         Dog                1            8   \n",
       "6    0           1            3        Bird                0            8   \n",
       "7    1           3            1         Dog                1            8   \n",
       "8    1           1            1         Dog                2            8   \n",
       "9    1           1            1         Cat                2            8   \n",
       "\n",
       "   shelterDays     Less_color  \n",
       "0            1      BrownSome  \n",
       "1            1       Tricolor  \n",
       "2            1      BrownSome  \n",
       "3            1  BlackGreySome  \n",
       "4            1  BlackGreySome  \n",
       "5            1      BrownSome  \n",
       "6            1      WhiteSome  \n",
       "7            2  BlackGreySome  \n",
       "8            1      BrownSome  \n",
       "9            1  BlackGreySome  "
      ]
     },
     "execution_count": 56,
     "metadata": {},
     "output_type": "execute_result"
    }
   ],
   "source": [
    "outakeLst = list(dfN['Outcome Type'].unique())\n",
    "out_codes = list(range(1, len(outakeLst)+1, 1))\n",
    "for intake_type, code in zip(outakeLst, out_codes): \n",
    "    dfN.loc[dfN['Outcome Type'] == intake_type, 'Outcome Type'] = code \n",
    "dfN.head(10)"
   ]
  },
  {
   "cell_type": "code",
   "execution_count": null,
   "metadata": {
    "id": "GtHR1OgHuUQ_",
    "outputId": "56dc5c78-8ea8-421c-f927-56c5c3635b58"
   },
   "outputs": [
    {
     "name": "stderr",
     "output_type": "stream",
     "text": [
      "C:\\Users\\ns.blinnikova\\Anaconda3\\lib\\site-packages\\pandas\\core\\indexing.py:1765: SettingWithCopyWarning: \n",
      "A value is trying to be set on a copy of a slice from a DataFrame.\n",
      "Try using .loc[row_indexer,col_indexer] = value instead\n",
      "\n",
      "See the caveats in the documentation: https://pandas.pydata.org/pandas-docs/stable/user_guide/indexing.html#returning-a-view-versus-a-copy\n",
      "  isetter(loc, value)\n"
     ]
    },
    {
     "data": {
      "text/html": [
       "<div>\n",
       "<style scoped>\n",
       "    .dataframe tbody tr th:only-of-type {\n",
       "        vertical-align: middle;\n",
       "    }\n",
       "\n",
       "    .dataframe tbody tr th {\n",
       "        vertical-align: top;\n",
       "    }\n",
       "\n",
       "    .dataframe thead th {\n",
       "        text-align: right;\n",
       "    }\n",
       "</style>\n",
       "<table border=\"1\" class=\"dataframe\">\n",
       "  <thead>\n",
       "    <tr style=\"text-align: right;\">\n",
       "      <th></th>\n",
       "      <th>Name</th>\n",
       "      <th>Intake Type</th>\n",
       "      <th>Outcome Type</th>\n",
       "      <th>Animal Type</th>\n",
       "      <th>Sex upon Outcome</th>\n",
       "      <th>age_fruction</th>\n",
       "      <th>shelterDays</th>\n",
       "      <th>Less_color</th>\n",
       "    </tr>\n",
       "  </thead>\n",
       "  <tbody>\n",
       "    <tr>\n",
       "      <th>0</th>\n",
       "      <td>1</td>\n",
       "      <td>1</td>\n",
       "      <td>1</td>\n",
       "      <td>Dog</td>\n",
       "      <td>1</td>\n",
       "      <td>7</td>\n",
       "      <td>1</td>\n",
       "      <td>1</td>\n",
       "    </tr>\n",
       "    <tr>\n",
       "      <th>1</th>\n",
       "      <td>1</td>\n",
       "      <td>2</td>\n",
       "      <td>2</td>\n",
       "      <td>Dog</td>\n",
       "      <td>1</td>\n",
       "      <td>7</td>\n",
       "      <td>1</td>\n",
       "      <td>2</td>\n",
       "    </tr>\n",
       "    <tr>\n",
       "      <th>2</th>\n",
       "      <td>1</td>\n",
       "      <td>3</td>\n",
       "      <td>1</td>\n",
       "      <td>Dog</td>\n",
       "      <td>1</td>\n",
       "      <td>8</td>\n",
       "      <td>1</td>\n",
       "      <td>1</td>\n",
       "    </tr>\n",
       "    <tr>\n",
       "      <th>3</th>\n",
       "      <td>1</td>\n",
       "      <td>1</td>\n",
       "      <td>1</td>\n",
       "      <td>Dog</td>\n",
       "      <td>2</td>\n",
       "      <td>8</td>\n",
       "      <td>1</td>\n",
       "      <td>3</td>\n",
       "    </tr>\n",
       "    <tr>\n",
       "      <th>4</th>\n",
       "      <td>1</td>\n",
       "      <td>1</td>\n",
       "      <td>1</td>\n",
       "      <td>Dog</td>\n",
       "      <td>2</td>\n",
       "      <td>8</td>\n",
       "      <td>1</td>\n",
       "      <td>3</td>\n",
       "    </tr>\n",
       "  </tbody>\n",
       "</table>\n",
       "</div>"
      ],
      "text/plain": [
       "  Name Intake Type Outcome Type Animal Type Sex upon Outcome age_fruction  \\\n",
       "0    1           1            1         Dog                1            7   \n",
       "1    1           2            2         Dog                1            7   \n",
       "2    1           3            1         Dog                1            8   \n",
       "3    1           1            1         Dog                2            8   \n",
       "4    1           1            1         Dog                2            8   \n",
       "\n",
       "   shelterDays Less_color  \n",
       "0            1          1  \n",
       "1            1          2  \n",
       "2            1          1  \n",
       "3            1          3  \n",
       "4            1          3  "
      ]
     },
     "execution_count": 57,
     "metadata": {},
     "output_type": "execute_result"
    }
   ],
   "source": [
    "colorLst = list(dfN['Less_color'].unique())\n",
    "color_codes = list(range(1, len(colorLst)+1, 1))\n",
    "for intake_type, code in zip(colorLst, color_codes): \n",
    "    dfN.loc[dfN['Less_color'] == intake_type, 'Less_color'] = code \n",
    "dfN.head(5)"
   ]
  },
  {
   "cell_type": "code",
   "execution_count": null,
   "metadata": {
    "id": "AQqauuwyuUQ_",
    "outputId": "af88f187-4d44-408c-80e0-bbdca3beb6b5",
    "scrolled": true
   },
   "outputs": [
    {
     "name": "stderr",
     "output_type": "stream",
     "text": [
      "C:\\Users\\ns.blinnikova\\Anaconda3\\lib\\site-packages\\pandas\\core\\indexing.py:1765: SettingWithCopyWarning: \n",
      "A value is trying to be set on a copy of a slice from a DataFrame.\n",
      "Try using .loc[row_indexer,col_indexer] = value instead\n",
      "\n",
      "See the caveats in the documentation: https://pandas.pydata.org/pandas-docs/stable/user_guide/indexing.html#returning-a-view-versus-a-copy\n",
      "  isetter(loc, value)\n"
     ]
    },
    {
     "data": {
      "text/html": [
       "<div>\n",
       "<style scoped>\n",
       "    .dataframe tbody tr th:only-of-type {\n",
       "        vertical-align: middle;\n",
       "    }\n",
       "\n",
       "    .dataframe tbody tr th {\n",
       "        vertical-align: top;\n",
       "    }\n",
       "\n",
       "    .dataframe thead th {\n",
       "        text-align: right;\n",
       "    }\n",
       "</style>\n",
       "<table border=\"1\" class=\"dataframe\">\n",
       "  <thead>\n",
       "    <tr style=\"text-align: right;\">\n",
       "      <th></th>\n",
       "      <th>Name</th>\n",
       "      <th>Intake Type</th>\n",
       "      <th>Outcome Type</th>\n",
       "      <th>Animal Type</th>\n",
       "      <th>Sex upon Outcome</th>\n",
       "      <th>age_fruction</th>\n",
       "      <th>shelterDays</th>\n",
       "      <th>Less_color</th>\n",
       "    </tr>\n",
       "  </thead>\n",
       "  <tbody>\n",
       "    <tr>\n",
       "      <th>0</th>\n",
       "      <td>1</td>\n",
       "      <td>1</td>\n",
       "      <td>1</td>\n",
       "      <td>1</td>\n",
       "      <td>1</td>\n",
       "      <td>7</td>\n",
       "      <td>1</td>\n",
       "      <td>1</td>\n",
       "    </tr>\n",
       "    <tr>\n",
       "      <th>1</th>\n",
       "      <td>1</td>\n",
       "      <td>2</td>\n",
       "      <td>2</td>\n",
       "      <td>1</td>\n",
       "      <td>1</td>\n",
       "      <td>7</td>\n",
       "      <td>1</td>\n",
       "      <td>2</td>\n",
       "    </tr>\n",
       "    <tr>\n",
       "      <th>2</th>\n",
       "      <td>1</td>\n",
       "      <td>3</td>\n",
       "      <td>1</td>\n",
       "      <td>1</td>\n",
       "      <td>1</td>\n",
       "      <td>8</td>\n",
       "      <td>1</td>\n",
       "      <td>1</td>\n",
       "    </tr>\n",
       "    <tr>\n",
       "      <th>3</th>\n",
       "      <td>1</td>\n",
       "      <td>1</td>\n",
       "      <td>1</td>\n",
       "      <td>1</td>\n",
       "      <td>2</td>\n",
       "      <td>8</td>\n",
       "      <td>1</td>\n",
       "      <td>3</td>\n",
       "    </tr>\n",
       "    <tr>\n",
       "      <th>4</th>\n",
       "      <td>1</td>\n",
       "      <td>1</td>\n",
       "      <td>1</td>\n",
       "      <td>1</td>\n",
       "      <td>2</td>\n",
       "      <td>8</td>\n",
       "      <td>1</td>\n",
       "      <td>3</td>\n",
       "    </tr>\n",
       "  </tbody>\n",
       "</table>\n",
       "</div>"
      ],
      "text/plain": [
       "  Name Intake Type Outcome Type Animal Type Sex upon Outcome age_fruction  \\\n",
       "0    1           1            1           1                1            7   \n",
       "1    1           2            2           1                1            7   \n",
       "2    1           3            1           1                1            8   \n",
       "3    1           1            1           1                2            8   \n",
       "4    1           1            1           1                2            8   \n",
       "\n",
       "   shelterDays Less_color  \n",
       "0            1          1  \n",
       "1            1          2  \n",
       "2            1          1  \n",
       "3            1          3  \n",
       "4            1          3  "
      ]
     },
     "execution_count": 58,
     "metadata": {},
     "output_type": "execute_result"
    }
   ],
   "source": [
    "animalLst = list(dfN['Animal Type'].unique())\n",
    "animal_codes = list(range(1, len(colorLst)+1, 1))\n",
    "for intake_type, code in zip(animalLst, animal_codes): \n",
    "    dfN.loc[dfN['Animal Type'] == intake_type, 'Animal Type'] = code \n",
    "dfN.head(5)"
   ]
  },
  {
   "cell_type": "code",
   "execution_count": null,
   "metadata": {
    "id": "JoSWh-7huUQ_",
    "outputId": "3b53a3f1-23ce-4c25-f07f-867a06d04e10"
   },
   "outputs": [
    {
     "data": {
      "text/plain": [
       "array([1, 2, 3, 4, 5], dtype=int64)"
      ]
     },
     "execution_count": 61,
     "metadata": {},
     "output_type": "execute_result"
    }
   ],
   "source": [
    "dfN.shelterDays.unique()"
   ]
  },
  {
   "cell_type": "code",
   "execution_count": null,
   "metadata": {
    "id": "wa1EvXJluURA"
   },
   "outputs": [],
   "source": [
    "dfN.to_csv('coded_animals.csv', index=False)"
   ]
  },
  {
   "cell_type": "code",
   "execution_count": null,
   "metadata": {
    "id": "SBa8ZGKPuURA"
   },
   "outputs": [],
   "source": [
    "df.loc[df['shelterDays'] <=5, 'shelterDays'] = 1\n",
    "df.loc[(df['shelterDays'] > 5) & (df['shelterDays'] <= 10), 'shelterDays'] = 2\n",
    "df.loc[(df['shelterDays'] > 10) & (df['shelterDays'] <= 15), 'shelterDays'] = 3\n",
    "df.loc[(df['shelterDays'] > 15) & (df['shelterDays'] <= 50), 'shelterDays'] = 4\n",
    "df.loc[df['shelterDays'] > 50, 'shelterDays'] = 5"
   ]
  },
  {
   "cell_type": "code",
   "execution_count": null,
   "metadata": {
    "id": "JlxBQ81quURA",
    "outputId": "c73402da-3f25-4089-ec47-e59f560930e3",
    "scrolled": true
   },
   "outputs": [
    {
     "name": "stdout",
     "output_type": "stream",
     "text": [
      "These are codes for outtakes\n"
     ]
    },
    {
     "data": {
      "text/plain": [
       "[('Rto-Adopt', 1),\n",
       " ('Transfer', 2),\n",
       " ('Missing', 3),\n",
       " ('Adoption', 4),\n",
       " ('Euthanasia', 5),\n",
       " ('Died', 6)]"
      ]
     },
     "metadata": {},
     "output_type": "display_data"
    },
    {
     "name": "stdout",
     "output_type": "stream",
     "text": [
      "These are codes for ages\n"
     ]
    },
    {
     "data": {
      "text/plain": [
       "[('10-15 years', 7),\n",
       " ('more than 15 years', 8),\n",
       " ('5-10 years', 6),\n",
       " ('2-5 years', 5),\n",
       " ('1-2 years', 4),\n",
       " ('6-12 months', 3),\n",
       " ('1-6 months', 2),\n",
       " ('up to month', 1)]"
      ]
     },
     "metadata": {},
     "output_type": "display_data"
    },
    {
     "name": "stdout",
     "output_type": "stream",
     "text": [
      "These are codes for intakes\n"
     ]
    },
    {
     "data": {
      "text/plain": [
       "[('Stray', 1),\n",
       " ('Owner Surrender', 2),\n",
       " ('Public Assist', 3),\n",
       " ('Euthanasia Request', 4),\n",
       " ('Abandoned', 5),\n",
       " ('Wildlife', 6)]"
      ]
     },
     "metadata": {},
     "output_type": "display_data"
    },
    {
     "name": "stdout",
     "output_type": "stream",
     "text": [
      "These are codes for sex: 0 - unknown, 1-male, 2-female\n",
      "These are codes for colors\n"
     ]
    },
    {
     "data": {
      "text/plain": [
       "[('BrownSome', 1),\n",
       " ('Tricolor', 2),\n",
       " ('BlackGreySome', 3),\n",
       " ('WhiteSome', 4),\n",
       " ('Redsome', 5),\n",
       " ('Othersome', 6)]"
      ]
     },
     "metadata": {},
     "output_type": "display_data"
    },
    {
     "name": "stdout",
     "output_type": "stream",
     "text": [
      "These are codes for abimal types\n"
     ]
    },
    {
     "data": {
      "text/plain": [
       "[('Dog', 1), ('Bird', 2), ('Cat', 3), ('Other', 4), ('Livestock', 5)]"
      ]
     },
     "metadata": {},
     "output_type": "display_data"
    },
    {
     "name": "stdout",
     "output_type": "stream",
     "text": [
      "These are codes for days in shelter\n"
     ]
    },
    {
     "data": {
      "text/plain": [
       "'Less than 5:1 5-10 days:2 10-15 days:3 15-50 days:4 more than 50 days:5'"
      ]
     },
     "metadata": {},
     "output_type": "display_data"
    }
   ],
   "source": [
    "print('These are codes for outtakes')\n",
    "display(list(zip(outakeLst, out_codes)))\n",
    "print('These are codes for ages')\n",
    "display(list(zip(agesW, ages)))\n",
    "print('These are codes for intakes')\n",
    "display(list(zip(intakesLst, intakes_codes)))\n",
    "print('These are codes for sex: 0 - unknown, 1-male, 2-female')\n",
    "print('These are codes for colors')\n",
    "display(list(zip(colorLst, color_codes)))\n",
    "print('These are codes for abimal types')\n",
    "display(list(zip(animalLst, animal_codes)))\n",
    "print('These are codes for days in shelter')\n",
    "display('Less than 5:1 5-10 days:2 10-15 days:3 15-50 days:4 more than 50 days:5')\n",
    "\n",
    "\n"
   ]
  },
  {
   "cell_type": "code",
   "execution_count": null,
   "metadata": {
    "id": "FDvs9eAPuURA",
    "outputId": "29717a94-66bc-4747-cd9a-92773487f76a"
   },
   "outputs": [
    {
     "data": {
      "text/plain": [
       "0"
      ]
     },
     "execution_count": 66,
     "metadata": {},
     "output_type": "execute_result"
    }
   ],
   "source": [
    "dfN.Less_color.isna().sum()"
   ]
  },
  {
   "cell_type": "markdown",
   "metadata": {
    "id": "3hiMJiWquURA"
   },
   "source": [
    "### Building the ML model "
   ]
  },
  {
   "cell_type": "code",
   "execution_count": null,
   "metadata": {
    "id": "QZVr-esCuURB",
    "scrolled": true
   },
   "outputs": [],
   "source": [
    "import pandas as pd\n",
    "import numpy as np\n",
    "import seaborn as sns \n",
    "import traceback\n",
    "import re\n",
    "from datetime import datetime \n",
    "import matplotlib.pyplot as plt"
   ]
  },
  {
   "cell_type": "code",
   "execution_count": null,
   "metadata": {
    "id": "RuQUuH2_uURB",
    "outputId": "1529d805-dead-4617-9169-5190cae41877",
    "scrolled": true
   },
   "outputs": [
    {
     "data": {
      "text/html": [
       "<div>\n",
       "<style scoped>\n",
       "    .dataframe tbody tr th:only-of-type {\n",
       "        vertical-align: middle;\n",
       "    }\n",
       "\n",
       "    .dataframe tbody tr th {\n",
       "        vertical-align: top;\n",
       "    }\n",
       "\n",
       "    .dataframe thead th {\n",
       "        text-align: right;\n",
       "    }\n",
       "</style>\n",
       "<table border=\"1\" class=\"dataframe\">\n",
       "  <thead>\n",
       "    <tr style=\"text-align: right;\">\n",
       "      <th></th>\n",
       "      <th>Name</th>\n",
       "      <th>Intake Type</th>\n",
       "      <th>Outcome Type</th>\n",
       "      <th>Animal Type</th>\n",
       "      <th>Sex upon Outcome</th>\n",
       "      <th>age_fruction</th>\n",
       "      <th>shelterDays</th>\n",
       "      <th>Less_color</th>\n",
       "    </tr>\n",
       "  </thead>\n",
       "  <tbody>\n",
       "    <tr>\n",
       "      <th>0</th>\n",
       "      <td>1</td>\n",
       "      <td>1</td>\n",
       "      <td>1</td>\n",
       "      <td>1</td>\n",
       "      <td>1</td>\n",
       "      <td>7</td>\n",
       "      <td>1</td>\n",
       "      <td>1</td>\n",
       "    </tr>\n",
       "    <tr>\n",
       "      <th>1</th>\n",
       "      <td>1</td>\n",
       "      <td>2</td>\n",
       "      <td>2</td>\n",
       "      <td>1</td>\n",
       "      <td>1</td>\n",
       "      <td>7</td>\n",
       "      <td>1</td>\n",
       "      <td>2</td>\n",
       "    </tr>\n",
       "    <tr>\n",
       "      <th>2</th>\n",
       "      <td>1</td>\n",
       "      <td>3</td>\n",
       "      <td>1</td>\n",
       "      <td>1</td>\n",
       "      <td>1</td>\n",
       "      <td>8</td>\n",
       "      <td>1</td>\n",
       "      <td>1</td>\n",
       "    </tr>\n",
       "    <tr>\n",
       "      <th>3</th>\n",
       "      <td>1</td>\n",
       "      <td>1</td>\n",
       "      <td>1</td>\n",
       "      <td>1</td>\n",
       "      <td>2</td>\n",
       "      <td>8</td>\n",
       "      <td>1</td>\n",
       "      <td>3</td>\n",
       "    </tr>\n",
       "    <tr>\n",
       "      <th>4</th>\n",
       "      <td>1</td>\n",
       "      <td>1</td>\n",
       "      <td>1</td>\n",
       "      <td>1</td>\n",
       "      <td>2</td>\n",
       "      <td>8</td>\n",
       "      <td>1</td>\n",
       "      <td>3</td>\n",
       "    </tr>\n",
       "  </tbody>\n",
       "</table>\n",
       "</div>"
      ],
      "text/plain": [
       "   Name  Intake Type  Outcome Type  Animal Type  Sex upon Outcome  \\\n",
       "0     1            1             1            1                 1   \n",
       "1     1            2             2            1                 1   \n",
       "2     1            3             1            1                 1   \n",
       "3     1            1             1            1                 2   \n",
       "4     1            1             1            1                 2   \n",
       "\n",
       "   age_fruction  shelterDays  Less_color  \n",
       "0             7            1           1  \n",
       "1             7            1           2  \n",
       "2             8            1           1  \n",
       "3             8            1           3  \n",
       "4             8            1           3  "
      ]
     },
     "execution_count": 84,
     "metadata": {},
     "output_type": "execute_result"
    }
   ],
   "source": [
    "df = pd.read_csv('coded_animals.csv')\n",
    "df.head()"
   ]
  },
  {
   "cell_type": "code",
   "execution_count": null,
   "metadata": {
    "id": "xcjdktJyuURB",
    "outputId": "cd091c08-49d6-4d81-af72-57b6af613ad0"
   },
   "outputs": [
    {
     "data": {
      "text/html": [
       "<div>\n",
       "<style scoped>\n",
       "    .dataframe tbody tr th:only-of-type {\n",
       "        vertical-align: middle;\n",
       "    }\n",
       "\n",
       "    .dataframe tbody tr th {\n",
       "        vertical-align: top;\n",
       "    }\n",
       "\n",
       "    .dataframe thead th {\n",
       "        text-align: right;\n",
       "    }\n",
       "</style>\n",
       "<table border=\"1\" class=\"dataframe\">\n",
       "  <thead>\n",
       "    <tr style=\"text-align: right;\">\n",
       "      <th></th>\n",
       "      <th>Name</th>\n",
       "      <th>Intake Type</th>\n",
       "      <th>Outcome Type</th>\n",
       "      <th>Animal Type</th>\n",
       "      <th>Sex upon Outcome</th>\n",
       "      <th>age_fruction</th>\n",
       "      <th>shelterDays</th>\n",
       "      <th>Less_color</th>\n",
       "    </tr>\n",
       "  </thead>\n",
       "  <tbody>\n",
       "    <tr>\n",
       "      <th>count</th>\n",
       "      <td>127610.000000</td>\n",
       "      <td>127610.000000</td>\n",
       "      <td>127610.000000</td>\n",
       "      <td>127610.000000</td>\n",
       "      <td>127610.000000</td>\n",
       "      <td>127610.000000</td>\n",
       "      <td>127610.000000</td>\n",
       "      <td>127610.000000</td>\n",
       "    </tr>\n",
       "    <tr>\n",
       "      <th>mean</th>\n",
       "      <td>0.674297</td>\n",
       "      <td>1.560199</td>\n",
       "      <td>3.022122</td>\n",
       "      <td>1.997014</td>\n",
       "      <td>1.353812</td>\n",
       "      <td>3.656853</td>\n",
       "      <td>2.142732</td>\n",
       "      <td>2.663655</td>\n",
       "    </tr>\n",
       "    <tr>\n",
       "      <th>std</th>\n",
       "      <td>0.468639</td>\n",
       "      <td>1.141420</td>\n",
       "      <td>1.335325</td>\n",
       "      <td>1.083415</td>\n",
       "      <td>0.636985</td>\n",
       "      <td>1.691684</td>\n",
       "      <td>1.447432</td>\n",
       "      <td>1.568030</td>\n",
       "    </tr>\n",
       "    <tr>\n",
       "      <th>min</th>\n",
       "      <td>0.000000</td>\n",
       "      <td>1.000000</td>\n",
       "      <td>1.000000</td>\n",
       "      <td>1.000000</td>\n",
       "      <td>0.000000</td>\n",
       "      <td>1.000000</td>\n",
       "      <td>1.000000</td>\n",
       "      <td>1.000000</td>\n",
       "    </tr>\n",
       "    <tr>\n",
       "      <th>25%</th>\n",
       "      <td>0.000000</td>\n",
       "      <td>1.000000</td>\n",
       "      <td>2.000000</td>\n",
       "      <td>1.000000</td>\n",
       "      <td>1.000000</td>\n",
       "      <td>2.000000</td>\n",
       "      <td>1.000000</td>\n",
       "      <td>1.000000</td>\n",
       "    </tr>\n",
       "    <tr>\n",
       "      <th>50%</th>\n",
       "      <td>1.000000</td>\n",
       "      <td>1.000000</td>\n",
       "      <td>4.000000</td>\n",
       "      <td>1.000000</td>\n",
       "      <td>1.000000</td>\n",
       "      <td>4.000000</td>\n",
       "      <td>1.000000</td>\n",
       "      <td>3.000000</td>\n",
       "    </tr>\n",
       "    <tr>\n",
       "      <th>75%</th>\n",
       "      <td>1.000000</td>\n",
       "      <td>2.000000</td>\n",
       "      <td>4.000000</td>\n",
       "      <td>3.000000</td>\n",
       "      <td>2.000000</td>\n",
       "      <td>5.000000</td>\n",
       "      <td>4.000000</td>\n",
       "      <td>4.000000</td>\n",
       "    </tr>\n",
       "    <tr>\n",
       "      <th>max</th>\n",
       "      <td>1.000000</td>\n",
       "      <td>6.000000</td>\n",
       "      <td>6.000000</td>\n",
       "      <td>5.000000</td>\n",
       "      <td>2.000000</td>\n",
       "      <td>8.000000</td>\n",
       "      <td>5.000000</td>\n",
       "      <td>6.000000</td>\n",
       "    </tr>\n",
       "  </tbody>\n",
       "</table>\n",
       "</div>"
      ],
      "text/plain": [
       "                Name    Intake Type   Outcome Type    Animal Type  \\\n",
       "count  127610.000000  127610.000000  127610.000000  127610.000000   \n",
       "mean        0.674297       1.560199       3.022122       1.997014   \n",
       "std         0.468639       1.141420       1.335325       1.083415   \n",
       "min         0.000000       1.000000       1.000000       1.000000   \n",
       "25%         0.000000       1.000000       2.000000       1.000000   \n",
       "50%         1.000000       1.000000       4.000000       1.000000   \n",
       "75%         1.000000       2.000000       4.000000       3.000000   \n",
       "max         1.000000       6.000000       6.000000       5.000000   \n",
       "\n",
       "       Sex upon Outcome   age_fruction    shelterDays     Less_color  \n",
       "count     127610.000000  127610.000000  127610.000000  127610.000000  \n",
       "mean           1.353812       3.656853       2.142732       2.663655  \n",
       "std            0.636985       1.691684       1.447432       1.568030  \n",
       "min            0.000000       1.000000       1.000000       1.000000  \n",
       "25%            1.000000       2.000000       1.000000       1.000000  \n",
       "50%            1.000000       4.000000       1.000000       3.000000  \n",
       "75%            2.000000       5.000000       4.000000       4.000000  \n",
       "max            2.000000       8.000000       5.000000       6.000000  "
      ]
     },
     "execution_count": 86,
     "metadata": {},
     "output_type": "execute_result"
    }
   ],
   "source": [
    "df.describe()"
   ]
  },
  {
   "cell_type": "code",
   "execution_count": null,
   "metadata": {
    "id": "El1jx9inuURB",
    "outputId": "74752a5f-093d-4682-a071-a36163916e08"
   },
   "outputs": [
    {
     "data": {
      "text/html": [
       "<div>\n",
       "<style scoped>\n",
       "    .dataframe tbody tr th:only-of-type {\n",
       "        vertical-align: middle;\n",
       "    }\n",
       "\n",
       "    .dataframe tbody tr th {\n",
       "        vertical-align: top;\n",
       "    }\n",
       "\n",
       "    .dataframe thead th {\n",
       "        text-align: right;\n",
       "    }\n",
       "</style>\n",
       "<table border=\"1\" class=\"dataframe\">\n",
       "  <thead>\n",
       "    <tr style=\"text-align: right;\">\n",
       "      <th></th>\n",
       "      <th>Name</th>\n",
       "      <th>Intake Type</th>\n",
       "      <th>Outcome Type</th>\n",
       "      <th>Animal Type</th>\n",
       "      <th>Sex upon Outcome</th>\n",
       "      <th>age_fruction</th>\n",
       "      <th>shelterDays</th>\n",
       "      <th>Less_color</th>\n",
       "    </tr>\n",
       "  </thead>\n",
       "  <tbody>\n",
       "    <tr>\n",
       "      <th>Name</th>\n",
       "      <td>1.000000</td>\n",
       "      <td>-0.136046</td>\n",
       "      <td>-0.079838</td>\n",
       "      <td>-0.344154</td>\n",
       "      <td>0.262579</td>\n",
       "      <td>0.299680</td>\n",
       "      <td>0.345186</td>\n",
       "      <td>-0.040710</td>\n",
       "    </tr>\n",
       "    <tr>\n",
       "      <th>Intake Type</th>\n",
       "      <td>-0.136046</td>\n",
       "      <td>1.000000</td>\n",
       "      <td>0.247302</td>\n",
       "      <td>0.277154</td>\n",
       "      <td>-0.352359</td>\n",
       "      <td>0.136364</td>\n",
       "      <td>-0.104297</td>\n",
       "      <td>-0.075251</td>\n",
       "    </tr>\n",
       "    <tr>\n",
       "      <th>Outcome Type</th>\n",
       "      <td>-0.079838</td>\n",
       "      <td>0.247302</td>\n",
       "      <td>1.000000</td>\n",
       "      <td>0.226411</td>\n",
       "      <td>-0.099130</td>\n",
       "      <td>-0.142909</td>\n",
       "      <td>0.291642</td>\n",
       "      <td>-0.008333</td>\n",
       "    </tr>\n",
       "    <tr>\n",
       "      <th>Animal Type</th>\n",
       "      <td>-0.344154</td>\n",
       "      <td>0.277154</td>\n",
       "      <td>0.226411</td>\n",
       "      <td>1.000000</td>\n",
       "      <td>-0.248522</td>\n",
       "      <td>-0.291754</td>\n",
       "      <td>0.035357</td>\n",
       "      <td>0.222745</td>\n",
       "    </tr>\n",
       "    <tr>\n",
       "      <th>Sex upon Outcome</th>\n",
       "      <td>0.262579</td>\n",
       "      <td>-0.352359</td>\n",
       "      <td>-0.099130</td>\n",
       "      <td>-0.248522</td>\n",
       "      <td>1.000000</td>\n",
       "      <td>0.042871</td>\n",
       "      <td>0.150021</td>\n",
       "      <td>0.039072</td>\n",
       "    </tr>\n",
       "    <tr>\n",
       "      <th>age_fruction</th>\n",
       "      <td>0.299680</td>\n",
       "      <td>0.136364</td>\n",
       "      <td>-0.142909</td>\n",
       "      <td>-0.291754</td>\n",
       "      <td>0.042871</td>\n",
       "      <td>1.000000</td>\n",
       "      <td>-0.003507</td>\n",
       "      <td>-0.081393</td>\n",
       "    </tr>\n",
       "    <tr>\n",
       "      <th>shelterDays</th>\n",
       "      <td>0.345186</td>\n",
       "      <td>-0.104297</td>\n",
       "      <td>0.291642</td>\n",
       "      <td>0.035357</td>\n",
       "      <td>0.150021</td>\n",
       "      <td>-0.003507</td>\n",
       "      <td>1.000000</td>\n",
       "      <td>0.030371</td>\n",
       "    </tr>\n",
       "    <tr>\n",
       "      <th>Less_color</th>\n",
       "      <td>-0.040710</td>\n",
       "      <td>-0.075251</td>\n",
       "      <td>-0.008333</td>\n",
       "      <td>0.222745</td>\n",
       "      <td>0.039072</td>\n",
       "      <td>-0.081393</td>\n",
       "      <td>0.030371</td>\n",
       "      <td>1.000000</td>\n",
       "    </tr>\n",
       "  </tbody>\n",
       "</table>\n",
       "</div>"
      ],
      "text/plain": [
       "                      Name  Intake Type  Outcome Type  Animal Type  \\\n",
       "Name              1.000000    -0.136046     -0.079838    -0.344154   \n",
       "Intake Type      -0.136046     1.000000      0.247302     0.277154   \n",
       "Outcome Type     -0.079838     0.247302      1.000000     0.226411   \n",
       "Animal Type      -0.344154     0.277154      0.226411     1.000000   \n",
       "Sex upon Outcome  0.262579    -0.352359     -0.099130    -0.248522   \n",
       "age_fruction      0.299680     0.136364     -0.142909    -0.291754   \n",
       "shelterDays       0.345186    -0.104297      0.291642     0.035357   \n",
       "Less_color       -0.040710    -0.075251     -0.008333     0.222745   \n",
       "\n",
       "                  Sex upon Outcome  age_fruction  shelterDays  Less_color  \n",
       "Name                      0.262579      0.299680     0.345186   -0.040710  \n",
       "Intake Type              -0.352359      0.136364    -0.104297   -0.075251  \n",
       "Outcome Type             -0.099130     -0.142909     0.291642   -0.008333  \n",
       "Animal Type              -0.248522     -0.291754     0.035357    0.222745  \n",
       "Sex upon Outcome          1.000000      0.042871     0.150021    0.039072  \n",
       "age_fruction              0.042871      1.000000    -0.003507   -0.081393  \n",
       "shelterDays               0.150021     -0.003507     1.000000    0.030371  \n",
       "Less_color                0.039072     -0.081393     0.030371    1.000000  "
      ]
     },
     "execution_count": 87,
     "metadata": {},
     "output_type": "execute_result"
    }
   ],
   "source": [
    "df.corr()"
   ]
  },
  {
   "cell_type": "code",
   "execution_count": null,
   "metadata": {
    "id": "iptGy4RiuURB"
   },
   "outputs": [],
   "source": [
    "# 1 and 4 in outcomes are rto-adopt & adoption\n",
    "df.loc[(df['Outcome Type'] != 1) & (df['Outcome Type'] != 4), 'Outcome Type'] = 0\n",
    "df.loc[df['Outcome Type'] == 4, 'Outcome Type'] = 1\n",
    "Y_animal = df['Outcome Type']\n",
    "X_animal = df[['Name', 'Intake Type', 'Animal Type','Sex upon Outcome', 'age_fruction', 'shelterDays', 'Less_color']]"
   ]
  },
  {
   "cell_type": "code",
   "execution_count": null,
   "metadata": {
    "id": "WXq5XDpouURB",
    "outputId": "0cacb4c2-2160-4765-abed-814896966119"
   },
   "outputs": [
    {
     "name": "stdout",
     "output_type": "stream",
     "text": [
      "Accuracy of Logistic regression classifier on training set: 0.74\n",
      "Accuracy of Logistic regression classifier on test set: 0.74\n"
     ]
    }
   ],
   "source": [
    "from sklearn.linear_model import LogisticRegression\n",
    "from sklearn.model_selection import train_test_split\n",
    "X_train, X_test, y_train, y_test = train_test_split(X_animal, Y_animal, random_state = 0)\n",
    "\n",
    "clf = LogisticRegression().fit(X_train, y_train)\n",
    "\n",
    "print('Accuracy of Logistic regression classifier on training set: {:.2f}'\n",
    "     .format(clf.score(X_train, y_train)))\n",
    "print('Accuracy of Logistic regression classifier on test set: {:.2f}'\n",
    "     .format(clf.score(X_test, y_test)))"
   ]
  },
  {
   "cell_type": "markdown",
   "metadata": {
    "id": "hCB4OiapuURC"
   },
   "source": [
    "Looks like logistic regression is not the best option\n",
    "### Maybe I need to try KNN\n",
    "And I can use more outakes options"
   ]
  },
  {
   "cell_type": "code",
   "execution_count": null,
   "metadata": {
    "id": "LJDepT1IuURC",
    "outputId": "2e35d903-0416-41fe-b32c-e159dcf4a0fa",
    "scrolled": true
   },
   "outputs": [
    {
     "data": {
      "text/html": [
       "<div>\n",
       "<style scoped>\n",
       "    .dataframe tbody tr th:only-of-type {\n",
       "        vertical-align: middle;\n",
       "    }\n",
       "\n",
       "    .dataframe tbody tr th {\n",
       "        vertical-align: top;\n",
       "    }\n",
       "\n",
       "    .dataframe thead th {\n",
       "        text-align: right;\n",
       "    }\n",
       "</style>\n",
       "<table border=\"1\" class=\"dataframe\">\n",
       "  <thead>\n",
       "    <tr style=\"text-align: right;\">\n",
       "      <th></th>\n",
       "      <th>Name</th>\n",
       "      <th>Intake Type</th>\n",
       "      <th>Outcome Type</th>\n",
       "      <th>Animal Type</th>\n",
       "      <th>Sex upon Outcome</th>\n",
       "      <th>age_fruction</th>\n",
       "      <th>shelterDays</th>\n",
       "      <th>Less_color</th>\n",
       "    </tr>\n",
       "  </thead>\n",
       "  <tbody>\n",
       "    <tr>\n",
       "      <th>0</th>\n",
       "      <td>1</td>\n",
       "      <td>1</td>\n",
       "      <td>1</td>\n",
       "      <td>1</td>\n",
       "      <td>1</td>\n",
       "      <td>7</td>\n",
       "      <td>1</td>\n",
       "      <td>1</td>\n",
       "    </tr>\n",
       "    <tr>\n",
       "      <th>1</th>\n",
       "      <td>1</td>\n",
       "      <td>2</td>\n",
       "      <td>2</td>\n",
       "      <td>1</td>\n",
       "      <td>1</td>\n",
       "      <td>7</td>\n",
       "      <td>1</td>\n",
       "      <td>2</td>\n",
       "    </tr>\n",
       "    <tr>\n",
       "      <th>2</th>\n",
       "      <td>1</td>\n",
       "      <td>3</td>\n",
       "      <td>1</td>\n",
       "      <td>1</td>\n",
       "      <td>1</td>\n",
       "      <td>8</td>\n",
       "      <td>1</td>\n",
       "      <td>1</td>\n",
       "    </tr>\n",
       "    <tr>\n",
       "      <th>3</th>\n",
       "      <td>1</td>\n",
       "      <td>1</td>\n",
       "      <td>1</td>\n",
       "      <td>1</td>\n",
       "      <td>2</td>\n",
       "      <td>8</td>\n",
       "      <td>1</td>\n",
       "      <td>3</td>\n",
       "    </tr>\n",
       "    <tr>\n",
       "      <th>4</th>\n",
       "      <td>1</td>\n",
       "      <td>1</td>\n",
       "      <td>1</td>\n",
       "      <td>1</td>\n",
       "      <td>2</td>\n",
       "      <td>8</td>\n",
       "      <td>1</td>\n",
       "      <td>3</td>\n",
       "    </tr>\n",
       "  </tbody>\n",
       "</table>\n",
       "</div>"
      ],
      "text/plain": [
       "   Name  Intake Type  Outcome Type  Animal Type  Sex upon Outcome  \\\n",
       "0     1            1             1            1                 1   \n",
       "1     1            2             2            1                 1   \n",
       "2     1            3             1            1                 1   \n",
       "3     1            1             1            1                 2   \n",
       "4     1            1             1            1                 2   \n",
       "\n",
       "   age_fruction  shelterDays  Less_color  \n",
       "0             7            1           1  \n",
       "1             7            1           2  \n",
       "2             8            1           1  \n",
       "3             8            1           3  \n",
       "4             8            1           3  "
      ]
     },
     "execution_count": 91,
     "metadata": {},
     "output_type": "execute_result"
    }
   ],
   "source": [
    "df = pd.read_csv('coded_animals.csv')\n",
    "df.head()"
   ]
  },
  {
   "cell_type": "code",
   "execution_count": null,
   "metadata": {
    "id": "f-DZKtheuURC"
   },
   "outputs": [],
   "source": [
    "Y_animal = df['Outcome Type']\n",
    "X_animal = df[['Name', 'Intake Type', 'Animal Type','Sex upon Outcome', 'age_fruction', 'shelterDays', 'Less_color']]"
   ]
  },
  {
   "cell_type": "code",
   "execution_count": null,
   "metadata": {
    "id": "ejeKggN-uURC"
   },
   "outputs": [],
   "source": [
    "from sklearn.model_selection import train_test_split\n",
    "from sklearn.neighbors import KNeighborsClassifier"
   ]
  },
  {
   "cell_type": "code",
   "execution_count": null,
   "metadata": {
    "id": "W4z8QqIquURC",
    "outputId": "d4f685a5-a8d7-4769-c75d-2086c11ee393"
   },
   "outputs": [
    {
     "name": "stdout",
     "output_type": "stream",
     "text": [
      "Number of neighbours = 1\n",
      "0.6015735197316867\n",
      "Number of neighbours = 2\n",
      "0.588533993668307\n",
      "Number of neighbours = 3\n",
      "0.6450490549478105\n",
      "Number of neighbours = 4\n",
      "0.6465536156474313\n",
      "Number of neighbours = 5\n",
      "0.6613171175124597\n",
      "Number of neighbours = 6\n",
      "0.6587781713318497\n",
      "Number of neighbours = 7\n",
      "0.6685578158793843\n",
      "Number of neighbours = 8\n",
      "0.6682130207190546\n",
      "Number of neighbours = 9\n",
      "0.6781180453248911\n"
     ]
    }
   ],
   "source": [
    "X_train, X_test, y_train, y_test = train_test_split(X_animal, Y_animal, random_state=0)\n",
    "for K in range(1, 10): \n",
    "    knn = KNeighborsClassifier(n_neighbors = K)\n",
    "    knn.fit(X_train, y_train)\n",
    "    print('Number of neighbours = ' + str(K))\n",
    "    print(knn.score(X_test, y_test))"
   ]
  },
  {
   "cell_type": "code",
   "execution_count": null,
   "metadata": {
    "id": "iKWEA7fUuURC",
    "outputId": "91255316-3343-40bc-a95f-bbe08af700d3",
    "scrolled": true
   },
   "outputs": [
    {
     "name": "stdout",
     "output_type": "stream",
     "text": [
      "Number of neighbours = 3\n",
      "0.73720339779958\n",
      "Number of neighbours = 4\n",
      "0.7189919443312541\n",
      "Number of neighbours = 5\n",
      "0.7458546218223991\n",
      "Number of neighbours = 6\n",
      "0.7334733410651036\n",
      "Number of neighbours = 7\n",
      "0.7540356706265868\n",
      "Number of neighbours = 8\n",
      "0.7464501770993324\n",
      "Number of neighbours = 9\n",
      "0.7624047895182271\n"
     ]
    }
   ],
   "source": [
    "#not really cool. What if I leave data with 2 outcomes? \n",
    "# 1 and 4 in outcomes are rto-adopt & adoption\n",
    "df2 = df.copy()\n",
    "df2.loc[(df2['Outcome Type'] != 1) & (df2['Outcome Type'] != 4), 'Outcome Type'] = 0\n",
    "df2.loc[df2['Outcome Type'] == 4, 'Outcome Type'] = 1\n",
    "Y_animal = df2['Outcome Type']\n",
    "X_animal = df2[['Name', 'Intake Type', 'Animal Type','Sex upon Outcome', 'age_fruction', 'shelterDays', 'Less_color']]\n",
    "\n",
    "X_train, X_test, y_train, y_test = train_test_split(X_animal, Y_animal, random_state=0)\n",
    "for K in range(3, 10): \n",
    "    knn = KNeighborsClassifier(n_neighbors = K)\n",
    "    knn.fit(X_train, y_train)\n",
    "    print('Number of neighbours = ' + str(K))\n",
    "    print(knn.score(X_test, y_test))"
   ]
  },
  {
   "cell_type": "code",
   "execution_count": null,
   "metadata": {
    "id": "IZ8wfKVvuURD",
    "outputId": "6c2f9f9f-c33d-4bb8-860d-8bbce4d127d5"
   },
   "outputs": [
    {
     "name": "stdout",
     "output_type": "stream",
     "text": [
      "Name removed\n",
      "Number of neighbours = 9\n",
      "Max score = 0.7501488888192333\n",
      "Intake Type removed\n",
      "Number of neighbours = 9\n",
      "Max score = 0.7588628028712033\n",
      "Animal Type removed\n",
      "Number of neighbours = 7\n",
      "Max score = 0.7513086543585242\n",
      "Sex upon Outcome removed\n",
      "Number of neighbours = 7\n",
      "Max score = 0.7620286493433219\n",
      "age_fruction removed\n",
      "Number of neighbours = 9\n",
      "Max score = 0.7431276055543365\n",
      "shelterDays removed\n",
      "Number of neighbours = 9\n",
      "Max score = 0.7440993010061749\n",
      "Less_color removed\n",
      "Number of neighbours = 9\n",
      "Max score = 0.7572955521424317\n"
     ]
    }
   ],
   "source": [
    "#not really better than logistic. What if I remove some predictors? \n",
    "for predictor in ['Name', 'Intake Type', 'Animal Type','Sex upon Outcome', 'age_fruction', 'shelterDays', 'Less_color']:\n",
    "    all_preds = ['Name', 'Intake Type', 'Animal Type','Sex upon Outcome', 'age_fruction', 'shelterDays', 'Less_color']\n",
    "    all_preds.remove(predictor)\n",
    "    print(predictor + ' removed')\n",
    "    Y_animal = df2['Outcome Type']\n",
    "    X_animal = df2[all_preds]\n",
    "\n",
    "    X_train, X_test, y_train, y_test = train_test_split(X_animal, Y_animal, random_state=0)\n",
    "    score = 0.1\n",
    "    for K in range(4, 10): \n",
    "        knn = KNeighborsClassifier(n_neighbors = K)\n",
    "        knn.fit(X_train, y_train)\n",
    "        score1 = knn.score(X_test, y_test)\n",
    "        if score1 > score:\n",
    "            score = score1\n",
    "            Kmax = K\n",
    "    print('Number of neighbours = ' + str(Kmax))\n",
    "    print('Max score = ' + str(score))\n",
    "\n"
   ]
  },
  {
   "cell_type": "code",
   "execution_count": null,
   "metadata": {
    "id": "BFhHJyyKuURD",
    "outputId": "57e0e852-f0b0-402e-8c5a-eef4d371c654"
   },
   "outputs": [
    {
     "name": "stdout",
     "output_type": "stream",
     "text": [
      "Number of neighbours 9\n",
      "0.775977180829389\n"
     ]
    }
   ],
   "source": [
    "all_preds = ['Name', 'Intake Type', 'Animal Type', 'age_fruction', 'shelterDays']\n",
    "Y_animal = df2['Outcome Type']\n",
    "X_animal = df2[all_preds]\n",
    "\n",
    "X_train, X_test, y_train, y_test = train_test_split(X_animal, Y_animal, random_state=0)\n",
    "     \n",
    "knn = KNeighborsClassifier(n_neighbors = 9)\n",
    "knn.fit(X_train, y_train)\n",
    "print('Number of neighbours 9')\n",
    "print(knn.score(X_test, y_test))\n"
   ]
  },
  {
   "cell_type": "code",
   "execution_count": null,
   "metadata": {
    "id": "L9k-XWVYuURD",
    "outputId": "f6de3fdf-4f98-44bf-ca40-b74937e116c6",
    "scrolled": true
   },
   "outputs": [
    {
     "data": {
      "text/plain": [
       "array([0], dtype=int64)"
      ]
     },
     "execution_count": 120,
     "metadata": {},
     "output_type": "execute_result"
    }
   ],
   "source": [
    "knn.predict(np.array([0, 5, 5, , 1]).reshape(1, -1))"
   ]
  },
  {
   "cell_type": "markdown",
   "metadata": {
    "id": "SEt29ZmZuURD"
   },
   "source": [
    "### I need to try decision tree"
   ]
  },
  {
   "cell_type": "code",
   "execution_count": null,
   "metadata": {
    "id": "vkzRGhstuURD",
    "outputId": "276a3022-d4c4-401b-ff05-06995e3e2c48"
   },
   "outputs": [
    {
     "name": "stdout",
     "output_type": "stream",
     "text": [
      "Accuracy of Decision Tree classifier on training set: 0.78\n",
      "Accuracy of Decision Tree classifier on test set: 0.78\n"
     ]
    }
   ],
   "source": [
    "from sklearn.tree import DecisionTreeClassifier\n",
    "\n",
    "Y_animal = df2['Outcome Type']\n",
    "X_animal = df2[['Name', 'Intake Type', 'Animal Type','Sex upon Outcome', 'age_fruction', 'shelterDays', 'Less_color']]\n",
    "\n",
    "X_train, X_test, y_train, y_test = train_test_split(X_animal, Y_animal, random_state=0)\n",
    "\n",
    "\n",
    "clf = DecisionTreeClassifier().fit(X_train, y_train)\n",
    "\n",
    "print('Accuracy of Decision Tree classifier on training set: {:.2f}'\n",
    "     .format(clf.score(X_train, y_train)))\n",
    "print('Accuracy of Decision Tree classifier on test set: {:.2f}'\n",
    "     .format(clf.score(X_test, y_test)))"
   ]
  },
  {
   "cell_type": "markdown",
   "metadata": {
    "id": "v3d6Cff1uURE"
   },
   "source": [
    "### Looks like the best accuracy is achived with KNN \n",
    "It is model with 9 neighbours with:\n",
    "* target: animal is adopted (1), animal is not adopted(0)\n",
    "* features: 'Name', 'Intake Type', 'Animal Type','age_fruction', 'shelterDays'\n",
    "<br> <br> The accuracy is 78%. Not a lot. Although maybe not bad if considered that the data was nominal and the outcome is strongly dependant on chance (humans' preferences, for example)."
   ]
  },
  {
   "cell_type": "code",
   "execution_count": null,
   "metadata": {
    "id": "5YqnttACuURE"
   },
   "outputs": [],
   "source": []
  }
 ],
 "metadata": {
  "colab": {
   "provenance": []
  },
  "kernelspec": {
   "display_name": "Python 3",
   "language": "python",
   "name": "python3"
  },
  "language_info": {
   "codemirror_mode": {
    "name": "ipython",
    "version": 3
   },
   "file_extension": ".py",
   "mimetype": "text/x-python",
   "name": "python",
   "nbconvert_exporter": "python",
   "pygments_lexer": "ipython3",
   "version": "3.8.8"
  }
 },
 "nbformat": 4,
 "nbformat_minor": 1
}
